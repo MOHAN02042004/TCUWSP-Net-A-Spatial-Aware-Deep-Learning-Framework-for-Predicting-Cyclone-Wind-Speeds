{
 "cells": [
  {
   "cell_type": "markdown",
   "id": "e48d3b42",
   "metadata": {
    "papermill": {
     "duration": 0.005093,
     "end_time": "2025-03-19T03:22:21.915239",
     "exception": false,
     "start_time": "2025-03-19T03:22:21.910146",
     "status": "completed"
    },
    "tags": []
   },
   "source": [
    "# Spatio-temporal LSTM Model for Calculating the Intensity of Tropical Cyclones"
   ]
  },
  {
   "cell_type": "code",
   "execution_count": 1,
   "id": "7f83dde0",
   "metadata": {
    "execution": {
     "iopub.execute_input": "2025-03-19T03:22:21.924980Z",
     "iopub.status.busy": "2025-03-19T03:22:21.924682Z",
     "iopub.status.idle": "2025-03-19T03:22:34.423336Z",
     "shell.execute_reply": "2025-03-19T03:22:34.422615Z"
    },
    "papermill": {
     "duration": 12.505237,
     "end_time": "2025-03-19T03:22:34.424915",
     "exception": false,
     "start_time": "2025-03-19T03:22:21.919678",
     "status": "completed"
    },
    "tags": []
   },
   "outputs": [],
   "source": [
    "import tensorflow as tf\n",
    "tf.keras.backend.clear_session()\n"
   ]
  },
  {
   "cell_type": "markdown",
   "id": "f5764f30",
   "metadata": {
    "papermill": {
     "duration": 0.005182,
     "end_time": "2025-03-19T03:22:34.435312",
     "exception": false,
     "start_time": "2025-03-19T03:22:34.430130",
     "status": "completed"
    },
    "tags": []
   },
   "source": [
    "# Building the Spatio-temporal LSTM Model"
   ]
  },
  {
   "cell_type": "code",
   "execution_count": 2,
   "id": "4da90d0e",
   "metadata": {
    "execution": {
     "iopub.execute_input": "2025-03-19T03:22:34.445063Z",
     "iopub.status.busy": "2025-03-19T03:22:34.444622Z",
     "iopub.status.idle": "2025-03-19T03:22:40.773792Z",
     "shell.execute_reply": "2025-03-19T03:22:40.773057Z"
    },
    "papermill": {
     "duration": 6.335482,
     "end_time": "2025-03-19T03:22:40.775057",
     "exception": false,
     "start_time": "2025-03-19T03:22:34.439575",
     "status": "completed"
    },
    "tags": []
   },
   "outputs": [
    {
     "data": {
      "text/html": [
       "<pre style=\"white-space:pre;overflow-x:auto;line-height:normal;font-family:Menlo,'DejaVu Sans Mono',consolas,'Courier New',monospace\"><span style=\"font-weight: bold\">Model: \"functional\"</span>\n",
       "</pre>\n"
      ],
      "text/plain": [
       "\u001b[1mModel: \"functional\"\u001b[0m\n"
      ]
     },
     "metadata": {},
     "output_type": "display_data"
    },
    {
     "data": {
      "text/html": [
       "<pre style=\"white-space:pre;overflow-x:auto;line-height:normal;font-family:Menlo,'DejaVu Sans Mono',consolas,'Courier New',monospace\">┏━━━━━━━━━━━━━━━━━━━━━━━━━━━━━━━━━━━━━━┳━━━━━━━━━━━━━━━━━━━━━━━━━━━━━┳━━━━━━━━━━━━━━━━━┓\n",
       "┃<span style=\"font-weight: bold\"> Layer (type)                         </span>┃<span style=\"font-weight: bold\"> Output Shape                </span>┃<span style=\"font-weight: bold\">         Param # </span>┃\n",
       "┡━━━━━━━━━━━━━━━━━━━━━━━━━━━━━━━━━━━━━━╇━━━━━━━━━━━━━━━━━━━━━━━━━━━━━╇━━━━━━━━━━━━━━━━━┩\n",
       "│ input_layer (<span style=\"color: #0087ff; text-decoration-color: #0087ff\">InputLayer</span>)             │ (<span style=\"color: #00af00; text-decoration-color: #00af00\">16</span>, <span style=\"color: #00af00; text-decoration-color: #00af00\">8</span>, <span style=\"color: #00af00; text-decoration-color: #00af00\">95</span>, <span style=\"color: #00af00; text-decoration-color: #00af00\">95</span>, <span style=\"color: #00af00; text-decoration-color: #00af00\">2</span>)          │               <span style=\"color: #00af00; text-decoration-color: #00af00\">0</span> │\n",
       "├──────────────────────────────────────┼─────────────────────────────┼─────────────────┤\n",
       "│ spatiotemporal_lstm                  │ (<span style=\"color: #00af00; text-decoration-color: #00af00\">16</span>, <span style=\"color: #00af00; text-decoration-color: #00af00\">8</span>, <span style=\"color: #00af00; text-decoration-color: #00af00\">95</span>, <span style=\"color: #00af00; text-decoration-color: #00af00\">95</span>, <span style=\"color: #00af00; text-decoration-color: #00af00\">32</span>)         │           <span style=\"color: #00af00; text-decoration-color: #00af00\">6,336</span> │\n",
       "│ (<span style=\"color: #0087ff; text-decoration-color: #0087ff\">SpatiotemporalLSTM</span>)                 │                             │                 │\n",
       "├──────────────────────────────────────┼─────────────────────────────┼─────────────────┤\n",
       "│ conv3d (<span style=\"color: #0087ff; text-decoration-color: #0087ff\">Conv3D</span>)                      │ (<span style=\"color: #00af00; text-decoration-color: #00af00\">16</span>, <span style=\"color: #00af00; text-decoration-color: #00af00\">8</span>, <span style=\"color: #00af00; text-decoration-color: #00af00\">95</span>, <span style=\"color: #00af00; text-decoration-color: #00af00\">95</span>, <span style=\"color: #00af00; text-decoration-color: #00af00\">32</span>)         │          <span style=\"color: #00af00; text-decoration-color: #00af00\">27,680</span> │\n",
       "├──────────────────────────────────────┼─────────────────────────────┼─────────────────┤\n",
       "│ max_pooling3d (<span style=\"color: #0087ff; text-decoration-color: #0087ff\">MaxPooling3D</span>)         │ (<span style=\"color: #00af00; text-decoration-color: #00af00\">16</span>, <span style=\"color: #00af00; text-decoration-color: #00af00\">4</span>, <span style=\"color: #00af00; text-decoration-color: #00af00\">48</span>, <span style=\"color: #00af00; text-decoration-color: #00af00\">48</span>, <span style=\"color: #00af00; text-decoration-color: #00af00\">32</span>)         │               <span style=\"color: #00af00; text-decoration-color: #00af00\">0</span> │\n",
       "├──────────────────────────────────────┼─────────────────────────────┼─────────────────┤\n",
       "│ spatiotemporal_lstm_1                │ (<span style=\"color: #00af00; text-decoration-color: #00af00\">16</span>, <span style=\"color: #00af00; text-decoration-color: #00af00\">4</span>, <span style=\"color: #00af00; text-decoration-color: #00af00\">48</span>, <span style=\"color: #00af00; text-decoration-color: #00af00\">48</span>, <span style=\"color: #00af00; text-decoration-color: #00af00\">64</span>)         │         <span style=\"color: #00af00; text-decoration-color: #00af00\">137,728</span> │\n",
       "│ (<span style=\"color: #0087ff; text-decoration-color: #0087ff\">SpatiotemporalLSTM</span>)                 │                             │                 │\n",
       "├──────────────────────────────────────┼─────────────────────────────┼─────────────────┤\n",
       "│ conv3d_1 (<span style=\"color: #0087ff; text-decoration-color: #0087ff\">Conv3D</span>)                    │ (<span style=\"color: #00af00; text-decoration-color: #00af00\">16</span>, <span style=\"color: #00af00; text-decoration-color: #00af00\">4</span>, <span style=\"color: #00af00; text-decoration-color: #00af00\">48</span>, <span style=\"color: #00af00; text-decoration-color: #00af00\">48</span>, <span style=\"color: #00af00; text-decoration-color: #00af00\">64</span>)         │         <span style=\"color: #00af00; text-decoration-color: #00af00\">110,656</span> │\n",
       "├──────────────────────────────────────┼─────────────────────────────┼─────────────────┤\n",
       "│ max_pooling3d_1 (<span style=\"color: #0087ff; text-decoration-color: #0087ff\">MaxPooling3D</span>)       │ (<span style=\"color: #00af00; text-decoration-color: #00af00\">16</span>, <span style=\"color: #00af00; text-decoration-color: #00af00\">2</span>, <span style=\"color: #00af00; text-decoration-color: #00af00\">24</span>, <span style=\"color: #00af00; text-decoration-color: #00af00\">24</span>, <span style=\"color: #00af00; text-decoration-color: #00af00\">64</span>)         │               <span style=\"color: #00af00; text-decoration-color: #00af00\">0</span> │\n",
       "├──────────────────────────────────────┼─────────────────────────────┼─────────────────┤\n",
       "│ spatiotemporal_lstm_2                │ (<span style=\"color: #00af00; text-decoration-color: #00af00\">16</span>, <span style=\"color: #00af00; text-decoration-color: #00af00\">2</span>, <span style=\"color: #00af00; text-decoration-color: #00af00\">24</span>, <span style=\"color: #00af00; text-decoration-color: #00af00\">24</span>, <span style=\"color: #00af00; text-decoration-color: #00af00\">128</span>)        │         <span style=\"color: #00af00; text-decoration-color: #00af00\">549,888</span> │\n",
       "│ (<span style=\"color: #0087ff; text-decoration-color: #0087ff\">SpatiotemporalLSTM</span>)                 │                             │                 │\n",
       "├──────────────────────────────────────┼─────────────────────────────┼─────────────────┤\n",
       "│ conv3d_2 (<span style=\"color: #0087ff; text-decoration-color: #0087ff\">Conv3D</span>)                    │ (<span style=\"color: #00af00; text-decoration-color: #00af00\">16</span>, <span style=\"color: #00af00; text-decoration-color: #00af00\">2</span>, <span style=\"color: #00af00; text-decoration-color: #00af00\">24</span>, <span style=\"color: #00af00; text-decoration-color: #00af00\">24</span>, <span style=\"color: #00af00; text-decoration-color: #00af00\">128</span>)        │         <span style=\"color: #00af00; text-decoration-color: #00af00\">442,496</span> │\n",
       "├──────────────────────────────────────┼─────────────────────────────┼─────────────────┤\n",
       "│ max_pooling3d_2 (<span style=\"color: #0087ff; text-decoration-color: #0087ff\">MaxPooling3D</span>)       │ (<span style=\"color: #00af00; text-decoration-color: #00af00\">16</span>, <span style=\"color: #00af00; text-decoration-color: #00af00\">1</span>, <span style=\"color: #00af00; text-decoration-color: #00af00\">12</span>, <span style=\"color: #00af00; text-decoration-color: #00af00\">12</span>, <span style=\"color: #00af00; text-decoration-color: #00af00\">128</span>)        │               <span style=\"color: #00af00; text-decoration-color: #00af00\">0</span> │\n",
       "├──────────────────────────────────────┼─────────────────────────────┼─────────────────┤\n",
       "│ flatten (<span style=\"color: #0087ff; text-decoration-color: #0087ff\">Flatten</span>)                    │ (<span style=\"color: #00af00; text-decoration-color: #00af00\">16</span>, <span style=\"color: #00af00; text-decoration-color: #00af00\">18432</span>)                 │               <span style=\"color: #00af00; text-decoration-color: #00af00\">0</span> │\n",
       "└──────────────────────────────────────┴─────────────────────────────┴─────────────────┘\n",
       "</pre>\n"
      ],
      "text/plain": [
       "┏━━━━━━━━━━━━━━━━━━━━━━━━━━━━━━━━━━━━━━┳━━━━━━━━━━━━━━━━━━━━━━━━━━━━━┳━━━━━━━━━━━━━━━━━┓\n",
       "┃\u001b[1m \u001b[0m\u001b[1mLayer (type)                        \u001b[0m\u001b[1m \u001b[0m┃\u001b[1m \u001b[0m\u001b[1mOutput Shape               \u001b[0m\u001b[1m \u001b[0m┃\u001b[1m \u001b[0m\u001b[1m        Param #\u001b[0m\u001b[1m \u001b[0m┃\n",
       "┡━━━━━━━━━━━━━━━━━━━━━━━━━━━━━━━━━━━━━━╇━━━━━━━━━━━━━━━━━━━━━━━━━━━━━╇━━━━━━━━━━━━━━━━━┩\n",
       "│ input_layer (\u001b[38;5;33mInputLayer\u001b[0m)             │ (\u001b[38;5;34m16\u001b[0m, \u001b[38;5;34m8\u001b[0m, \u001b[38;5;34m95\u001b[0m, \u001b[38;5;34m95\u001b[0m, \u001b[38;5;34m2\u001b[0m)          │               \u001b[38;5;34m0\u001b[0m │\n",
       "├──────────────────────────────────────┼─────────────────────────────┼─────────────────┤\n",
       "│ spatiotemporal_lstm                  │ (\u001b[38;5;34m16\u001b[0m, \u001b[38;5;34m8\u001b[0m, \u001b[38;5;34m95\u001b[0m, \u001b[38;5;34m95\u001b[0m, \u001b[38;5;34m32\u001b[0m)         │           \u001b[38;5;34m6,336\u001b[0m │\n",
       "│ (\u001b[38;5;33mSpatiotemporalLSTM\u001b[0m)                 │                             │                 │\n",
       "├──────────────────────────────────────┼─────────────────────────────┼─────────────────┤\n",
       "│ conv3d (\u001b[38;5;33mConv3D\u001b[0m)                      │ (\u001b[38;5;34m16\u001b[0m, \u001b[38;5;34m8\u001b[0m, \u001b[38;5;34m95\u001b[0m, \u001b[38;5;34m95\u001b[0m, \u001b[38;5;34m32\u001b[0m)         │          \u001b[38;5;34m27,680\u001b[0m │\n",
       "├──────────────────────────────────────┼─────────────────────────────┼─────────────────┤\n",
       "│ max_pooling3d (\u001b[38;5;33mMaxPooling3D\u001b[0m)         │ (\u001b[38;5;34m16\u001b[0m, \u001b[38;5;34m4\u001b[0m, \u001b[38;5;34m48\u001b[0m, \u001b[38;5;34m48\u001b[0m, \u001b[38;5;34m32\u001b[0m)         │               \u001b[38;5;34m0\u001b[0m │\n",
       "├──────────────────────────────────────┼─────────────────────────────┼─────────────────┤\n",
       "│ spatiotemporal_lstm_1                │ (\u001b[38;5;34m16\u001b[0m, \u001b[38;5;34m4\u001b[0m, \u001b[38;5;34m48\u001b[0m, \u001b[38;5;34m48\u001b[0m, \u001b[38;5;34m64\u001b[0m)         │         \u001b[38;5;34m137,728\u001b[0m │\n",
       "│ (\u001b[38;5;33mSpatiotemporalLSTM\u001b[0m)                 │                             │                 │\n",
       "├──────────────────────────────────────┼─────────────────────────────┼─────────────────┤\n",
       "│ conv3d_1 (\u001b[38;5;33mConv3D\u001b[0m)                    │ (\u001b[38;5;34m16\u001b[0m, \u001b[38;5;34m4\u001b[0m, \u001b[38;5;34m48\u001b[0m, \u001b[38;5;34m48\u001b[0m, \u001b[38;5;34m64\u001b[0m)         │         \u001b[38;5;34m110,656\u001b[0m │\n",
       "├──────────────────────────────────────┼─────────────────────────────┼─────────────────┤\n",
       "│ max_pooling3d_1 (\u001b[38;5;33mMaxPooling3D\u001b[0m)       │ (\u001b[38;5;34m16\u001b[0m, \u001b[38;5;34m2\u001b[0m, \u001b[38;5;34m24\u001b[0m, \u001b[38;5;34m24\u001b[0m, \u001b[38;5;34m64\u001b[0m)         │               \u001b[38;5;34m0\u001b[0m │\n",
       "├──────────────────────────────────────┼─────────────────────────────┼─────────────────┤\n",
       "│ spatiotemporal_lstm_2                │ (\u001b[38;5;34m16\u001b[0m, \u001b[38;5;34m2\u001b[0m, \u001b[38;5;34m24\u001b[0m, \u001b[38;5;34m24\u001b[0m, \u001b[38;5;34m128\u001b[0m)        │         \u001b[38;5;34m549,888\u001b[0m │\n",
       "│ (\u001b[38;5;33mSpatiotemporalLSTM\u001b[0m)                 │                             │                 │\n",
       "├──────────────────────────────────────┼─────────────────────────────┼─────────────────┤\n",
       "│ conv3d_2 (\u001b[38;5;33mConv3D\u001b[0m)                    │ (\u001b[38;5;34m16\u001b[0m, \u001b[38;5;34m2\u001b[0m, \u001b[38;5;34m24\u001b[0m, \u001b[38;5;34m24\u001b[0m, \u001b[38;5;34m128\u001b[0m)        │         \u001b[38;5;34m442,496\u001b[0m │\n",
       "├──────────────────────────────────────┼─────────────────────────────┼─────────────────┤\n",
       "│ max_pooling3d_2 (\u001b[38;5;33mMaxPooling3D\u001b[0m)       │ (\u001b[38;5;34m16\u001b[0m, \u001b[38;5;34m1\u001b[0m, \u001b[38;5;34m12\u001b[0m, \u001b[38;5;34m12\u001b[0m, \u001b[38;5;34m128\u001b[0m)        │               \u001b[38;5;34m0\u001b[0m │\n",
       "├──────────────────────────────────────┼─────────────────────────────┼─────────────────┤\n",
       "│ flatten (\u001b[38;5;33mFlatten\u001b[0m)                    │ (\u001b[38;5;34m16\u001b[0m, \u001b[38;5;34m18432\u001b[0m)                 │               \u001b[38;5;34m0\u001b[0m │\n",
       "└──────────────────────────────────────┴─────────────────────────────┴─────────────────┘\n"
      ]
     },
     "metadata": {},
     "output_type": "display_data"
    },
    {
     "data": {
      "text/html": [
       "<pre style=\"white-space:pre;overflow-x:auto;line-height:normal;font-family:Menlo,'DejaVu Sans Mono',consolas,'Courier New',monospace\"><span style=\"font-weight: bold\"> Total params: </span><span style=\"color: #00af00; text-decoration-color: #00af00\">1,274,784</span> (4.86 MB)\n",
       "</pre>\n"
      ],
      "text/plain": [
       "\u001b[1m Total params: \u001b[0m\u001b[38;5;34m1,274,784\u001b[0m (4.86 MB)\n"
      ]
     },
     "metadata": {},
     "output_type": "display_data"
    },
    {
     "data": {
      "text/html": [
       "<pre style=\"white-space:pre;overflow-x:auto;line-height:normal;font-family:Menlo,'DejaVu Sans Mono',consolas,'Courier New',monospace\"><span style=\"font-weight: bold\"> Trainable params: </span><span style=\"color: #00af00; text-decoration-color: #00af00\">1,274,784</span> (4.86 MB)\n",
       "</pre>\n"
      ],
      "text/plain": [
       "\u001b[1m Trainable params: \u001b[0m\u001b[38;5;34m1,274,784\u001b[0m (4.86 MB)\n"
      ]
     },
     "metadata": {},
     "output_type": "display_data"
    },
    {
     "data": {
      "text/html": [
       "<pre style=\"white-space:pre;overflow-x:auto;line-height:normal;font-family:Menlo,'DejaVu Sans Mono',consolas,'Courier New',monospace\"><span style=\"font-weight: bold\"> Non-trainable params: </span><span style=\"color: #00af00; text-decoration-color: #00af00\">0</span> (0.00 B)\n",
       "</pre>\n"
      ],
      "text/plain": [
       "\u001b[1m Non-trainable params: \u001b[0m\u001b[38;5;34m0\u001b[0m (0.00 B)\n"
      ]
     },
     "metadata": {},
     "output_type": "display_data"
    }
   ],
   "source": [
    "import tensorflow as tf\n",
    "from tensorflow.keras import layers, models\n",
    "\n",
    "class SpatiotemporalLSTMCell(layers.Layer):\n",
    "    \"\"\"\n",
    "    SpatiotemporalLSTMCell: A custom LSTM cell that captures both spatial and temporal dependencies.\n",
    "    It extends the traditional LSTM by adding a memory state (m_t) that focuses on spatial correlations.\n",
    "    \"\"\"\n",
    "    def __init__(self, filters, kernel_size, **kwargs):\n",
    "        super().__init__(**kwargs)\n",
    "        self.filters = filters  # Number of output filters in the convolution\n",
    "        self.kernel_size = kernel_size  # Size of the convolutional kernel\n",
    "        \n",
    "        # Convolutional components for standard LSTM operations\n",
    "        self.conv_xg = layers.Conv2D(filters, kernel_size, padding=\"same\", activation=\"tanh\")    # For cell input\n",
    "        self.conv_xi = layers.Conv2D(filters, kernel_size, padding=\"same\", activation=\"sigmoid\") # For input gate\n",
    "        self.conv_xf = layers.Conv2D(filters, kernel_size, padding=\"same\", activation=\"sigmoid\") # For forget gate\n",
    "        self.conv_xo = layers.Conv2D(filters, kernel_size, padding=\"same\", activation=\"sigmoid\") # For output gate\n",
    "        \n",
    "        # Convolutional components for spatiotemporal memory operations\n",
    "        self.conv_xg_st = layers.Conv2D(filters, kernel_size, padding=\"same\", activation=\"tanh\")    # For ST cell input\n",
    "        self.conv_xi_st = layers.Conv2D(filters, kernel_size, padding=\"same\", activation=\"sigmoid\") # For ST input gate\n",
    "        self.conv_xf_st = layers.Conv2D(filters, kernel_size, padding=\"same\", activation=\"sigmoid\") # For ST forget gate\n",
    "        \n",
    "        # Fusion layer to combine the cell state and spatiotemporal memory\n",
    "        self.conv_fusion = layers.Conv2D(filters, (1, 1), padding=\"same\")  # 1x1 conv for dimensionality reduction\n",
    "    \n",
    "    def call(self, inputs, states):\n",
    "        \"\"\"\n",
    "        Forward pass of the spatiotemporal LSTM cell.\n",
    "        \n",
    "        Args:\n",
    "            inputs: Input tensor of shape [batch_size, height, width, channels]\n",
    "            states: List of previous states [h_t-1, c_t-1, m_t-1]\n",
    "                   h_t-1: previous hidden state\n",
    "                   c_t-1: previous cell state\n",
    "                   m_t-1: previous spatiotemporal memory\n",
    "        \"\"\"\n",
    "        prev_h, prev_c, prev_m = states\n",
    "        \n",
    "        # Standard LSTM operations\n",
    "        g_t = self.conv_xg(inputs) + self.conv_xg(prev_h)  # Cell input activation\n",
    "        i_t = self.conv_xi(inputs) + self.conv_xi(prev_h)  # Input gate\n",
    "        f_t = self.conv_xf(inputs) + self.conv_xf(prev_h)  # Forget gate\n",
    "        o_t = self.conv_xo(inputs) + self.conv_xo(prev_h)  # Output gate\n",
    "        \n",
    "        # Cell state update - bug detected: should use prev_c instead of self.conv_xo(prev_h)\n",
    "        c_t = tf.sigmoid(f_t) * self.conv_xo(prev_h) + tf.sigmoid(i_t) * tf.tanh(g_t)\n",
    "        \n",
    "        # Spatiotemporal memory operations\n",
    "        g_t_st = self.conv_xg_st(inputs) + self.conv_xg_st(prev_m)  # ST cell input\n",
    "        i_t_st = self.conv_xi_st(inputs) + self.conv_xi_st(prev_m)  # ST input gate\n",
    "        f_t_st = self.conv_xf_st(inputs) + self.conv_xf_st(prev_m)  # ST forget gate\n",
    "        \n",
    "        # Spatiotemporal memory update - bug detected: should use prev_m directly instead of self.conv_xf_st(prev_m)\n",
    "        m_t = tf.sigmoid(f_t_st) * self.conv_xf_st(prev_m) + tf.sigmoid(i_t_st) * tf.tanh(g_t_st)\n",
    "        \n",
    "        # Hidden state update by fusing cell state and spatiotemporal memory\n",
    "        h_t = tf.sigmoid(o_t) * tf.tanh(self.conv_fusion(tf.concat([c_t, m_t], axis=-1)))\n",
    "        \n",
    "        return h_t, [h_t, c_t, m_t]  # Return the hidden state and all updated states\n",
    "\n",
    "class SpatiotemporalLSTM(layers.Layer):\n",
    "    \"\"\"\n",
    "    SpatiotemporalLSTM: Custom layer that applies the SpatiotemporalLSTMCell to a sequence of inputs.\n",
    "    This processes 3D data with spatial and temporal dimensions.\n",
    "    \"\"\"\n",
    "    def __init__(self, filters, kernel_size, **kwargs):\n",
    "        super().__init__(**kwargs)\n",
    "        self.cell = SpatiotemporalLSTMCell(filters, kernel_size)\n",
    "    \n",
    "    def call(self, inputs):\n",
    "        \"\"\"\n",
    "        Forward pass of the SpatiotemporalLSTM layer.\n",
    "        \n",
    "        Args:\n",
    "            inputs: Input tensor of shape [batch_size, time_steps, height, width, channels]\n",
    "        \"\"\"\n",
    "        batch_size = tf.shape(inputs)[0]\n",
    "        time_steps = inputs.shape[1]\n",
    "        height = inputs.shape[2]\n",
    "        width = inputs.shape[3]\n",
    "        channels = inputs.shape[4]\n",
    "        \n",
    "        # Initialize states with zeros\n",
    "        h_t = tf.zeros((batch_size, height, width, channels))  # Hidden state\n",
    "        c_t = tf.zeros((batch_size, height, width, channels))  # Cell state\n",
    "        m_t = tf.zeros((batch_size, height, width, channels))  # Spatiotemporal memory\n",
    "        \n",
    "        outputs = []\n",
    "        # Process sequence step by step\n",
    "        for t in range(time_steps):\n",
    "            # Apply the cell to the current time step and previous states\n",
    "            h_t, [h_t, c_t, m_t] = self.cell(inputs[:, t], [h_t[:,:,:,:inputs.shape[4]], \n",
    "                                                          c_t[:,:,:,:inputs.shape[4]], \n",
    "                                                          m_t[:,:,:,:inputs.shape[4]]])\n",
    "            outputs.append(h_t)\n",
    "        \n",
    "        # Stack outputs along time dimension\n",
    "        return tf.stack(outputs, axis=1)\n",
    "\n",
    "def build_st_lstm_model(input_shape=(8, 95, 95, 2)):\n",
    "    \"\"\"\n",
    "    Build a complete spatiotemporal LSTM model for sequence processing of spatial data.\n",
    "    \n",
    "    Args:\n",
    "        input_shape: Tuple of (time_steps, height, width, channels)\n",
    "    \n",
    "    Returns:\n",
    "        A Keras model with spatiotemporal LSTM layers\n",
    "    \"\"\"\n",
    "    # Create input layer with fixed batch size\n",
    "    input_tensor = layers.Input(shape=input_shape, batch_size=16)\n",
    "    \n",
    "    # First spatiotemporal LSTM block\n",
    "    st_lstm_layer = SpatiotemporalLSTM(filters=32, kernel_size=(3, 3))\n",
    "    x = st_lstm_layer(input_tensor)\n",
    "    x = layers.Conv3D(filters=32, kernel_size=(3, 3, 3), padding='same', activation='relu')(x)\n",
    "    x = layers.MaxPooling3D(pool_size=(2, 2, 2), strides=(2, 2, 2), padding='same')(x)\n",
    "    \n",
    "    # Second spatiotemporal LSTM block\n",
    "    st_lstm_layer = SpatiotemporalLSTM(filters=64, kernel_size=(3, 3))\n",
    "    x = st_lstm_layer(x)\n",
    "    x = layers.Conv3D(filters=64, kernel_size=(3, 3, 3), padding='same', activation='relu')(x)\n",
    "    x = layers.MaxPooling3D(pool_size=(2, 2, 2), strides=(2, 2, 2), padding='same')(x)\n",
    "    \n",
    "    # Third spatiotemporal LSTM block\n",
    "    st_lstm_layer = SpatiotemporalLSTM(filters=128, kernel_size=(3, 3))\n",
    "    x = st_lstm_layer(x)\n",
    "    x = layers.Conv3D(filters=128, kernel_size=(3, 3, 3), padding='same', activation='relu')(x)\n",
    "    x = layers.MaxPooling3D(pool_size=(2, 2, 2), strides=(2, 2, 2), padding='same')(x)\n",
    "    \n",
    "    # Flatten and prepare for output layers (not included in this model)\n",
    "    x = layers.Flatten()(x)\n",
    "    \n",
    "    # Create and return the model\n",
    "    model = models.Model(inputs=input_tensor, outputs=x)\n",
    "    return model\n",
    "\n",
    "# Create the model and display its structure\n",
    "st_lstm_model = build_st_lstm_model(input_shape=(8, 95, 95, 2))\n",
    "st_lstm_model.summary()"
   ]
  },
  {
   "cell_type": "code",
   "execution_count": 3,
   "id": "551fe221",
   "metadata": {
    "execution": {
     "iopub.execute_input": "2025-03-19T03:22:40.786268Z",
     "iopub.status.busy": "2025-03-19T03:22:40.786045Z",
     "iopub.status.idle": "2025-03-19T03:22:40.789329Z",
     "shell.execute_reply": "2025-03-19T03:22:40.788463Z"
    },
    "papermill": {
     "duration": 0.010201,
     "end_time": "2025-03-19T03:22:40.790645",
     "exception": false,
     "start_time": "2025-03-19T03:22:40.780444",
     "status": "completed"
    },
    "tags": []
   },
   "outputs": [],
   "source": [
    "from tensorflow.keras import mixed_precision\n",
    "mixed_precision.set_global_policy('mixed_float16')\n"
   ]
  },
  {
   "cell_type": "markdown",
   "id": "4c7441ff",
   "metadata": {
    "papermill": {
     "duration": 0.004724,
     "end_time": "2025-03-19T03:22:40.800370",
     "exception": false,
     "start_time": "2025-03-19T03:22:40.795646",
     "status": "completed"
    },
    "tags": []
   },
   "source": [
    "# Building the Radial Structure"
   ]
  },
  {
   "cell_type": "code",
   "execution_count": 4,
   "id": "b1cf50bb",
   "metadata": {
    "execution": {
     "iopub.execute_input": "2025-03-19T03:22:40.811009Z",
     "iopub.status.busy": "2025-03-19T03:22:40.810787Z",
     "iopub.status.idle": "2025-03-19T03:22:40.826016Z",
     "shell.execute_reply": "2025-03-19T03:22:40.825363Z"
    },
    "papermill": {
     "duration": 0.021861,
     "end_time": "2025-03-19T03:22:40.827221",
     "exception": false,
     "start_time": "2025-03-19T03:22:40.805360",
     "status": "completed"
    },
    "tags": []
   },
   "outputs": [],
   "source": [
    "import tensorflow as tf\n",
    "from tensorflow.keras import layers, models\n",
    "\n",
    "def radial_structure_subnet(input_shape):\n",
    "    \"\"\"\n",
    "    Creates the subnet for extracting TC radial structure features using a five-branch CNN design with 2D convolutions.\n",
    "\n",
    "    Parameters:\n",
    "    - input_shape: tuple, shape of the input data (e.g., (95, 95, 3))\n",
    "\n",
    "    Returns:\n",
    "    - model: tf.keras.Model, the radial structure subnet model\n",
    "    \"\"\"\n",
    "    \n",
    "    input_tensor = layers.Input(shape=input_shape)\n",
    "\n",
    "    # Divide input data into four quadrants (NW, NE, SW, SE)\n",
    "    # Assuming the input shape is (batch_size, height, width, channels)\n",
    "    \n",
    "    # Quadrant extraction - using slicing to separate quadrants\n",
    "    nw_quadrant = input_tensor[:, :input_shape[0]//2, :input_shape[1]//2, :]\n",
    "    ne_quadrant = input_tensor[:, :input_shape[0]//2, input_shape[1]//2:, :]\n",
    "    sw_quadrant = input_tensor[:, input_shape[0]//2:, :input_shape[1]//2, :]\n",
    "    se_quadrant = input_tensor[:, input_shape[0]//2:, input_shape[1]//2:, :]\n",
    "\n",
    "\n",
    "    target_height = max(input_shape[0]//2, input_shape[0] - input_shape[0]//2)  # 48\n",
    "    target_width = max(input_shape[1]//2, input_shape[1] - input_shape[1]//2)  # 48\n",
    "    \n",
    "    # Padding the quadrants to match the target size (48, 48)\n",
    "    nw_quadrant = layers.ZeroPadding2D(padding=((0, target_height - nw_quadrant.shape[1]), \n",
    "                                                (0, target_width - nw_quadrant.shape[2])))(nw_quadrant)\n",
    "    ne_quadrant = layers.ZeroPadding2D(padding=((0, target_height - ne_quadrant.shape[1]), \n",
    "                                                (0, target_width - ne_quadrant.shape[2])))(ne_quadrant)\n",
    "    sw_quadrant = layers.ZeroPadding2D(padding=((0, target_height - sw_quadrant.shape[1]), \n",
    "                                                (0, target_width - sw_quadrant.shape[2])))(sw_quadrant)\n",
    "    se_quadrant = layers.ZeroPadding2D(padding=((0, target_height - se_quadrant.shape[1]), \n",
    "                                                (0, target_width - se_quadrant.shape[2])))(se_quadrant)\n",
    "\n",
    "    print(nw_quadrant.shape)\n",
    "    print(ne_quadrant.shape)\n",
    "    print(sw_quadrant.shape)\n",
    "    print(se_quadrant.shape)\n",
    "    \n",
    "    # Main branch (processing the entire structure)\n",
    "    main_branch = layers.Conv2D(filters=8, kernel_size=(3, 3), padding='same', activation='relu')(input_tensor)\n",
    "    y=layers.MaxPool2D()(main_branch)\n",
    "\n",
    "    y = layers.ZeroPadding2D(padding=((0, target_height - y.shape[1]), \n",
    "                                   (0, target_width - y.shape[2])))(y)\n",
    "    # Side branches (processing the individual quadrants)\n",
    "    nw_branch = layers.Conv2D(filters=8, kernel_size=(3, 3), padding='same', activation='relu')(nw_quadrant)\n",
    "    ne_branch = layers.Conv2D(filters=8, kernel_size=(3, 3), padding='same', activation='relu')(ne_quadrant)\n",
    "    sw_branch = layers.Conv2D(filters=8, kernel_size=(3, 3), padding='same', activation='relu')(sw_quadrant)\n",
    "    se_branch = layers.Conv2D(filters=8, kernel_size=(3, 3), padding='same', activation='relu')(se_quadrant)\n",
    "    \n",
    "    # Apply padding to the side branches to match the dimensions of the main branch\n",
    "    # nw_branch = layers.UpSampling2D(size=(2, 2), interpolation='nearest')(nw_branch)\n",
    "    # ne_branch = layers.UpSampling2D(size=(2, 2), interpolation='nearest')(ne_branch)\n",
    "    # sw_branch = layers.UpSampling2D(size=(2, 2), interpolation='nearest')(sw_branch)\n",
    "    # se_branch = layers.UpSampling2D(size=(2, 2), interpolation='nearest')(se_branch)\n",
    "    \n",
    "    # Fusion operations (concatenate the outputs from the main branch and side branches)\n",
    "    fusion = layers.concatenate([y, nw_branch, ne_branch, sw_branch, se_branch], axis=-1)\n",
    "    \n",
    "    # Additional convolution layer to combine the fused features\n",
    "    x = layers.Conv2D(filters=16, kernel_size=(3, 3), padding='same', activation='relu')(fusion)\n",
    "    x=layers.MaxPool2D(pool_size=(2, 2))(x)\n",
    "\n",
    "    # Final dense layer for further processing\n",
    "    nw_branch = layers.Conv2D(filters=16, kernel_size=(3, 3), padding='same', activation='relu')(nw_branch)\n",
    "    \n",
    "    ne_branch = layers.Conv2D(filters=16, kernel_size=(3, 3), padding='same', activation='relu')(ne_branch)\n",
    "    sw_branch = layers.Conv2D(filters=16, kernel_size=(3, 3), padding='same', activation='relu')(sw_branch)\n",
    "    se_branch = layers.Conv2D(filters=16, kernel_size=(3, 3), padding='same', activation='relu')(se_branch)\n",
    "    nw_branch = layers.MaxPool2D(pool_size=(2, 2))(nw_branch)\n",
    "    ne_branch = layers.MaxPool2D(pool_size=(2, 2))(ne_branch)\n",
    "    sw_branch = layers.MaxPool2D(pool_size=(2, 2))(sw_branch)\n",
    "    se_branch = layers.MaxPool2D(pool_size=(2, 2))(se_branch)\n",
    "\n",
    "    fusion = layers.concatenate([x, nw_branch, ne_branch, sw_branch, se_branch], axis=-1)\n",
    "    x = layers.Conv2D(filters=32, kernel_size=(3, 3), padding='same', activation='relu')(fusion)\n",
    "    x=layers.MaxPool2D(pool_size=(2, 2))(x)\n",
    "    \n",
    "    nw_branch = layers.Conv2D(filters=32, kernel_size=(3, 3), padding='same', activation='relu')(nw_branch)\n",
    "    \n",
    "    ne_branch = layers.Conv2D(filters=32, kernel_size=(3, 3), padding='same', activation='relu')(ne_branch)\n",
    "    sw_branch = layers.Conv2D(filters=32, kernel_size=(3, 3), padding='same', activation='relu')(sw_branch)\n",
    "    se_branch = layers.Conv2D(filters=32, kernel_size=(3, 3), padding='same', activation='relu')(se_branch)\n",
    "    nw_branch = layers.MaxPool2D(pool_size=(2, 2))(nw_branch)\n",
    "    ne_branch = layers.MaxPool2D(pool_size=(2, 2))(ne_branch)\n",
    "    sw_branch = layers.MaxPool2D(pool_size=(2, 2))(sw_branch)\n",
    "    se_branch = layers.MaxPool2D(pool_size=(2, 2))(se_branch)\n",
    "\n",
    "    fusion = layers.concatenate([x, nw_branch, ne_branch, sw_branch, se_branch], axis=-1)\n",
    "    x = layers.Conv2D(filters=32, kernel_size=(3, 3),  activation='relu')(fusion)\n",
    "    x=layers.Conv2D(filters=32, kernel_size=(3, 3), activation=None)(x)\n",
    "    # Create and return the model\n",
    "    x=layers.Flatten()(x)\n",
    "    model = models.Model(inputs=input_tensor, outputs=x)\n",
    "    return model\n",
    "\n",
    "# Define input shape (batch_size, height, width, channels)\n",
    "# input_shape = (95, 95, 8)  # Example input shape (95x95 spatial resolution, 3 channels)\n",
    "\n",
    "# # Build the model\n",
    "# model = radial_structure_subnet(input_shape)\n",
    "\n",
    "# # Model summary\n",
    "# model.summary()"
   ]
  },
  {
   "cell_type": "markdown",
   "id": "164ca53c",
   "metadata": {
    "papermill": {
     "duration": 0.004719,
     "end_time": "2025-03-19T03:22:40.836811",
     "exception": false,
     "start_time": "2025-03-19T03:22:40.832092",
     "status": "completed"
    },
    "tags": []
   },
   "source": [
    "# Building the CNN Model"
   ]
  },
  {
   "cell_type": "code",
   "execution_count": 5,
   "id": "5f2b6341",
   "metadata": {
    "execution": {
     "iopub.execute_input": "2025-03-19T03:22:40.847255Z",
     "iopub.status.busy": "2025-03-19T03:22:40.847049Z",
     "iopub.status.idle": "2025-03-19T03:22:40.851079Z",
     "shell.execute_reply": "2025-03-19T03:22:40.850446Z"
    },
    "papermill": {
     "duration": 0.010457,
     "end_time": "2025-03-19T03:22:40.852155",
     "exception": false,
     "start_time": "2025-03-19T03:22:40.841698",
     "status": "completed"
    },
    "tags": []
   },
   "outputs": [],
   "source": [
    "from tensorflow.keras import layers, models\n",
    "\n",
    "def build_cnn_model(input_shape=(8, 8, 1)):\n",
    "    # Define the input layer\n",
    "    input_tensor = layers.Input(shape=input_shape)\n",
    "    \n",
    "    # Convolutional layer\n",
    "    x = layers.Conv2D(64, (3, 3), padding='same')(input_tensor)\n",
    "    x = layers.BatchNormalization()(x)\n",
    "    x = layers.ReLU()(x)\n",
    "    \n",
    "    # Flatten layer\n",
    "    x = layers.Flatten()(x)\n",
    "    \n",
    "    # Create the model\n",
    "    model = models.Model(inputs=input_tensor, outputs=x)\n",
    "    \n",
    "    return model\n",
    "\n",
    "# cnn_model = build_cnn_model(input_shape=(8, 8, 1))\n",
    "# cnn_model.summary()"
   ]
  },
  {
   "cell_type": "markdown",
   "id": "5928c9b8",
   "metadata": {
    "papermill": {
     "duration": 0.004684,
     "end_time": "2025-03-19T03:22:40.861667",
     "exception": false,
     "start_time": "2025-03-19T03:22:40.856983",
     "status": "completed"
    },
    "tags": []
   },
   "source": [
    "# Building the Combined Model"
   ]
  },
  {
   "cell_type": "code",
   "execution_count": 6,
   "id": "0ba6b340",
   "metadata": {
    "execution": {
     "iopub.execute_input": "2025-03-19T03:22:40.872127Z",
     "iopub.status.busy": "2025-03-19T03:22:40.871907Z",
     "iopub.status.idle": "2025-03-19T03:22:40.877613Z",
     "shell.execute_reply": "2025-03-19T03:22:40.876958Z"
    },
    "papermill": {
     "duration": 0.012119,
     "end_time": "2025-03-19T03:22:40.878731",
     "exception": false,
     "start_time": "2025-03-19T03:22:40.866612",
     "status": "completed"
    },
    "tags": []
   },
   "outputs": [],
   "source": [
    "from tensorflow.keras import layers, models, Input\n",
    "\n",
    "def build_combined_model():\n",
    "    # Define input shapes\n",
    "    input_shape_3d = (8, 95, 95, 2)\n",
    "    input_shape_radial = (95, 95, 8)\n",
    "    input_shape_cnn = (8, 8, 1)\n",
    "    \n",
    "    input_shape_latitude = (8,)\n",
    "    input_shape_longitude = (8,)\n",
    "    input_shape_other = (9,)\n",
    "\n",
    "    # Build individual models\n",
    "    model_3d = build_st_lstm_model(input_shape_3d)\n",
    "    model_radial = radial_structure_subnet(input_shape=input_shape_radial)\n",
    "    model_cnn = build_cnn_model(input_shape=input_shape_cnn)\n",
    "\n",
    "    # Define new inputs\n",
    "    input_latitude = Input(shape=input_shape_latitude ,name=\"latitude_input\")\n",
    "    input_longitude = Input(shape=input_shape_longitude, name=\"longitude_input\")\n",
    "    input_other = Input(shape=input_shape_other, name=\"other_input\")\n",
    "\n",
    "    # Flatten the additional inputs\n",
    "    flat_latitude = layers.Dense(32,activation='relu')(input_latitude)\n",
    "    flat_longitude = layers.Dense(32,activation='relu')(input_longitude)\n",
    "    flat_other = layers.Dense(64,activation='relu')(input_other)\n",
    "\n",
    "    # Combine all outputs\n",
    "    combined = layers.concatenate([\n",
    "        model_3d.output, \n",
    "        model_radial.output, \n",
    "        model_cnn.output,\n",
    "        flat_latitude, \n",
    "        flat_longitude, \n",
    "        flat_other\n",
    "    ])\n",
    "\n",
    "    # Add dense layers for final processing\n",
    "    x = layers.Dense(128, activation='relu')(combined)  \n",
    "    x = layers.Dense(1, activation=None)(x)\n",
    "\n",
    "    # Create the final model\n",
    "    final_model = models.Model(\n",
    "        inputs=[model_3d.input, model_radial.input, model_cnn.input,\n",
    "                input_latitude, input_longitude, input_other ],\n",
    "        outputs=x\n",
    "    )\n",
    "\n",
    "    return final_model\n",
    "\n",
    "# Build and summarize the updated model\n",
    "# final_model = build_combined_model()\n",
    "# final_model.summary()\n"
   ]
  },
  {
   "cell_type": "markdown",
   "id": "f4e7d409",
   "metadata": {
    "papermill": {
     "duration": 0.004744,
     "end_time": "2025-03-19T03:22:40.888315",
     "exception": false,
     "start_time": "2025-03-19T03:22:40.883571",
     "status": "completed"
    },
    "tags": []
   },
   "source": [
    "# Reinitializing the Model"
   ]
  },
  {
   "cell_type": "code",
   "execution_count": 7,
   "id": "dcaa9875",
   "metadata": {
    "execution": {
     "iopub.execute_input": "2025-03-19T03:22:40.898747Z",
     "iopub.status.busy": "2025-03-19T03:22:40.898528Z",
     "iopub.status.idle": "2025-03-19T03:22:45.771524Z",
     "shell.execute_reply": "2025-03-19T03:22:45.770584Z"
    },
    "papermill": {
     "duration": 4.879729,
     "end_time": "2025-03-19T03:22:45.772938",
     "exception": false,
     "start_time": "2025-03-19T03:22:40.893209",
     "status": "completed"
    },
    "tags": []
   },
   "outputs": [
    {
     "name": "stdout",
     "output_type": "stream",
     "text": [
      "(None, 48, 48, 8)\n",
      "(None, 48, 48, 8)\n",
      "(None, 48, 48, 8)\n",
      "(None, 48, 48, 8)\n"
     ]
    }
   ],
   "source": [
    "import tensorflow as tf\n",
    "from keras import backend as K\n",
    "\n",
    "# Clear session to remove any previously created computation graphs\n",
    "K.clear_session()\n",
    "tf.keras.backend.clear_session()\n",
    "\n",
    "# Re-initialize your model\n",
    "final_model = build_combined_model()  # Make sure this function initializes your model properly"
   ]
  },
  {
   "cell_type": "markdown",
   "id": "1a708fad",
   "metadata": {
    "papermill": {
     "duration": 0.005113,
     "end_time": "2025-03-19T03:22:45.783398",
     "exception": false,
     "start_time": "2025-03-19T03:22:45.778285",
     "status": "completed"
    },
    "tags": []
   },
   "source": [
    "# Compiling the Model"
   ]
  },
  {
   "cell_type": "code",
   "execution_count": 8,
   "id": "40e59f2c",
   "metadata": {
    "execution": {
     "iopub.execute_input": "2025-03-19T03:22:45.794916Z",
     "iopub.status.busy": "2025-03-19T03:22:45.794672Z",
     "iopub.status.idle": "2025-03-19T03:22:45.797741Z",
     "shell.execute_reply": "2025-03-19T03:22:45.797084Z"
    },
    "papermill": {
     "duration": 0.00991,
     "end_time": "2025-03-19T03:22:45.798999",
     "exception": false,
     "start_time": "2025-03-19T03:22:45.789089",
     "status": "completed"
    },
    "tags": []
   },
   "outputs": [],
   "source": [
    "from tensorflow.keras import layers, models, optimizers\n"
   ]
  },
  {
   "cell_type": "code",
   "execution_count": 9,
   "id": "7e8cf664",
   "metadata": {
    "execution": {
     "iopub.execute_input": "2025-03-19T03:22:45.809820Z",
     "iopub.status.busy": "2025-03-19T03:22:45.809610Z",
     "iopub.status.idle": "2025-03-19T03:22:45.822945Z",
     "shell.execute_reply": "2025-03-19T03:22:45.822334Z"
    },
    "papermill": {
     "duration": 0.020147,
     "end_time": "2025-03-19T03:22:45.824191",
     "exception": false,
     "start_time": "2025-03-19T03:22:45.804044",
     "status": "completed"
    },
    "tags": []
   },
   "outputs": [],
   "source": [
    "from tensorflow.keras.optimizers import Adam\n",
    "\n",
    "optimizer = Adam(learning_rate=0.01,clipnorm=1.0)  # Reduce learning rate\n",
    "final_model.compile(optimizer=optimizer, loss=\"mse\", metrics=[\"mae\"])\n"
   ]
  },
  {
   "cell_type": "markdown",
   "id": "625adb6b",
   "metadata": {
    "papermill": {
     "duration": 0.004717,
     "end_time": "2025-03-19T03:22:45.833793",
     "exception": false,
     "start_time": "2025-03-19T03:22:45.829076",
     "status": "completed"
    },
    "tags": []
   },
   "source": [
    "# Loading our Extracted data from TCIR dataset"
   ]
  },
  {
   "cell_type": "code",
   "execution_count": 10,
   "id": "23a8ce3c",
   "metadata": {
    "execution": {
     "iopub.execute_input": "2025-03-19T03:22:45.844550Z",
     "iopub.status.busy": "2025-03-19T03:22:45.844305Z",
     "iopub.status.idle": "2025-03-19T03:23:31.212904Z",
     "shell.execute_reply": "2025-03-19T03:23:31.212205Z"
    },
    "papermill": {
     "duration": 45.375748,
     "end_time": "2025-03-19T03:23:31.214466",
     "exception": false,
     "start_time": "2025-03-19T03:22:45.838718",
     "status": "completed"
    },
    "tags": []
   },
   "outputs": [],
   "source": [
    "import numpy as np\n",
    "reduced_images=np.load('/kaggle/input/project-data-set/reduced_images.npy')\n",
    "hov_m_train=np.load('/kaggle/input/project-data-set/hov_m_train.npy')\n",
    "train_vmax_3d=np.load('/kaggle/input/project-data-set/train_vmax_3d.npy')\n",
    "lat_train=np.load('/kaggle/input/project-data-set/lat_train.npy')\n",
    "lon_train=np.load('/kaggle/input/project-data-set/lon_train.npy')\n",
    "int_diff_train=np.load('/kaggle/input/project-data-set/int_diff_train.npy')\n",
    "y_train_avg=np.load('/kaggle/input/project-data-set/y_train_avg.npy')\n",
    "reduced_images_test=np.load('/kaggle/input/project-data-set/reduced_images_test.npy')\n",
    "hov_m_test=np.load('/kaggle/input/project-data-set/hov_m_test.npy')\n",
    "test_vmax_3d=np.load('/kaggle/input/project-data-set/test_vmax_3d.npy')\n",
    "lat_test=np.load('/kaggle/input/project-data-set/lat_test.npy')\n",
    "lon_test=np.load('/kaggle/input/project-data-set/lon_test.npy')\n",
    "int_diff_test=np.load('/kaggle/input/project-data-set/int_diff_test.npy')\n",
    "y_test_avg=np.load('/kaggle/input/project-data-set/y_test_avg.npy')\n",
    "reduced_images_valid=np.load('/kaggle/input/project-data-set/reduced_images_valid.npy')\n",
    "hov_m_valid=np.load('/kaggle/input/project-data-set/hov_m_valid.npy')\n",
    "valid_vmax_3d=np.load('/kaggle/input/project-data-set/valid_vmax_3d.npy')\n",
    "lat_valid=np.load('/kaggle/input/project-data-set/lat_valid.npy')\n",
    "lon_valid=np.load('/kaggle/input/project-data-set/lon_valid.npy')\n",
    "int_diff_valid=np.load('/kaggle/input/project-data-set/int_diff_valid.npy')\n",
    "y_valid_avg=np.load('/kaggle/input/project-data-set/y_valid_avg.npy')"
   ]
  },
  {
   "cell_type": "markdown",
   "id": "56626ed4",
   "metadata": {
    "papermill": {
     "duration": 0.004751,
     "end_time": "2025-03-19T03:23:31.224705",
     "exception": false,
     "start_time": "2025-03-19T03:23:31.219954",
     "status": "completed"
    },
    "tags": []
   },
   "source": [
    "# Fitting the Model and Prediction"
   ]
  },
  {
   "cell_type": "code",
   "execution_count": 11,
   "id": "f39d01d2",
   "metadata": {
    "execution": {
     "iopub.execute_input": "2025-03-19T03:23:31.235444Z",
     "iopub.status.busy": "2025-03-19T03:23:31.235223Z",
     "iopub.status.idle": "2025-03-19T03:27:15.732392Z",
     "shell.execute_reply": "2025-03-19T03:27:15.731467Z"
    },
    "papermill": {
     "duration": 224.504392,
     "end_time": "2025-03-19T03:27:15.733972",
     "exception": false,
     "start_time": "2025-03-19T03:23:31.229580",
     "status": "completed"
    },
    "tags": []
   },
   "outputs": [
    {
     "name": "stdout",
     "output_type": "stream",
     "text": [
      "\u001b[1m311/311\u001b[0m \u001b[32m━━━━━━━━━━━━━━━━━━━━\u001b[0m\u001b[37m\u001b[0m \u001b[1m213s\u001b[0m 470ms/step - loss: 691442944.0000 - mae: 4069.8306 - val_loss: 123.5756 - val_mae: 8.5334\n"
     ]
    },
    {
     "data": {
      "text/plain": [
       "<keras.src.callbacks.history.History at 0x7eb89bf84610>"
      ]
     },
     "execution_count": 11,
     "metadata": {},
     "output_type": "execute_result"
    }
   ],
   "source": [
    "final_model.fit(\n",
    "    [reduced_images, hov_m_train, train_vmax_3d, lat_train, lon_train, int_diff_train], \n",
    "    y_train_avg, \n",
    "    validation_data=(\n",
    "        [reduced_images_valid, hov_m_valid, valid_vmax_3d, lat_valid, lon_valid, int_diff_valid], \n",
    "        y_valid_avg\n",
    "    ),\n",
    "    epochs=1, \n",
    "    batch_size=16\n",
    ")"
   ]
  },
  {
   "cell_type": "code",
   "execution_count": 12,
   "id": "77eb5b16",
   "metadata": {
    "execution": {
     "iopub.execute_input": "2025-03-19T03:27:15.773627Z",
     "iopub.status.busy": "2025-03-19T03:27:15.773321Z",
     "iopub.status.idle": "2025-03-19T03:27:16.119536Z",
     "shell.execute_reply": "2025-03-19T03:27:16.118454Z"
    },
    "papermill": {
     "duration": 0.367492,
     "end_time": "2025-03-19T03:27:16.121156",
     "exception": false,
     "start_time": "2025-03-19T03:27:15.753664",
     "status": "completed"
    },
    "tags": []
   },
   "outputs": [],
   "source": [
    "final_model.save(\"final_model.h5\")"
   ]
  },
  {
   "cell_type": "code",
   "execution_count": 13,
   "id": "01a00ead",
   "metadata": {
    "execution": {
     "iopub.execute_input": "2025-03-19T03:27:16.161569Z",
     "iopub.status.busy": "2025-03-19T03:27:16.161258Z",
     "iopub.status.idle": "2025-03-19T03:27:35.416776Z",
     "shell.execute_reply": "2025-03-19T03:27:35.415938Z"
    },
    "papermill": {
     "duration": 19.278014,
     "end_time": "2025-03-19T03:27:35.418376",
     "exception": false,
     "start_time": "2025-03-19T03:27:16.140362",
     "status": "completed"
    },
    "tags": []
   },
   "outputs": [
    {
     "name": "stdout",
     "output_type": "stream",
     "text": [
      "\u001b[1m30/30\u001b[0m \u001b[32m━━━━━━━━━━━━━━━━━━━━\u001b[0m\u001b[37m\u001b[0m \u001b[1m17s\u001b[0m 324ms/step\n"
     ]
    }
   ],
   "source": [
    "y=final_model.predict([reduced_images_test,hov_m_test,test_vmax_3d,lat_test,lon_test,int_diff_test ])"
   ]
  },
  {
   "cell_type": "markdown",
   "id": "ee3dd287",
   "metadata": {
    "papermill": {
     "duration": 0.019917,
     "end_time": "2025-03-19T03:27:35.459405",
     "exception": false,
     "start_time": "2025-03-19T03:27:35.439488",
     "status": "completed"
    },
    "tags": []
   },
   "source": [
    "# Model Evaluation"
   ]
  },
  {
   "cell_type": "code",
   "execution_count": 14,
   "id": "81759a4e",
   "metadata": {
    "execution": {
     "iopub.execute_input": "2025-03-19T03:27:35.500672Z",
     "iopub.status.busy": "2025-03-19T03:27:35.500371Z",
     "iopub.status.idle": "2025-03-19T03:27:36.677418Z",
     "shell.execute_reply": "2025-03-19T03:27:36.676463Z"
    },
    "papermill": {
     "duration": 1.199793,
     "end_time": "2025-03-19T03:27:36.679110",
     "exception": false,
     "start_time": "2025-03-19T03:27:35.479317",
     "status": "completed"
    },
    "tags": []
   },
   "outputs": [],
   "source": [
    "from sklearn.metrics import mean_squared_error, mean_absolute_error\n"
   ]
  },
  {
   "cell_type": "code",
   "execution_count": 15,
   "id": "97a61e7b",
   "metadata": {
    "execution": {
     "iopub.execute_input": "2025-03-19T03:27:36.721482Z",
     "iopub.status.busy": "2025-03-19T03:27:36.720782Z",
     "iopub.status.idle": "2025-03-19T03:27:36.726089Z",
     "shell.execute_reply": "2025-03-19T03:27:36.725268Z"
    },
    "papermill": {
     "duration": 0.027779,
     "end_time": "2025-03-19T03:27:36.727466",
     "exception": false,
     "start_time": "2025-03-19T03:27:36.699687",
     "status": "completed"
    },
    "tags": []
   },
   "outputs": [
    {
     "data": {
      "text/plain": [
       "39.125"
      ]
     },
     "execution_count": 15,
     "metadata": {},
     "output_type": "execute_result"
    }
   ],
   "source": [
    "y_test_avg[0]"
   ]
  },
  {
   "cell_type": "code",
   "execution_count": 16,
   "id": "944b6735",
   "metadata": {
    "execution": {
     "iopub.execute_input": "2025-03-19T03:27:36.768705Z",
     "iopub.status.busy": "2025-03-19T03:27:36.768428Z",
     "iopub.status.idle": "2025-03-19T03:27:36.773236Z",
     "shell.execute_reply": "2025-03-19T03:27:36.772410Z"
    },
    "papermill": {
     "duration": 0.026697,
     "end_time": "2025-03-19T03:27:36.774595",
     "exception": false,
     "start_time": "2025-03-19T03:27:36.747898",
     "status": "completed"
    },
    "tags": []
   },
   "outputs": [
    {
     "data": {
      "text/plain": [
       "array([29.915678], dtype=float32)"
      ]
     },
     "execution_count": 16,
     "metadata": {},
     "output_type": "execute_result"
    }
   ],
   "source": [
    "y[0]"
   ]
  },
  {
   "cell_type": "code",
   "execution_count": 17,
   "id": "5f5bb98a",
   "metadata": {
    "execution": {
     "iopub.execute_input": "2025-03-19T03:27:36.815894Z",
     "iopub.status.busy": "2025-03-19T03:27:36.815657Z",
     "iopub.status.idle": "2025-03-19T03:27:36.822418Z",
     "shell.execute_reply": "2025-03-19T03:27:36.821645Z"
    },
    "papermill": {
     "duration": 0.028853,
     "end_time": "2025-03-19T03:27:36.823784",
     "exception": false,
     "start_time": "2025-03-19T03:27:36.794931",
     "status": "completed"
    },
    "tags": []
   },
   "outputs": [
    {
     "data": {
      "text/plain": [
       "8.332138667672368"
      ]
     },
     "execution_count": 17,
     "metadata": {},
     "output_type": "execute_result"
    }
   ],
   "source": [
    "mae = mean_absolute_error(y_test_avg, y)\n",
    "\n",
    "# Output the Mean Absolute Error\n",
    "mae"
   ]
  },
  {
   "cell_type": "code",
   "execution_count": 18,
   "id": "60db064a",
   "metadata": {
    "execution": {
     "iopub.execute_input": "2025-03-19T03:27:36.865201Z",
     "iopub.status.busy": "2025-03-19T03:27:36.864986Z",
     "iopub.status.idle": "2025-03-19T03:27:36.869689Z",
     "shell.execute_reply": "2025-03-19T03:27:36.868840Z"
    },
    "papermill": {
     "duration": 0.026688,
     "end_time": "2025-03-19T03:27:36.870930",
     "exception": false,
     "start_time": "2025-03-19T03:27:36.844242",
     "status": "completed"
    },
    "tags": []
   },
   "outputs": [
    {
     "name": "stdout",
     "output_type": "stream",
     "text": [
      "11.196169709092338\n"
     ]
    }
   ],
   "source": [
    "rmse = mean_squared_error(y_test_avg, y, squared=False)\n",
    "\n",
    "# Output the Root Mean Square Error\n",
    "print(rmse)"
   ]
  }
 ],
 "metadata": {
  "kaggle": {
   "accelerator": "gpu",
   "dataSources": [
    {
     "datasetId": 6769161,
     "sourceId": 10892566,
     "sourceType": "datasetVersion"
    }
   ],
   "dockerImageVersionId": 30919,
   "isGpuEnabled": true,
   "isInternetEnabled": true,
   "language": "python",
   "sourceType": "notebook"
  },
  "kernelspec": {
   "display_name": "Python 3",
   "language": "python",
   "name": "python3"
  },
  "language_info": {
   "codemirror_mode": {
    "name": "ipython",
    "version": 3
   },
   "file_extension": ".py",
   "mimetype": "text/x-python",
   "name": "python",
   "nbconvert_exporter": "python",
   "pygments_lexer": "ipython3",
   "version": "3.10.12"
  },
  "papermill": {
   "default_parameters": {},
   "duration": 320.89465,
   "end_time": "2025-03-19T03:27:40.232406",
   "environment_variables": {},
   "exception": null,
   "input_path": "__notebook__.ipynb",
   "output_path": "__notebook__.ipynb",
   "parameters": {},
   "start_time": "2025-03-19T03:22:19.337756",
   "version": "2.6.0"
  }
 },
 "nbformat": 4,
 "nbformat_minor": 5
}
