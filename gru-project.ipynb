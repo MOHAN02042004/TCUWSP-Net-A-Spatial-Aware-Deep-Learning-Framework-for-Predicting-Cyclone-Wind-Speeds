{
 "cells": [
  {
   "cell_type": "markdown",
   "id": "cf17767e",
   "metadata": {
    "papermill": {
     "duration": 0.0049,
     "end_time": "2025-03-19T04:51:24.259143",
     "exception": false,
     "start_time": "2025-03-19T04:51:24.254243",
     "status": "completed"
    },
    "tags": []
   },
   "source": [
    "# Convolution GRU (ConvGRU) Model for Calculating the Intensity of Tropical Cyclones"
   ]
  },
  {
   "cell_type": "code",
   "execution_count": 1,
   "id": "1a409bca",
   "metadata": {
    "execution": {
     "iopub.execute_input": "2025-03-19T04:51:24.268815Z",
     "iopub.status.busy": "2025-03-19T04:51:24.268419Z",
     "iopub.status.idle": "2025-03-19T04:51:36.727319Z",
     "shell.execute_reply": "2025-03-19T04:51:36.726271Z"
    },
    "papermill": {
     "duration": 12.465337,
     "end_time": "2025-03-19T04:51:36.728737",
     "exception": false,
     "start_time": "2025-03-19T04:51:24.263400",
     "status": "completed"
    },
    "tags": []
   },
   "outputs": [
    {
     "name": "stdout",
     "output_type": "stream",
     "text": [
      "Available devices: [PhysicalDevice(name='/physical_device:CPU:0', device_type='CPU'), PhysicalDevice(name='/physical_device:GPU:0', device_type='GPU')]\n"
     ]
    }
   ],
   "source": [
    "import tensorflow as tf\n",
    "print(\"Available devices:\", tf.config.list_physical_devices())\n"
   ]
  },
  {
   "cell_type": "markdown",
   "id": "dedb58e3",
   "metadata": {
    "papermill": {
     "duration": 0.003974,
     "end_time": "2025-03-19T04:51:36.737161",
     "exception": false,
     "start_time": "2025-03-19T04:51:36.733187",
     "status": "completed"
    },
    "tags": []
   },
   "source": [
    "# Building the ConvGRU Model"
   ]
  },
  {
   "cell_type": "code",
   "execution_count": 2,
   "id": "61efb43a",
   "metadata": {
    "execution": {
     "iopub.execute_input": "2025-03-19T04:51:36.746144Z",
     "iopub.status.busy": "2025-03-19T04:51:36.745665Z",
     "iopub.status.idle": "2025-03-19T04:51:39.175204Z",
     "shell.execute_reply": "2025-03-19T04:51:39.174517Z"
    },
    "papermill": {
     "duration": 2.435412,
     "end_time": "2025-03-19T04:51:39.176503",
     "exception": false,
     "start_time": "2025-03-19T04:51:36.741091",
     "status": "completed"
    },
    "tags": []
   },
   "outputs": [
    {
     "data": {
      "text/html": [
       "<pre style=\"white-space:pre;overflow-x:auto;line-height:normal;font-family:Menlo,'DejaVu Sans Mono',consolas,'Courier New',monospace\"><span style=\"font-weight: bold\">Model: \"functional\"</span>\n",
       "</pre>\n"
      ],
      "text/plain": [
       "\u001b[1mModel: \"functional\"\u001b[0m\n"
      ]
     },
     "metadata": {},
     "output_type": "display_data"
    },
    {
     "data": {
      "text/html": [
       "<pre style=\"white-space:pre;overflow-x:auto;line-height:normal;font-family:Menlo,'DejaVu Sans Mono',consolas,'Courier New',monospace\">┏━━━━━━━━━━━━━━━━━━━━━━━━━━━━━━━━━━━━━━┳━━━━━━━━━━━━━━━━━━━━━━━━━━━━━┳━━━━━━━━━━━━━━━━━┓\n",
       "┃<span style=\"font-weight: bold\"> Layer (type)                         </span>┃<span style=\"font-weight: bold\"> Output Shape                </span>┃<span style=\"font-weight: bold\">         Param # </span>┃\n",
       "┡━━━━━━━━━━━━━━━━━━━━━━━━━━━━━━━━━━━━━━╇━━━━━━━━━━━━━━━━━━━━━━━━━━━━━╇━━━━━━━━━━━━━━━━━┩\n",
       "│ input_layer (<span style=\"color: #0087ff; text-decoration-color: #0087ff\">InputLayer</span>)             │ (<span style=\"color: #00d7ff; text-decoration-color: #00d7ff\">None</span>, <span style=\"color: #00af00; text-decoration-color: #00af00\">8</span>, <span style=\"color: #00af00; text-decoration-color: #00af00\">95</span>, <span style=\"color: #00af00; text-decoration-color: #00af00\">95</span>, <span style=\"color: #00af00; text-decoration-color: #00af00\">2</span>)        │               <span style=\"color: #00af00; text-decoration-color: #00af00\">0</span> │\n",
       "├──────────────────────────────────────┼─────────────────────────────┼─────────────────┤\n",
       "│ conv_gru2d_layer (<span style=\"color: #0087ff; text-decoration-color: #0087ff\">ConvGRU2DLayer</span>)    │ (<span style=\"color: #00d7ff; text-decoration-color: #00d7ff\">None</span>, <span style=\"color: #00af00; text-decoration-color: #00af00\">8</span>, <span style=\"color: #00af00; text-decoration-color: #00af00\">95</span>, <span style=\"color: #00af00; text-decoration-color: #00af00\">95</span>, <span style=\"color: #00af00; text-decoration-color: #00af00\">32</span>)       │          <span style=\"color: #00af00; text-decoration-color: #00af00\">27,840</span> │\n",
       "├──────────────────────────────────────┼─────────────────────────────┼─────────────────┤\n",
       "│ conv3d (<span style=\"color: #0087ff; text-decoration-color: #0087ff\">Conv3D</span>)                      │ (<span style=\"color: #00d7ff; text-decoration-color: #00d7ff\">None</span>, <span style=\"color: #00af00; text-decoration-color: #00af00\">8</span>, <span style=\"color: #00af00; text-decoration-color: #00af00\">95</span>, <span style=\"color: #00af00; text-decoration-color: #00af00\">95</span>, <span style=\"color: #00af00; text-decoration-color: #00af00\">32</span>)       │          <span style=\"color: #00af00; text-decoration-color: #00af00\">27,680</span> │\n",
       "├──────────────────────────────────────┼─────────────────────────────┼─────────────────┤\n",
       "│ max_pooling3d (<span style=\"color: #0087ff; text-decoration-color: #0087ff\">MaxPooling3D</span>)         │ (<span style=\"color: #00d7ff; text-decoration-color: #00d7ff\">None</span>, <span style=\"color: #00af00; text-decoration-color: #00af00\">2</span>, <span style=\"color: #00af00; text-decoration-color: #00af00\">32</span>, <span style=\"color: #00af00; text-decoration-color: #00af00\">32</span>, <span style=\"color: #00af00; text-decoration-color: #00af00\">32</span>)       │               <span style=\"color: #00af00; text-decoration-color: #00af00\">0</span> │\n",
       "├──────────────────────────────────────┼─────────────────────────────┼─────────────────┤\n",
       "│ conv_gru2d_layer_1 (<span style=\"color: #0087ff; text-decoration-color: #0087ff\">ConvGRU2DLayer</span>)  │ (<span style=\"color: #00d7ff; text-decoration-color: #00d7ff\">None</span>, <span style=\"color: #00af00; text-decoration-color: #00af00\">2</span>, <span style=\"color: #00af00; text-decoration-color: #00af00\">32</span>, <span style=\"color: #00af00; text-decoration-color: #00af00\">32</span>, <span style=\"color: #00af00; text-decoration-color: #00af00\">64</span>)       │         <span style=\"color: #00af00; text-decoration-color: #00af00\">112,896</span> │\n",
       "├──────────────────────────────────────┼─────────────────────────────┼─────────────────┤\n",
       "│ conv3d_1 (<span style=\"color: #0087ff; text-decoration-color: #0087ff\">Conv3D</span>)                    │ (<span style=\"color: #00d7ff; text-decoration-color: #00d7ff\">None</span>, <span style=\"color: #00af00; text-decoration-color: #00af00\">2</span>, <span style=\"color: #00af00; text-decoration-color: #00af00\">32</span>, <span style=\"color: #00af00; text-decoration-color: #00af00\">32</span>, <span style=\"color: #00af00; text-decoration-color: #00af00\">64</span>)       │         <span style=\"color: #00af00; text-decoration-color: #00af00\">110,656</span> │\n",
       "├──────────────────────────────────────┼─────────────────────────────┼─────────────────┤\n",
       "│ max_pooling3d_1 (<span style=\"color: #0087ff; text-decoration-color: #0087ff\">MaxPooling3D</span>)       │ (<span style=\"color: #00d7ff; text-decoration-color: #00d7ff\">None</span>, <span style=\"color: #00af00; text-decoration-color: #00af00\">1</span>, <span style=\"color: #00af00; text-decoration-color: #00af00\">11</span>, <span style=\"color: #00af00; text-decoration-color: #00af00\">11</span>, <span style=\"color: #00af00; text-decoration-color: #00af00\">64</span>)       │               <span style=\"color: #00af00; text-decoration-color: #00af00\">0</span> │\n",
       "├──────────────────────────────────────┼─────────────────────────────┼─────────────────┤\n",
       "│ conv_gru2d_layer_2 (<span style=\"color: #0087ff; text-decoration-color: #0087ff\">ConvGRU2DLayer</span>)  │ (<span style=\"color: #00d7ff; text-decoration-color: #00d7ff\">None</span>, <span style=\"color: #00af00; text-decoration-color: #00af00\">1</span>, <span style=\"color: #00af00; text-decoration-color: #00af00\">11</span>, <span style=\"color: #00af00; text-decoration-color: #00af00\">11</span>, <span style=\"color: #00af00; text-decoration-color: #00af00\">128</span>)      │         <span style=\"color: #00af00; text-decoration-color: #00af00\">451,072</span> │\n",
       "├──────────────────────────────────────┼─────────────────────────────┼─────────────────┤\n",
       "│ conv3d_2 (<span style=\"color: #0087ff; text-decoration-color: #0087ff\">Conv3D</span>)                    │ (<span style=\"color: #00d7ff; text-decoration-color: #00d7ff\">None</span>, <span style=\"color: #00af00; text-decoration-color: #00af00\">1</span>, <span style=\"color: #00af00; text-decoration-color: #00af00\">11</span>, <span style=\"color: #00af00; text-decoration-color: #00af00\">11</span>, <span style=\"color: #00af00; text-decoration-color: #00af00\">128</span>)      │         <span style=\"color: #00af00; text-decoration-color: #00af00\">442,496</span> │\n",
       "├──────────────────────────────────────┼─────────────────────────────┼─────────────────┤\n",
       "│ max_pooling3d_2 (<span style=\"color: #0087ff; text-decoration-color: #0087ff\">MaxPooling3D</span>)       │ (<span style=\"color: #00d7ff; text-decoration-color: #00d7ff\">None</span>, <span style=\"color: #00af00; text-decoration-color: #00af00\">1</span>, <span style=\"color: #00af00; text-decoration-color: #00af00\">6</span>, <span style=\"color: #00af00; text-decoration-color: #00af00\">6</span>, <span style=\"color: #00af00; text-decoration-color: #00af00\">128</span>)        │               <span style=\"color: #00af00; text-decoration-color: #00af00\">0</span> │\n",
       "├──────────────────────────────────────┼─────────────────────────────┼─────────────────┤\n",
       "│ flatten (<span style=\"color: #0087ff; text-decoration-color: #0087ff\">Flatten</span>)                    │ (<span style=\"color: #00d7ff; text-decoration-color: #00d7ff\">None</span>, <span style=\"color: #00af00; text-decoration-color: #00af00\">4608</span>)                │               <span style=\"color: #00af00; text-decoration-color: #00af00\">0</span> │\n",
       "└──────────────────────────────────────┴─────────────────────────────┴─────────────────┘\n",
       "</pre>\n"
      ],
      "text/plain": [
       "┏━━━━━━━━━━━━━━━━━━━━━━━━━━━━━━━━━━━━━━┳━━━━━━━━━━━━━━━━━━━━━━━━━━━━━┳━━━━━━━━━━━━━━━━━┓\n",
       "┃\u001b[1m \u001b[0m\u001b[1mLayer (type)                        \u001b[0m\u001b[1m \u001b[0m┃\u001b[1m \u001b[0m\u001b[1mOutput Shape               \u001b[0m\u001b[1m \u001b[0m┃\u001b[1m \u001b[0m\u001b[1m        Param #\u001b[0m\u001b[1m \u001b[0m┃\n",
       "┡━━━━━━━━━━━━━━━━━━━━━━━━━━━━━━━━━━━━━━╇━━━━━━━━━━━━━━━━━━━━━━━━━━━━━╇━━━━━━━━━━━━━━━━━┩\n",
       "│ input_layer (\u001b[38;5;33mInputLayer\u001b[0m)             │ (\u001b[38;5;45mNone\u001b[0m, \u001b[38;5;34m8\u001b[0m, \u001b[38;5;34m95\u001b[0m, \u001b[38;5;34m95\u001b[0m, \u001b[38;5;34m2\u001b[0m)        │               \u001b[38;5;34m0\u001b[0m │\n",
       "├──────────────────────────────────────┼─────────────────────────────┼─────────────────┤\n",
       "│ conv_gru2d_layer (\u001b[38;5;33mConvGRU2DLayer\u001b[0m)    │ (\u001b[38;5;45mNone\u001b[0m, \u001b[38;5;34m8\u001b[0m, \u001b[38;5;34m95\u001b[0m, \u001b[38;5;34m95\u001b[0m, \u001b[38;5;34m32\u001b[0m)       │          \u001b[38;5;34m27,840\u001b[0m │\n",
       "├──────────────────────────────────────┼─────────────────────────────┼─────────────────┤\n",
       "│ conv3d (\u001b[38;5;33mConv3D\u001b[0m)                      │ (\u001b[38;5;45mNone\u001b[0m, \u001b[38;5;34m8\u001b[0m, \u001b[38;5;34m95\u001b[0m, \u001b[38;5;34m95\u001b[0m, \u001b[38;5;34m32\u001b[0m)       │          \u001b[38;5;34m27,680\u001b[0m │\n",
       "├──────────────────────────────────────┼─────────────────────────────┼─────────────────┤\n",
       "│ max_pooling3d (\u001b[38;5;33mMaxPooling3D\u001b[0m)         │ (\u001b[38;5;45mNone\u001b[0m, \u001b[38;5;34m2\u001b[0m, \u001b[38;5;34m32\u001b[0m, \u001b[38;5;34m32\u001b[0m, \u001b[38;5;34m32\u001b[0m)       │               \u001b[38;5;34m0\u001b[0m │\n",
       "├──────────────────────────────────────┼─────────────────────────────┼─────────────────┤\n",
       "│ conv_gru2d_layer_1 (\u001b[38;5;33mConvGRU2DLayer\u001b[0m)  │ (\u001b[38;5;45mNone\u001b[0m, \u001b[38;5;34m2\u001b[0m, \u001b[38;5;34m32\u001b[0m, \u001b[38;5;34m32\u001b[0m, \u001b[38;5;34m64\u001b[0m)       │         \u001b[38;5;34m112,896\u001b[0m │\n",
       "├──────────────────────────────────────┼─────────────────────────────┼─────────────────┤\n",
       "│ conv3d_1 (\u001b[38;5;33mConv3D\u001b[0m)                    │ (\u001b[38;5;45mNone\u001b[0m, \u001b[38;5;34m2\u001b[0m, \u001b[38;5;34m32\u001b[0m, \u001b[38;5;34m32\u001b[0m, \u001b[38;5;34m64\u001b[0m)       │         \u001b[38;5;34m110,656\u001b[0m │\n",
       "├──────────────────────────────────────┼─────────────────────────────┼─────────────────┤\n",
       "│ max_pooling3d_1 (\u001b[38;5;33mMaxPooling3D\u001b[0m)       │ (\u001b[38;5;45mNone\u001b[0m, \u001b[38;5;34m1\u001b[0m, \u001b[38;5;34m11\u001b[0m, \u001b[38;5;34m11\u001b[0m, \u001b[38;5;34m64\u001b[0m)       │               \u001b[38;5;34m0\u001b[0m │\n",
       "├──────────────────────────────────────┼─────────────────────────────┼─────────────────┤\n",
       "│ conv_gru2d_layer_2 (\u001b[38;5;33mConvGRU2DLayer\u001b[0m)  │ (\u001b[38;5;45mNone\u001b[0m, \u001b[38;5;34m1\u001b[0m, \u001b[38;5;34m11\u001b[0m, \u001b[38;5;34m11\u001b[0m, \u001b[38;5;34m128\u001b[0m)      │         \u001b[38;5;34m451,072\u001b[0m │\n",
       "├──────────────────────────────────────┼─────────────────────────────┼─────────────────┤\n",
       "│ conv3d_2 (\u001b[38;5;33mConv3D\u001b[0m)                    │ (\u001b[38;5;45mNone\u001b[0m, \u001b[38;5;34m1\u001b[0m, \u001b[38;5;34m11\u001b[0m, \u001b[38;5;34m11\u001b[0m, \u001b[38;5;34m128\u001b[0m)      │         \u001b[38;5;34m442,496\u001b[0m │\n",
       "├──────────────────────────────────────┼─────────────────────────────┼─────────────────┤\n",
       "│ max_pooling3d_2 (\u001b[38;5;33mMaxPooling3D\u001b[0m)       │ (\u001b[38;5;45mNone\u001b[0m, \u001b[38;5;34m1\u001b[0m, \u001b[38;5;34m6\u001b[0m, \u001b[38;5;34m6\u001b[0m, \u001b[38;5;34m128\u001b[0m)        │               \u001b[38;5;34m0\u001b[0m │\n",
       "├──────────────────────────────────────┼─────────────────────────────┼─────────────────┤\n",
       "│ flatten (\u001b[38;5;33mFlatten\u001b[0m)                    │ (\u001b[38;5;45mNone\u001b[0m, \u001b[38;5;34m4608\u001b[0m)                │               \u001b[38;5;34m0\u001b[0m │\n",
       "└──────────────────────────────────────┴─────────────────────────────┴─────────────────┘\n"
      ]
     },
     "metadata": {},
     "output_type": "display_data"
    },
    {
     "data": {
      "text/html": [
       "<pre style=\"white-space:pre;overflow-x:auto;line-height:normal;font-family:Menlo,'DejaVu Sans Mono',consolas,'Courier New',monospace\"><span style=\"font-weight: bold\"> Total params: </span><span style=\"color: #00af00; text-decoration-color: #00af00\">1,172,640</span> (4.47 MB)\n",
       "</pre>\n"
      ],
      "text/plain": [
       "\u001b[1m Total params: \u001b[0m\u001b[38;5;34m1,172,640\u001b[0m (4.47 MB)\n"
      ]
     },
     "metadata": {},
     "output_type": "display_data"
    },
    {
     "data": {
      "text/html": [
       "<pre style=\"white-space:pre;overflow-x:auto;line-height:normal;font-family:Menlo,'DejaVu Sans Mono',consolas,'Courier New',monospace\"><span style=\"font-weight: bold\"> Trainable params: </span><span style=\"color: #00af00; text-decoration-color: #00af00\">1,172,640</span> (4.47 MB)\n",
       "</pre>\n"
      ],
      "text/plain": [
       "\u001b[1m Trainable params: \u001b[0m\u001b[38;5;34m1,172,640\u001b[0m (4.47 MB)\n"
      ]
     },
     "metadata": {},
     "output_type": "display_data"
    },
    {
     "data": {
      "text/html": [
       "<pre style=\"white-space:pre;overflow-x:auto;line-height:normal;font-family:Menlo,'DejaVu Sans Mono',consolas,'Courier New',monospace\"><span style=\"font-weight: bold\"> Non-trainable params: </span><span style=\"color: #00af00; text-decoration-color: #00af00\">0</span> (0.00 B)\n",
       "</pre>\n"
      ],
      "text/plain": [
       "\u001b[1m Non-trainable params: \u001b[0m\u001b[38;5;34m0\u001b[0m (0.00 B)\n"
      ]
     },
     "metadata": {},
     "output_type": "display_data"
    }
   ],
   "source": [
    "import tensorflow as tf\n",
    "from tensorflow.keras import layers, models\n",
    "import numpy as np\n",
    "\n",
    "# Define the ConvGRU2DLayer (same as before)\n",
    "class ConvGRU2DLayer(layers.Layer):\n",
    "    def __init__(self, filters, kernel_size, return_sequences=True, **kwargs):\n",
    "        super().__init__(**kwargs)\n",
    "        self.filters = filters\n",
    "        self.kernel_size = kernel_size\n",
    "        self.return_sequences = return_sequences\n",
    "\n",
    "    def build(self, input_shape):\n",
    "        self.input_projection = layers.Conv2D(self.filters, (1, 1), padding=\"same\")\n",
    "        self.conv_z = layers.Conv2D(self.filters, self.kernel_size, padding=\"same\", activation=\"sigmoid\")\n",
    "        self.conv_r = layers.Conv2D(self.filters, self.kernel_size, padding=\"same\", activation=\"sigmoid\")\n",
    "        self.conv_h = layers.Conv2D(self.filters, self.kernel_size, padding=\"same\", activation=\"tanh\")\n",
    "        super().build(input_shape)\n",
    "\n",
    "    def call(self, inputs):\n",
    "        batch_size, time_steps, height, width, channels = tf.unstack(tf.shape(inputs))\n",
    "        time_steps=inputs.shape[1]\n",
    "        h_t = tf.zeros((batch_size, height, width, self.filters))\n",
    "        outputs = []\n",
    "\n",
    "        for t in range(time_steps):\n",
    "            x_t = inputs[:, t, :, :, :]\n",
    "            x_projected = self.input_projection(x_t)\n",
    "            z = self.conv_z(x_projected)+self.conv_z(h_t)\n",
    "            r = self.conv_r(x_projected)+self.conv_z(h_t)\n",
    "            h_tilde = self.conv_h(r * h_t)\n",
    "            h_t = (1 - z) * h_t + z * h_tilde\n",
    "\n",
    "            if self.return_sequences:\n",
    "                outputs.append(h_t)\n",
    "\n",
    "        if self.return_sequences:\n",
    "            outputs = tf.stack(outputs, axis=1)\n",
    "        else:\n",
    "            outputs = h_t\n",
    "\n",
    "        return outputs\n",
    "\n",
    "# Define the model (same as before)\n",
    "def build_convgru_model(input_shape=(8, 95, 95, 2)):\n",
    "    input_tensor = layers.Input(shape=input_shape)\n",
    "    x = ConvGRU2DLayer(filters=32, kernel_size=(3, 3), return_sequences=True)(input_tensor)\n",
    "    x = layers.Conv3D(filters=32, kernel_size=(3, 3, 3), padding='same', activation='relu')(x)\n",
    "    x = layers.MaxPooling3D(pool_size=(2, 2, 2), strides=(4, 3, 3), padding='same')(x)\n",
    "    x = ConvGRU2DLayer(filters=64, kernel_size=(3, 3), return_sequences=True)(x)\n",
    "    x = layers.Conv3D(filters=64, kernel_size=(3, 3, 3), padding='same', activation='relu')(x)\n",
    "    x = layers.MaxPooling3D(pool_size=(2, 2, 2), strides=(4, 3, 3), padding='same')(x)\n",
    "    x = ConvGRU2DLayer(filters=128, kernel_size=(3, 3), return_sequences=True)(x)\n",
    "    x = layers.Conv3D(filters=128, kernel_size=(3, 3, 3), padding='same', activation='relu')(x)\n",
    "    x = layers.MaxPooling3D(pool_size=(2, 2, 2), strides=(2, 2, 2), padding='same')(x)\n",
    "    x = layers.Flatten()(x)\n",
    "    model = models.Model(inputs=input_tensor, outputs=x)\n",
    "    return model\n",
    "input_shape = (8, 95, 95, 2)  # (time_steps, features)\n",
    "convgru_model = build_convgru_model(input_shape=input_shape)\n",
    "convgru_model.summary()"
   ]
  },
  {
   "cell_type": "markdown",
   "id": "7dec96a7",
   "metadata": {
    "papermill": {
     "duration": 0.004401,
     "end_time": "2025-03-19T04:51:39.185884",
     "exception": false,
     "start_time": "2025-03-19T04:51:39.181483",
     "status": "completed"
    },
    "tags": []
   },
   "source": [
    "# Building the Radial Structure"
   ]
  },
  {
   "cell_type": "code",
   "execution_count": 3,
   "id": "b61aecb1",
   "metadata": {
    "execution": {
     "iopub.execute_input": "2025-03-19T04:51:39.195703Z",
     "iopub.status.busy": "2025-03-19T04:51:39.195479Z",
     "iopub.status.idle": "2025-03-19T04:51:39.211182Z",
     "shell.execute_reply": "2025-03-19T04:51:39.210542Z"
    },
    "papermill": {
     "duration": 0.022071,
     "end_time": "2025-03-19T04:51:39.212413",
     "exception": false,
     "start_time": "2025-03-19T04:51:39.190342",
     "status": "completed"
    },
    "tags": []
   },
   "outputs": [],
   "source": [
    "def radial_structure_subnet(input_shape):\n",
    "    \"\"\"\n",
    "    Creates the subnet for extracting TC radial structure features using a five-branch CNN design with 2D convolutions.\n",
    "\n",
    "    Parameters:\n",
    "    - input_shape: tuple, shape of the input data (e.g., (95, 95, 3))\n",
    "\n",
    "    Returns:\n",
    "    - model: tf.keras.Model, the radial structure subnet model\n",
    "    \"\"\"\n",
    "    \n",
    "    input_tensor = layers.Input(shape=input_shape)\n",
    "\n",
    "    # Divide input data into four quadrants (NW, NE, SW, SE)\n",
    "    # Assuming the input shape is (batch_size, height, width, channels)\n",
    "    \n",
    "    # Quadrant extraction - using slicing to separate quadrants\n",
    "    nw_quadrant = input_tensor[:, :input_shape[0]//2, :input_shape[1]//2, :]\n",
    "    ne_quadrant = input_tensor[:, :input_shape[0]//2, input_shape[1]//2:, :]\n",
    "    sw_quadrant = input_tensor[:, input_shape[0]//2:, :input_shape[1]//2, :]\n",
    "    se_quadrant = input_tensor[:, input_shape[0]//2:, input_shape[1]//2:, :]\n",
    "\n",
    "\n",
    "    target_height = max(input_shape[0]//2, input_shape[0] - input_shape[0]//2)  # 48\n",
    "    target_width = max(input_shape[1]//2, input_shape[1] - input_shape[1]//2)  # 48\n",
    "    \n",
    "    # Padding the quadrants to match the target size (48, 48)\n",
    "    nw_quadrant = layers.ZeroPadding2D(padding=((0, target_height - nw_quadrant.shape[1]), \n",
    "                                                (0, target_width - nw_quadrant.shape[2])))(nw_quadrant)\n",
    "    ne_quadrant = layers.ZeroPadding2D(padding=((0, target_height - ne_quadrant.shape[1]), \n",
    "                                                (0, target_width - ne_quadrant.shape[2])))(ne_quadrant)\n",
    "    sw_quadrant = layers.ZeroPadding2D(padding=((0, target_height - sw_quadrant.shape[1]), \n",
    "                                                (0, target_width - sw_quadrant.shape[2])))(sw_quadrant)\n",
    "    se_quadrant = layers.ZeroPadding2D(padding=((0, target_height - se_quadrant.shape[1]), \n",
    "                                                (0, target_width - se_quadrant.shape[2])))(se_quadrant)\n",
    "\n",
    "    print(nw_quadrant.shape)\n",
    "    print(ne_quadrant.shape)\n",
    "    print(sw_quadrant.shape)\n",
    "    print(se_quadrant.shape)\n",
    "    # Main branch (processing the entire structure)\n",
    "    main_branch = layers.Conv2D(filters=8, kernel_size=(3, 3), padding='same', activation='relu')(input_tensor)\n",
    "    y=layers.MaxPool2D()(main_branch)\n",
    "\n",
    "    y = layers.ZeroPadding2D(padding=((0, target_height - y.shape[1]), \n",
    "                                   (0, target_width - y.shape[2])))(y)\n",
    "    # Side branches (processing the individual quadrants)\n",
    "    nw_branch = layers.Conv2D(filters=8, kernel_size=(3, 3), padding='same', activation='relu')(nw_quadrant)\n",
    "    ne_branch = layers.Conv2D(filters=8, kernel_size=(3, 3), padding='same', activation='relu')(ne_quadrant)\n",
    "    sw_branch = layers.Conv2D(filters=8, kernel_size=(3, 3), padding='same', activation='relu')(sw_quadrant)\n",
    "    se_branch = layers.Conv2D(filters=8, kernel_size=(3, 3), padding='same', activation='relu')(se_quadrant)\n",
    "    \n",
    "    # Apply padding to the side branches to match the dimensions of the main branch\n",
    "    # nw_branch = layers.UpSampling2D(size=(2, 2), interpolation='nearest')(nw_branch)\n",
    "    # ne_branch = layers.UpSampling2D(size=(2, 2), interpolation='nearest')(ne_branch)\n",
    "    # sw_branch = layers.UpSampling2D(size=(2, 2), interpolation='nearest')(sw_branch)\n",
    "    # se_branch = layers.UpSampling2D(size=(2, 2), interpolation='nearest')(se_branch)\n",
    "    \n",
    "    # Fusion operations (concatenate the outputs from the main branch and side branches)\n",
    "    fusion = layers.concatenate([y, nw_branch, ne_branch, sw_branch, se_branch], axis=-1)\n",
    "    \n",
    "    # Additional convolution layer to combine the fused features\n",
    "    x = layers.Conv2D(filters=16, kernel_size=(3, 3), padding='same', activation='relu')(fusion)\n",
    "    x=layers.MaxPool2D(pool_size=(2, 2))(x)\n",
    "    # Final dense layer for further processing\n",
    "    nw_branch = layers.Conv2D(filters=16, kernel_size=(3, 3), padding='same', activation='relu')(nw_branch)\n",
    "    \n",
    "    ne_branch = layers.Conv2D(filters=16, kernel_size=(3, 3), padding='same', activation='relu')(ne_branch)\n",
    "    sw_branch = layers.Conv2D(filters=16, kernel_size=(3, 3), padding='same', activation='relu')(sw_branch)\n",
    "    se_branch = layers.Conv2D(filters=16, kernel_size=(3, 3), padding='same', activation='relu')(se_branch)\n",
    "    nw_branch = layers.MaxPool2D(pool_size=(2, 2))(nw_branch)\n",
    "    ne_branch = layers.MaxPool2D(pool_size=(2, 2))(ne_branch)\n",
    "    sw_branch = layers.MaxPool2D(pool_size=(2, 2))(sw_branch)\n",
    "    se_branch = layers.MaxPool2D(pool_size=(2, 2))(se_branch)\n",
    "\n",
    "    fusion = layers.concatenate([x, nw_branch, ne_branch, sw_branch, se_branch], axis=-1)\n",
    "    x = layers.Conv2D(filters=32, kernel_size=(3, 3), padding='same', activation='relu')(fusion)\n",
    "    x=layers.MaxPool2D(pool_size=(2, 2))(x)\n",
    "    \n",
    "    nw_branch = layers.Conv2D(filters=32, kernel_size=(3, 3), padding='same', activation='relu')(nw_branch)\n",
    "    \n",
    "    ne_branch = layers.Conv2D(filters=32, kernel_size=(3, 3), padding='same', activation='relu')(ne_branch)\n",
    "    sw_branch = layers.Conv2D(filters=32, kernel_size=(3, 3), padding='same', activation='relu')(sw_branch)\n",
    "    se_branch = layers.Conv2D(filters=32, kernel_size=(3, 3), padding='same', activation='relu')(se_branch)\n",
    "    nw_branch = layers.MaxPool2D(pool_size=(2, 2))(nw_branch)\n",
    "    ne_branch = layers.MaxPool2D(pool_size=(2, 2))(ne_branch)\n",
    "    sw_branch = layers.MaxPool2D(pool_size=(2, 2))(sw_branch)\n",
    "    se_branch = layers.MaxPool2D(pool_size=(2, 2))(se_branch)\n",
    "\n",
    "    fusion = layers.concatenate([x, nw_branch, ne_branch, sw_branch, se_branch], axis=-1)\n",
    "    x = layers.Conv2D(filters=32, kernel_size=(3, 3),  activation='relu')(fusion)\n",
    "    x=layers.Conv2D(filters=32, kernel_size=(3, 3), activation=None)(x)\n",
    "    # Create and return the model\n",
    "    x=layers.Flatten()(x)\n",
    "    model = models.Model(inputs=input_tensor, outputs=x)\n",
    "    return model\n",
    "\n",
    "# Define input shape (batch_size, height, width, channels)\n",
    "# input_shape = (95, 95, 8)  # Example input shape (95x95 spatial resolution, 3 channels)\n",
    "\n",
    "# # Build the model\n",
    "# model = radial_structure_subnet(input_shape)\n",
    "\n",
    "# # Model summary\n",
    "# model.summary()\n"
   ]
  },
  {
   "cell_type": "markdown",
   "id": "64c1c009",
   "metadata": {
    "papermill": {
     "duration": 0.004376,
     "end_time": "2025-03-19T04:51:39.221345",
     "exception": false,
     "start_time": "2025-03-19T04:51:39.216969",
     "status": "completed"
    },
    "tags": []
   },
   "source": [
    "# Building the CNN Model"
   ]
  },
  {
   "cell_type": "code",
   "execution_count": 4,
   "id": "fda102a0",
   "metadata": {
    "execution": {
     "iopub.execute_input": "2025-03-19T04:51:39.231135Z",
     "iopub.status.busy": "2025-03-19T04:51:39.230932Z",
     "iopub.status.idle": "2025-03-19T04:51:39.234673Z",
     "shell.execute_reply": "2025-03-19T04:51:39.234058Z"
    },
    "papermill": {
     "duration": 0.00993,
     "end_time": "2025-03-19T04:51:39.235849",
     "exception": false,
     "start_time": "2025-03-19T04:51:39.225919",
     "status": "completed"
    },
    "tags": []
   },
   "outputs": [],
   "source": [
    "def build_cnn_model(input_shape=(8, 8, 1)):\n",
    "    # Define the input layer\n",
    "    input_tensor = layers.Input(shape=input_shape)\n",
    "    \n",
    "    # Convolutional layer\n",
    "    x = layers.Conv2D(64, (3, 3), padding='same')(input_tensor)\n",
    "    x = layers.BatchNormalization()(x)\n",
    "    x = layers.ReLU()(x)\n",
    "    \n",
    "    # Flatten layer\n",
    "    x = layers.Flatten()(x)\n",
    "    \n",
    "    # Create the model\n",
    "    model = models.Model(inputs=input_tensor, outputs=x)\n",
    "    \n",
    "    return model\n",
    "\n",
    "# # Example usage:\n",
    "# cnn_model = build_cnn_model(input_shape=(8, 8, 1))\n",
    "# cnn_model.summary()\n"
   ]
  },
  {
   "cell_type": "markdown",
   "id": "42bfa3eb",
   "metadata": {
    "papermill": {
     "duration": 0.004443,
     "end_time": "2025-03-19T04:51:39.244977",
     "exception": false,
     "start_time": "2025-03-19T04:51:39.240534",
     "status": "completed"
    },
    "tags": []
   },
   "source": [
    "# Building the Combined Model"
   ]
  },
  {
   "cell_type": "code",
   "execution_count": 5,
   "id": "6945437d",
   "metadata": {
    "execution": {
     "iopub.execute_input": "2025-03-19T04:51:39.254767Z",
     "iopub.status.busy": "2025-03-19T04:51:39.254531Z",
     "iopub.status.idle": "2025-03-19T04:51:39.260435Z",
     "shell.execute_reply": "2025-03-19T04:51:39.259657Z"
    },
    "papermill": {
     "duration": 0.012215,
     "end_time": "2025-03-19T04:51:39.261725",
     "exception": false,
     "start_time": "2025-03-19T04:51:39.249510",
     "status": "completed"
    },
    "tags": []
   },
   "outputs": [],
   "source": [
    "from tensorflow.keras import layers, models, Input\n",
    "\n",
    "def build_combined_model():\n",
    "    # Define input shapes\n",
    "    input_shape_3d = (8, 95, 95, 2)\n",
    "    input_shape_radial = (95, 95, 8)\n",
    "    input_shape_cnn = (8, 8, 1)\n",
    "    \n",
    "    input_shape_latitude = (8,)\n",
    "    input_shape_longitude = (8,)\n",
    "    input_shape_other = (9,)\n",
    "\n",
    "    # Build individual models\n",
    "    model_3d = build_convgru_model(input_shape=input_shape_3d)\n",
    "    model_radial = radial_structure_subnet(input_shape=input_shape_radial)\n",
    "    model_cnn = build_cnn_model(input_shape=input_shape_cnn)\n",
    "\n",
    "    # Define new inputs\n",
    "    input_latitude = Input(shape=input_shape_latitude ,name=\"latitude_input\")\n",
    "    input_longitude = Input(shape=input_shape_longitude, name=\"longitude_input\")\n",
    "    input_other = Input(shape=input_shape_other, name=\"other_input\")\n",
    "\n",
    "    # Flatten the additional inputs\n",
    "    flat_latitude = layers.Dense(32,activation='relu')(input_latitude)\n",
    "    flat_longitude = layers.Dense(32,activation='relu')(input_longitude)\n",
    "    flat_other = layers.Dense(64,activation='relu')(input_other)\n",
    "\n",
    "    # Combine all outputs\n",
    "    combined = layers.concatenate([\n",
    "        model_3d.output, \n",
    "        model_radial.output, \n",
    "        model_cnn.output,\n",
    "        flat_latitude, \n",
    "        flat_longitude, \n",
    "        flat_other\n",
    "    ])\n",
    "\n",
    "    # Add dense layers for final processing\n",
    "    x = layers.Dense(128, activation='relu')(combined)  \n",
    "    x = layers.Dense(1, activation=None)(x)\n",
    "\n",
    "    # Create the final model\n",
    "    final_model = models.Model(\n",
    "        inputs=[model_3d.input, model_radial.input, model_cnn.input,\n",
    "                input_latitude, input_longitude, input_other ],\n",
    "        outputs=x\n",
    "    )\n",
    "\n",
    "    return final_model\n",
    "\n",
    "# Build and summarize the updated model\n",
    "# final_model = build_combined_model()\n",
    "# final_model.summary()\n"
   ]
  },
  {
   "cell_type": "markdown",
   "id": "a6b61567",
   "metadata": {
    "papermill": {
     "duration": 0.004526,
     "end_time": "2025-03-19T04:51:39.270950",
     "exception": false,
     "start_time": "2025-03-19T04:51:39.266424",
     "status": "completed"
    },
    "tags": []
   },
   "source": [
    "# Reinitializing the Model"
   ]
  },
  {
   "cell_type": "code",
   "execution_count": 6,
   "id": "2d2e1c4e",
   "metadata": {
    "execution": {
     "iopub.execute_input": "2025-03-19T04:51:39.280938Z",
     "iopub.status.busy": "2025-03-19T04:51:39.280737Z",
     "iopub.status.idle": "2025-03-19T04:51:40.483990Z",
     "shell.execute_reply": "2025-03-19T04:51:40.482895Z"
    },
    "papermill": {
     "duration": 1.209716,
     "end_time": "2025-03-19T04:51:40.485400",
     "exception": false,
     "start_time": "2025-03-19T04:51:39.275684",
     "status": "completed"
    },
    "tags": []
   },
   "outputs": [
    {
     "name": "stdout",
     "output_type": "stream",
     "text": [
      "(None, 48, 48, 8)\n",
      "(None, 48, 48, 8)\n",
      "(None, 48, 48, 8)\n",
      "(None, 48, 48, 8)\n"
     ]
    }
   ],
   "source": [
    "import tensorflow as tf\n",
    "from keras import backend as K\n",
    "\n",
    "# Clear session to remove any previously created computation graphs\n",
    "K.clear_session()\n",
    "tf.keras.backend.clear_session()\n",
    "\n",
    "# Re-initialize your model\n",
    "final_model = build_combined_model()  # Make sure this function initializes your model properly\n"
   ]
  },
  {
   "cell_type": "markdown",
   "id": "22a30e97",
   "metadata": {
    "papermill": {
     "duration": 0.004595,
     "end_time": "2025-03-19T04:51:40.495034",
     "exception": false,
     "start_time": "2025-03-19T04:51:40.490439",
     "status": "completed"
    },
    "tags": []
   },
   "source": [
    "# Compiling the Model"
   ]
  },
  {
   "cell_type": "code",
   "execution_count": 7,
   "id": "386253b1",
   "metadata": {
    "execution": {
     "iopub.execute_input": "2025-03-19T04:51:40.504907Z",
     "iopub.status.busy": "2025-03-19T04:51:40.504686Z",
     "iopub.status.idle": "2025-03-19T04:51:40.507811Z",
     "shell.execute_reply": "2025-03-19T04:51:40.507153Z"
    },
    "papermill": {
     "duration": 0.009477,
     "end_time": "2025-03-19T04:51:40.509033",
     "exception": false,
     "start_time": "2025-03-19T04:51:40.499556",
     "status": "completed"
    },
    "tags": []
   },
   "outputs": [],
   "source": [
    "from tensorflow.keras import layers, models, optimizers"
   ]
  },
  {
   "cell_type": "code",
   "execution_count": 8,
   "id": "64acf895",
   "metadata": {
    "execution": {
     "iopub.execute_input": "2025-03-19T04:51:40.519073Z",
     "iopub.status.busy": "2025-03-19T04:51:40.518864Z",
     "iopub.status.idle": "2025-03-19T04:51:40.529075Z",
     "shell.execute_reply": "2025-03-19T04:51:40.528486Z"
    },
    "papermill": {
     "duration": 0.016416,
     "end_time": "2025-03-19T04:51:40.530158",
     "exception": false,
     "start_time": "2025-03-19T04:51:40.513742",
     "status": "completed"
    },
    "tags": []
   },
   "outputs": [],
   "source": [
    "final_model.compile(optimizer=optimizers.Adam(learning_rate=0.001),\n",
    "                    loss='mse',  # Use 'categorical_crossentropy' for multi-class\n",
    "                    metrics=['accuracy'])"
   ]
  },
  {
   "cell_type": "markdown",
   "id": "e3e8d5e0",
   "metadata": {
    "papermill": {
     "duration": 0.00435,
     "end_time": "2025-03-19T04:51:40.539131",
     "exception": false,
     "start_time": "2025-03-19T04:51:40.534781",
     "status": "completed"
    },
    "tags": []
   },
   "source": [
    "# Loading our Extracted data from TCIR dataset"
   ]
  },
  {
   "cell_type": "code",
   "execution_count": 9,
   "id": "f5458bde",
   "metadata": {
    "execution": {
     "iopub.execute_input": "2025-03-19T04:51:40.548924Z",
     "iopub.status.busy": "2025-03-19T04:51:40.548720Z",
     "iopub.status.idle": "2025-03-19T04:52:32.609064Z",
     "shell.execute_reply": "2025-03-19T04:52:32.608253Z"
    },
    "papermill": {
     "duration": 52.067089,
     "end_time": "2025-03-19T04:52:32.610687",
     "exception": false,
     "start_time": "2025-03-19T04:51:40.543598",
     "status": "completed"
    },
    "tags": []
   },
   "outputs": [],
   "source": [
    "import numpy as np\n",
    "reduced_images=np.load('/kaggle/input/project-data-set/reduced_images.npy')\n",
    "hov_m_train=np.load('/kaggle/input/project-data-set/hov_m_train.npy')\n",
    "train_vmax_3d=np.load('/kaggle/input/project-data-set/train_vmax_3d.npy')\n",
    "lat_train=np.load('/kaggle/input/project-data-set/lat_train.npy')\n",
    "lon_train=np.load('/kaggle/input/project-data-set/lon_train.npy')\n",
    "int_diff_train=np.load('/kaggle/input/project-data-set/int_diff_train.npy')\n",
    "y_train_avg=np.load('/kaggle/input/project-data-set/y_train_avg.npy')\n",
    "reduced_images_test=np.load('/kaggle/input/project-data-set/reduced_images_test.npy')\n",
    "hov_m_test=np.load('/kaggle/input/project-data-set/hov_m_test.npy')\n",
    "test_vmax_3d=np.load('/kaggle/input/project-data-set/test_vmax_3d.npy')\n",
    "lat_test=np.load('/kaggle/input/project-data-set/lat_test.npy')\n",
    "lon_test=np.load('/kaggle/input/project-data-set/lon_test.npy')\n",
    "int_diff_test=np.load('/kaggle/input/project-data-set/int_diff_test.npy')\n",
    "y_test_avg=np.load('/kaggle/input/project-data-set/y_test_avg.npy')\n",
    "reduced_images_valid=np.load('/kaggle/input/project-data-set/reduced_images_valid.npy')\n",
    "hov_m_valid=np.load('/kaggle/input/project-data-set/hov_m_valid.npy')\n",
    "valid_vmax_3d=np.load('/kaggle/input/project-data-set/valid_vmax_3d.npy')\n",
    "lat_valid=np.load('/kaggle/input/project-data-set/lat_valid.npy')\n",
    "lon_valid=np.load('/kaggle/input/project-data-set/lon_valid.npy')\n",
    "int_diff_valid=np.load('/kaggle/input/project-data-set/int_diff_valid.npy')\n",
    "y_valid_avg=np.load('/kaggle/input/project-data-set/y_valid_avg.npy')\n"
   ]
  },
  {
   "cell_type": "markdown",
   "id": "3bf1ca5b",
   "metadata": {
    "papermill": {
     "duration": 0.004445,
     "end_time": "2025-03-19T04:52:32.620475",
     "exception": false,
     "start_time": "2025-03-19T04:52:32.616030",
     "status": "completed"
    },
    "tags": []
   },
   "source": [
    "# Fitting the Model and Prediction"
   ]
  },
  {
   "cell_type": "code",
   "execution_count": 10,
   "id": "2a81fabe",
   "metadata": {
    "execution": {
     "iopub.execute_input": "2025-03-19T04:52:32.630461Z",
     "iopub.status.busy": "2025-03-19T04:52:32.630154Z",
     "iopub.status.idle": "2025-03-19T04:54:18.971240Z",
     "shell.execute_reply": "2025-03-19T04:54:18.970267Z"
    },
    "papermill": {
     "duration": 106.347657,
     "end_time": "2025-03-19T04:54:18.972713",
     "exception": false,
     "start_time": "2025-03-19T04:52:32.625056",
     "status": "completed"
    },
    "tags": []
   },
   "outputs": [
    {
     "name": "stdout",
     "output_type": "stream",
     "text": [
      "\u001b[1m311/311\u001b[0m \u001b[32m━━━━━━━━━━━━━━━━━━━━\u001b[0m\u001b[37m\u001b[0m \u001b[1m95s\u001b[0m 219ms/step - accuracy: 0.0000e+00 - loss: 6891.0757 - val_accuracy: 0.0000e+00 - val_loss: 99.7596\n"
     ]
    },
    {
     "data": {
      "text/plain": [
       "<keras.src.callbacks.history.History at 0x78dafb722a10>"
      ]
     },
     "execution_count": 10,
     "metadata": {},
     "output_type": "execute_result"
    }
   ],
   "source": [
    "final_model.fit(\n",
    "    [reduced_images, hov_m_train, train_vmax_3d, lat_train, lon_train, int_diff_train], \n",
    "    y_train_avg, \n",
    "    validation_data=(\n",
    "        [reduced_images_valid, hov_m_valid, valid_vmax_3d, lat_valid, lon_valid, int_diff_valid], \n",
    "        y_valid_avg\n",
    "    ),\n",
    "    epochs=1, \n",
    "    batch_size=16\n",
    ")\n"
   ]
  },
  {
   "cell_type": "code",
   "execution_count": 11,
   "id": "17be9144",
   "metadata": {
    "execution": {
     "iopub.execute_input": "2025-03-19T04:54:19.010921Z",
     "iopub.status.busy": "2025-03-19T04:54:19.010655Z",
     "iopub.status.idle": "2025-03-19T04:54:19.014826Z",
     "shell.execute_reply": "2025-03-19T04:54:19.013923Z"
    },
    "papermill": {
     "duration": 0.02414,
     "end_time": "2025-03-19T04:54:19.016085",
     "exception": false,
     "start_time": "2025-03-19T04:54:18.991945",
     "status": "completed"
    },
    "tags": []
   },
   "outputs": [
    {
     "name": "stdout",
     "output_type": "stream",
     "text": [
      "TensorFlow Version: 2.17.1\n",
      "GPU Available: [PhysicalDevice(name='/physical_device:GPU:0', device_type='GPU')]\n"
     ]
    }
   ],
   "source": [
    "import tensorflow as tf\n",
    "print(\"TensorFlow Version:\", tf.__version__)\n",
    "print(\"GPU Available:\", tf.config.list_physical_devices('GPU'))"
   ]
  },
  {
   "cell_type": "code",
   "execution_count": 12,
   "id": "3d5c3134",
   "metadata": {
    "execution": {
     "iopub.execute_input": "2025-03-19T04:54:19.053784Z",
     "iopub.status.busy": "2025-03-19T04:54:19.053560Z",
     "iopub.status.idle": "2025-03-19T04:54:19.295711Z",
     "shell.execute_reply": "2025-03-19T04:54:19.294683Z"
    },
    "papermill": {
     "duration": 0.26273,
     "end_time": "2025-03-19T04:54:19.297302",
     "exception": false,
     "start_time": "2025-03-19T04:54:19.034572",
     "status": "completed"
    },
    "tags": []
   },
   "outputs": [],
   "source": [
    "final_model.save(\"convgru-model.h5\")\n"
   ]
  },
  {
   "cell_type": "code",
   "execution_count": 13,
   "id": "4a045708",
   "metadata": {
    "execution": {
     "iopub.execute_input": "2025-03-19T04:54:19.335270Z",
     "iopub.status.busy": "2025-03-19T04:54:19.334964Z",
     "iopub.status.idle": "2025-03-19T04:54:29.230091Z",
     "shell.execute_reply": "2025-03-19T04:54:29.229092Z"
    },
    "papermill": {
     "duration": 9.915629,
     "end_time": "2025-03-19T04:54:29.231773",
     "exception": false,
     "start_time": "2025-03-19T04:54:19.316144",
     "status": "completed"
    },
    "tags": []
   },
   "outputs": [
    {
     "name": "stdout",
     "output_type": "stream",
     "text": [
      "\u001b[1m30/30\u001b[0m \u001b[32m━━━━━━━━━━━━━━━━━━━━\u001b[0m\u001b[37m\u001b[0m \u001b[1m8s\u001b[0m 144ms/step\n"
     ]
    }
   ],
   "source": [
    "y=final_model.predict([reduced_images_test,hov_m_test,test_vmax_3d,lat_test,lon_test,int_diff_test ])"
   ]
  },
  {
   "cell_type": "markdown",
   "id": "65664e6d",
   "metadata": {
    "papermill": {
     "duration": 0.019766,
     "end_time": "2025-03-19T04:54:29.272645",
     "exception": false,
     "start_time": "2025-03-19T04:54:29.252879",
     "status": "completed"
    },
    "tags": []
   },
   "source": [
    "# Model Evaluation"
   ]
  },
  {
   "cell_type": "code",
   "execution_count": 14,
   "id": "4e3317d0",
   "metadata": {
    "execution": {
     "iopub.execute_input": "2025-03-19T04:54:29.313132Z",
     "iopub.status.busy": "2025-03-19T04:54:29.312886Z",
     "iopub.status.idle": "2025-03-19T04:54:30.087151Z",
     "shell.execute_reply": "2025-03-19T04:54:30.086453Z"
    },
    "papermill": {
     "duration": 0.796699,
     "end_time": "2025-03-19T04:54:30.088815",
     "exception": false,
     "start_time": "2025-03-19T04:54:29.292116",
     "status": "completed"
    },
    "tags": []
   },
   "outputs": [],
   "source": [
    "from sklearn.metrics import mean_squared_error, mean_absolute_error"
   ]
  },
  {
   "cell_type": "code",
   "execution_count": 15,
   "id": "a0771b31",
   "metadata": {
    "execution": {
     "iopub.execute_input": "2025-03-19T04:54:30.130311Z",
     "iopub.status.busy": "2025-03-19T04:54:30.129597Z",
     "iopub.status.idle": "2025-03-19T04:54:30.136110Z",
     "shell.execute_reply": "2025-03-19T04:54:30.135470Z"
    },
    "papermill": {
     "duration": 0.028079,
     "end_time": "2025-03-19T04:54:30.137371",
     "exception": false,
     "start_time": "2025-03-19T04:54:30.109292",
     "status": "completed"
    },
    "tags": []
   },
   "outputs": [
    {
     "data": {
      "text/plain": [
       "7.313749315374989"
      ]
     },
     "execution_count": 15,
     "metadata": {},
     "output_type": "execute_result"
    }
   ],
   "source": [
    "mae = mean_absolute_error(y_test_avg, y)\n",
    "\n",
    "# Output the Mean Absolute Error\n",
    "mae"
   ]
  },
  {
   "cell_type": "code",
   "execution_count": 16,
   "id": "84757cf1",
   "metadata": {
    "execution": {
     "iopub.execute_input": "2025-03-19T04:54:30.178082Z",
     "iopub.status.busy": "2025-03-19T04:54:30.177843Z",
     "iopub.status.idle": "2025-03-19T04:54:30.182439Z",
     "shell.execute_reply": "2025-03-19T04:54:30.181787Z"
    },
    "papermill": {
     "duration": 0.026393,
     "end_time": "2025-03-19T04:54:30.183643",
     "exception": false,
     "start_time": "2025-03-19T04:54:30.157250",
     "status": "completed"
    },
    "tags": []
   },
   "outputs": [
    {
     "name": "stdout",
     "output_type": "stream",
     "text": [
      "10.302975975339479\n"
     ]
    }
   ],
   "source": [
    "rmse = mean_squared_error(y_test_avg, y, squared=False)\n",
    "\n",
    "# Output the Root Mean Square Error\n",
    "print(rmse)"
   ]
  }
 ],
 "metadata": {
  "kaggle": {
   "accelerator": "gpu",
   "dataSources": [
    {
     "datasetId": 6769161,
     "sourceId": 10892566,
     "sourceType": "datasetVersion"
    }
   ],
   "dockerImageVersionId": 30919,
   "isGpuEnabled": true,
   "isInternetEnabled": true,
   "language": "python",
   "sourceType": "notebook"
  },
  "kernelspec": {
   "display_name": "Python 3",
   "language": "python",
   "name": "python3"
  },
  "language_info": {
   "codemirror_mode": {
    "name": "ipython",
    "version": 3
   },
   "file_extension": ".py",
   "mimetype": "text/x-python",
   "name": "python",
   "nbconvert_exporter": "python",
   "pygments_lexer": "ipython3",
   "version": "3.10.12"
  },
  "papermill": {
   "default_parameters": {},
   "duration": 191.859076,
   "end_time": "2025-03-19T04:54:33.552975",
   "environment_variables": {},
   "exception": null,
   "input_path": "__notebook__.ipynb",
   "output_path": "__notebook__.ipynb",
   "parameters": {},
   "start_time": "2025-03-19T04:51:21.693899",
   "version": "2.6.0"
  }
 },
 "nbformat": 4,
 "nbformat_minor": 5
}
