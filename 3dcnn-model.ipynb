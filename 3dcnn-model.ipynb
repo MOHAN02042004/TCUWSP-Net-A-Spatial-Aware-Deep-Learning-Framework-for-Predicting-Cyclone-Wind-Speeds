{
 "cells": [
  {
   "cell_type": "markdown",
   "id": "b1394a45",
   "metadata": {
    "papermill": {
     "duration": 0.004727,
     "end_time": "2025-03-18T15:03:36.036512",
     "exception": false,
     "start_time": "2025-03-18T15:03:36.031785",
     "status": "completed"
    },
    "tags": []
   },
   "source": [
    "# 3DCNN Model for Calculating the Intensity of Tropical Cyclones"
   ]
  },
  {
   "cell_type": "markdown",
   "id": "0ae66899",
   "metadata": {
    "papermill": {
     "duration": 0.003887,
     "end_time": "2025-03-18T15:03:36.044575",
     "exception": false,
     "start_time": "2025-03-18T15:03:36.040688",
     "status": "completed"
    },
    "tags": []
   },
   "source": [
    "# Building the 3D Convolution Model"
   ]
  },
  {
   "cell_type": "code",
   "execution_count": 1,
   "id": "01ecdbcf",
   "metadata": {
    "_cell_guid": "b1076dfc-b9ad-4769-8c92-a6c4dae69d19",
    "_uuid": "8f2839f25d086af736a60e9eeb907d3b93b6e0e5",
    "execution": {
     "iopub.execute_input": "2025-03-18T15:03:36.053316Z",
     "iopub.status.busy": "2025-03-18T15:03:36.053111Z",
     "iopub.status.idle": "2025-03-18T15:03:50.714410Z",
     "shell.execute_reply": "2025-03-18T15:03:50.713777Z"
    },
    "papermill": {
     "duration": 14.667186,
     "end_time": "2025-03-18T15:03:50.715789",
     "exception": false,
     "start_time": "2025-03-18T15:03:36.048603",
     "status": "completed"
    },
    "tags": []
   },
   "outputs": [
    {
     "data": {
      "text/html": [
       "<pre style=\"white-space:pre;overflow-x:auto;line-height:normal;font-family:Menlo,'DejaVu Sans Mono',consolas,'Courier New',monospace\"><span style=\"font-weight: bold\">Model: \"functional\"</span>\n",
       "</pre>\n"
      ],
      "text/plain": [
       "\u001b[1mModel: \"functional\"\u001b[0m\n"
      ]
     },
     "metadata": {},
     "output_type": "display_data"
    },
    {
     "data": {
      "text/html": [
       "<pre style=\"white-space:pre;overflow-x:auto;line-height:normal;font-family:Menlo,'DejaVu Sans Mono',consolas,'Courier New',monospace\">┏━━━━━━━━━━━━━━━━━━━━━━━━━━━━━━━━━━━━━━┳━━━━━━━━━━━━━━━━━━━━━━━━━━━━━┳━━━━━━━━━━━━━━━━━┓\n",
       "┃<span style=\"font-weight: bold\"> Layer (type)                         </span>┃<span style=\"font-weight: bold\"> Output Shape                </span>┃<span style=\"font-weight: bold\">         Param # </span>┃\n",
       "┡━━━━━━━━━━━━━━━━━━━━━━━━━━━━━━━━━━━━━━╇━━━━━━━━━━━━━━━━━━━━━━━━━━━━━╇━━━━━━━━━━━━━━━━━┩\n",
       "│ input_layer (<span style=\"color: #0087ff; text-decoration-color: #0087ff\">InputLayer</span>)             │ (<span style=\"color: #00d7ff; text-decoration-color: #00d7ff\">None</span>, <span style=\"color: #00af00; text-decoration-color: #00af00\">8</span>, <span style=\"color: #00af00; text-decoration-color: #00af00\">95</span>, <span style=\"color: #00af00; text-decoration-color: #00af00\">95</span>, <span style=\"color: #00af00; text-decoration-color: #00af00\">2</span>)        │               <span style=\"color: #00af00; text-decoration-color: #00af00\">0</span> │\n",
       "├──────────────────────────────────────┼─────────────────────────────┼─────────────────┤\n",
       "│ conv3d (<span style=\"color: #0087ff; text-decoration-color: #0087ff\">Conv3D</span>)                      │ (<span style=\"color: #00d7ff; text-decoration-color: #00d7ff\">None</span>, <span style=\"color: #00af00; text-decoration-color: #00af00\">8</span>, <span style=\"color: #00af00; text-decoration-color: #00af00\">95</span>, <span style=\"color: #00af00; text-decoration-color: #00af00\">95</span>, <span style=\"color: #00af00; text-decoration-color: #00af00\">32</span>)       │           <span style=\"color: #00af00; text-decoration-color: #00af00\">1,760</span> │\n",
       "├──────────────────────────────────────┼─────────────────────────────┼─────────────────┤\n",
       "│ max_pooling3d (<span style=\"color: #0087ff; text-decoration-color: #0087ff\">MaxPooling3D</span>)         │ (<span style=\"color: #00d7ff; text-decoration-color: #00d7ff\">None</span>, <span style=\"color: #00af00; text-decoration-color: #00af00\">2</span>, <span style=\"color: #00af00; text-decoration-color: #00af00\">32</span>, <span style=\"color: #00af00; text-decoration-color: #00af00\">32</span>, <span style=\"color: #00af00; text-decoration-color: #00af00\">32</span>)       │               <span style=\"color: #00af00; text-decoration-color: #00af00\">0</span> │\n",
       "├──────────────────────────────────────┼─────────────────────────────┼─────────────────┤\n",
       "│ conv3d_1 (<span style=\"color: #0087ff; text-decoration-color: #0087ff\">Conv3D</span>)                    │ (<span style=\"color: #00d7ff; text-decoration-color: #00d7ff\">None</span>, <span style=\"color: #00af00; text-decoration-color: #00af00\">2</span>, <span style=\"color: #00af00; text-decoration-color: #00af00\">32</span>, <span style=\"color: #00af00; text-decoration-color: #00af00\">32</span>, <span style=\"color: #00af00; text-decoration-color: #00af00\">64</span>)       │          <span style=\"color: #00af00; text-decoration-color: #00af00\">55,360</span> │\n",
       "├──────────────────────────────────────┼─────────────────────────────┼─────────────────┤\n",
       "│ max_pooling3d_1 (<span style=\"color: #0087ff; text-decoration-color: #0087ff\">MaxPooling3D</span>)       │ (<span style=\"color: #00d7ff; text-decoration-color: #00d7ff\">None</span>, <span style=\"color: #00af00; text-decoration-color: #00af00\">1</span>, <span style=\"color: #00af00; text-decoration-color: #00af00\">11</span>, <span style=\"color: #00af00; text-decoration-color: #00af00\">11</span>, <span style=\"color: #00af00; text-decoration-color: #00af00\">64</span>)       │               <span style=\"color: #00af00; text-decoration-color: #00af00\">0</span> │\n",
       "├──────────────────────────────────────┼─────────────────────────────┼─────────────────┤\n",
       "│ conv3d_2 (<span style=\"color: #0087ff; text-decoration-color: #0087ff\">Conv3D</span>)                    │ (<span style=\"color: #00d7ff; text-decoration-color: #00d7ff\">None</span>, <span style=\"color: #00af00; text-decoration-color: #00af00\">1</span>, <span style=\"color: #00af00; text-decoration-color: #00af00\">11</span>, <span style=\"color: #00af00; text-decoration-color: #00af00\">11</span>, <span style=\"color: #00af00; text-decoration-color: #00af00\">128</span>)      │         <span style=\"color: #00af00; text-decoration-color: #00af00\">221,312</span> │\n",
       "├──────────────────────────────────────┼─────────────────────────────┼─────────────────┤\n",
       "│ max_pooling3d_2 (<span style=\"color: #0087ff; text-decoration-color: #0087ff\">MaxPooling3D</span>)       │ (<span style=\"color: #00d7ff; text-decoration-color: #00d7ff\">None</span>, <span style=\"color: #00af00; text-decoration-color: #00af00\">1</span>, <span style=\"color: #00af00; text-decoration-color: #00af00\">6</span>, <span style=\"color: #00af00; text-decoration-color: #00af00\">6</span>, <span style=\"color: #00af00; text-decoration-color: #00af00\">128</span>)        │               <span style=\"color: #00af00; text-decoration-color: #00af00\">0</span> │\n",
       "├──────────────────────────────────────┼─────────────────────────────┼─────────────────┤\n",
       "│ flatten (<span style=\"color: #0087ff; text-decoration-color: #0087ff\">Flatten</span>)                    │ (<span style=\"color: #00d7ff; text-decoration-color: #00d7ff\">None</span>, <span style=\"color: #00af00; text-decoration-color: #00af00\">4608</span>)                │               <span style=\"color: #00af00; text-decoration-color: #00af00\">0</span> │\n",
       "└──────────────────────────────────────┴─────────────────────────────┴─────────────────┘\n",
       "</pre>\n"
      ],
      "text/plain": [
       "┏━━━━━━━━━━━━━━━━━━━━━━━━━━━━━━━━━━━━━━┳━━━━━━━━━━━━━━━━━━━━━━━━━━━━━┳━━━━━━━━━━━━━━━━━┓\n",
       "┃\u001b[1m \u001b[0m\u001b[1mLayer (type)                        \u001b[0m\u001b[1m \u001b[0m┃\u001b[1m \u001b[0m\u001b[1mOutput Shape               \u001b[0m\u001b[1m \u001b[0m┃\u001b[1m \u001b[0m\u001b[1m        Param #\u001b[0m\u001b[1m \u001b[0m┃\n",
       "┡━━━━━━━━━━━━━━━━━━━━━━━━━━━━━━━━━━━━━━╇━━━━━━━━━━━━━━━━━━━━━━━━━━━━━╇━━━━━━━━━━━━━━━━━┩\n",
       "│ input_layer (\u001b[38;5;33mInputLayer\u001b[0m)             │ (\u001b[38;5;45mNone\u001b[0m, \u001b[38;5;34m8\u001b[0m, \u001b[38;5;34m95\u001b[0m, \u001b[38;5;34m95\u001b[0m, \u001b[38;5;34m2\u001b[0m)        │               \u001b[38;5;34m0\u001b[0m │\n",
       "├──────────────────────────────────────┼─────────────────────────────┼─────────────────┤\n",
       "│ conv3d (\u001b[38;5;33mConv3D\u001b[0m)                      │ (\u001b[38;5;45mNone\u001b[0m, \u001b[38;5;34m8\u001b[0m, \u001b[38;5;34m95\u001b[0m, \u001b[38;5;34m95\u001b[0m, \u001b[38;5;34m32\u001b[0m)       │           \u001b[38;5;34m1,760\u001b[0m │\n",
       "├──────────────────────────────────────┼─────────────────────────────┼─────────────────┤\n",
       "│ max_pooling3d (\u001b[38;5;33mMaxPooling3D\u001b[0m)         │ (\u001b[38;5;45mNone\u001b[0m, \u001b[38;5;34m2\u001b[0m, \u001b[38;5;34m32\u001b[0m, \u001b[38;5;34m32\u001b[0m, \u001b[38;5;34m32\u001b[0m)       │               \u001b[38;5;34m0\u001b[0m │\n",
       "├──────────────────────────────────────┼─────────────────────────────┼─────────────────┤\n",
       "│ conv3d_1 (\u001b[38;5;33mConv3D\u001b[0m)                    │ (\u001b[38;5;45mNone\u001b[0m, \u001b[38;5;34m2\u001b[0m, \u001b[38;5;34m32\u001b[0m, \u001b[38;5;34m32\u001b[0m, \u001b[38;5;34m64\u001b[0m)       │          \u001b[38;5;34m55,360\u001b[0m │\n",
       "├──────────────────────────────────────┼─────────────────────────────┼─────────────────┤\n",
       "│ max_pooling3d_1 (\u001b[38;5;33mMaxPooling3D\u001b[0m)       │ (\u001b[38;5;45mNone\u001b[0m, \u001b[38;5;34m1\u001b[0m, \u001b[38;5;34m11\u001b[0m, \u001b[38;5;34m11\u001b[0m, \u001b[38;5;34m64\u001b[0m)       │               \u001b[38;5;34m0\u001b[0m │\n",
       "├──────────────────────────────────────┼─────────────────────────────┼─────────────────┤\n",
       "│ conv3d_2 (\u001b[38;5;33mConv3D\u001b[0m)                    │ (\u001b[38;5;45mNone\u001b[0m, \u001b[38;5;34m1\u001b[0m, \u001b[38;5;34m11\u001b[0m, \u001b[38;5;34m11\u001b[0m, \u001b[38;5;34m128\u001b[0m)      │         \u001b[38;5;34m221,312\u001b[0m │\n",
       "├──────────────────────────────────────┼─────────────────────────────┼─────────────────┤\n",
       "│ max_pooling3d_2 (\u001b[38;5;33mMaxPooling3D\u001b[0m)       │ (\u001b[38;5;45mNone\u001b[0m, \u001b[38;5;34m1\u001b[0m, \u001b[38;5;34m6\u001b[0m, \u001b[38;5;34m6\u001b[0m, \u001b[38;5;34m128\u001b[0m)        │               \u001b[38;5;34m0\u001b[0m │\n",
       "├──────────────────────────────────────┼─────────────────────────────┼─────────────────┤\n",
       "│ flatten (\u001b[38;5;33mFlatten\u001b[0m)                    │ (\u001b[38;5;45mNone\u001b[0m, \u001b[38;5;34m4608\u001b[0m)                │               \u001b[38;5;34m0\u001b[0m │\n",
       "└──────────────────────────────────────┴─────────────────────────────┴─────────────────┘\n"
      ]
     },
     "metadata": {},
     "output_type": "display_data"
    },
    {
     "data": {
      "text/html": [
       "<pre style=\"white-space:pre;overflow-x:auto;line-height:normal;font-family:Menlo,'DejaVu Sans Mono',consolas,'Courier New',monospace\"><span style=\"font-weight: bold\"> Total params: </span><span style=\"color: #00af00; text-decoration-color: #00af00\">278,432</span> (1.06 MB)\n",
       "</pre>\n"
      ],
      "text/plain": [
       "\u001b[1m Total params: \u001b[0m\u001b[38;5;34m278,432\u001b[0m (1.06 MB)\n"
      ]
     },
     "metadata": {},
     "output_type": "display_data"
    },
    {
     "data": {
      "text/html": [
       "<pre style=\"white-space:pre;overflow-x:auto;line-height:normal;font-family:Menlo,'DejaVu Sans Mono',consolas,'Courier New',monospace\"><span style=\"font-weight: bold\"> Trainable params: </span><span style=\"color: #00af00; text-decoration-color: #00af00\">278,432</span> (1.06 MB)\n",
       "</pre>\n"
      ],
      "text/plain": [
       "\u001b[1m Trainable params: \u001b[0m\u001b[38;5;34m278,432\u001b[0m (1.06 MB)\n"
      ]
     },
     "metadata": {},
     "output_type": "display_data"
    },
    {
     "data": {
      "text/html": [
       "<pre style=\"white-space:pre;overflow-x:auto;line-height:normal;font-family:Menlo,'DejaVu Sans Mono',consolas,'Courier New',monospace\"><span style=\"font-weight: bold\"> Non-trainable params: </span><span style=\"color: #00af00; text-decoration-color: #00af00\">0</span> (0.00 B)\n",
       "</pre>\n"
      ],
      "text/plain": [
       "\u001b[1m Non-trainable params: \u001b[0m\u001b[38;5;34m0\u001b[0m (0.00 B)\n"
      ]
     },
     "metadata": {},
     "output_type": "display_data"
    }
   ],
   "source": [
    "import tensorflow as tf\n",
    "from tensorflow.keras import layers, models\n",
    "\n",
    "def build_3d_conv_model(input_shape=(8, 95, 95, 2), batch_size=16):\n",
    "    \"\"\"\n",
    "    Builds a 3D ConvLSTM model with Conv3D layers and MaxPooling3D layers.\n",
    "    \n",
    "    Parameters:\n",
    "    - input_shape: Shape of the input tensor (time_steps, height, width, channels).\n",
    "    - batch_size: Batch size for the model.\n",
    "    \n",
    "    Returns:\n",
    "    - model: The compiled Keras model.\n",
    "    \"\"\"\n",
    "    # Input tensor\n",
    "    input_tensor = layers.Input(shape=input_shape)\n",
    "    \n",
    "    # First ConvLSTM2D block with Conv3D\n",
    "    # x = layers.ConvLSTM2D(filters=32, kernel_size=(3, 3), padding='same', return_sequences=True)(input_tensor)\n",
    "    x = layers.Conv3D(filters=32, kernel_size=(3, 3, 3), padding='same', activation='relu')(input_tensor)\n",
    "    x = layers.MaxPooling3D(pool_size=(2, 2, 2), strides=(4, 3, 3), padding='same')(x)\n",
    "    \n",
    "    # Second ConvLSTM2D block with Conv3D\n",
    "    # x = layers.ConvLSTM2D(filters=64, kernel_size=(3, 3), padding='same', return_sequences=True)(x)\n",
    "    x = layers.Conv3D(filters=64, kernel_size=(3, 3, 3), padding='same', activation='relu')(x)\n",
    "    x = layers.MaxPooling3D(pool_size=(2, 2, 2), strides=(4, 3, 3), padding='same')(x)\n",
    "    \n",
    "    # Third ConvLSTM2D block with Conv3D\n",
    "    # x = layers.ConvLSTM2D(filters=128, kernel_size=(3, 3), padding='same', return_sequences=True)(x)\n",
    "    x = layers.Conv3D(filters=128, kernel_size=(3, 3, 3), padding='same', activation='relu')(x)\n",
    "    x = layers.MaxPooling3D(pool_size=(2, 2, 2), strides=(2, 2, 2), padding='same')(x)\n",
    "    \n",
    "    # Flatten the output before passing to the fully connected layers\n",
    "    x = layers.Flatten()(x)\n",
    "    \n",
    "    # Create the final model\n",
    "    model = models.Model(inputs=input_tensor, outputs=x)\n",
    "    \n",
    "    return model\n",
    "\n",
    "input_shape = (8, 95, 95, 2)\n",
    "batch_size = 16\n",
    "\n",
    "# Build the model\n",
    "model = build_3d_conv_model(input_shape=input_shape, batch_size=batch_size)\n",
    "\n",
    "# Print model summary\n",
    "model.summary()"
   ]
  },
  {
   "cell_type": "markdown",
   "id": "89533855",
   "metadata": {
    "papermill": {
     "duration": 0.004465,
     "end_time": "2025-03-18T15:03:50.725250",
     "exception": false,
     "start_time": "2025-03-18T15:03:50.720785",
     "status": "completed"
    },
    "tags": []
   },
   "source": [
    "# Building the Radial Structure"
   ]
  },
  {
   "cell_type": "code",
   "execution_count": 2,
   "id": "6a289d57",
   "metadata": {
    "execution": {
     "iopub.execute_input": "2025-03-18T15:03:50.735644Z",
     "iopub.status.busy": "2025-03-18T15:03:50.735134Z",
     "iopub.status.idle": "2025-03-18T15:03:50.750781Z",
     "shell.execute_reply": "2025-03-18T15:03:50.749944Z"
    },
    "papermill": {
     "duration": 0.022048,
     "end_time": "2025-03-18T15:03:50.752015",
     "exception": false,
     "start_time": "2025-03-18T15:03:50.729967",
     "status": "completed"
    },
    "tags": []
   },
   "outputs": [],
   "source": [
    "import tensorflow as tf\n",
    "from tensorflow.keras import layers, models\n",
    "\n",
    "def radial_structure_subnet(input_shape):\n",
    "    \"\"\"\n",
    "    Creates the subnet for extracting TC radial structure features using a five-branch CNN design with 2D convolutions.\n",
    "\n",
    "    Parameters:\n",
    "    - input_shape: tuple, shape of the input data (e.g., (95, 95, 3))\n",
    "\n",
    "    Returns:\n",
    "    - model: tf.keras.Model, the radial structure subnet model\n",
    "    \"\"\"\n",
    "    \n",
    "    input_tensor = layers.Input(shape=input_shape)\n",
    "\n",
    "    # Divide input data into four quadrants (NW, NE, SW, SE)\n",
    "    # Assuming the input shape is (batch_size, height, width, channels)\n",
    "    \n",
    "    # Quadrant extraction - using slicing to separate quadrants\n",
    "    nw_quadrant = input_tensor[:, :input_shape[0]//2, :input_shape[1]//2, :]\n",
    "    ne_quadrant = input_tensor[:, :input_shape[0]//2, input_shape[1]//2:, :]\n",
    "    sw_quadrant = input_tensor[:, input_shape[0]//2:, :input_shape[1]//2, :]\n",
    "    se_quadrant = input_tensor[:, input_shape[0]//2:, input_shape[1]//2:, :]\n",
    "\n",
    "\n",
    "    target_height = max(input_shape[0]//2, input_shape[0] - input_shape[0]//2)  # 48\n",
    "    target_width = max(input_shape[1]//2, input_shape[1] - input_shape[1]//2)  # 48\n",
    "    \n",
    "    # Padding the quadrants to match the target size (48, 48)\n",
    "    nw_quadrant = layers.ZeroPadding2D(padding=((0, target_height - nw_quadrant.shape[1]), \n",
    "                                                (0, target_width - nw_quadrant.shape[2])))(nw_quadrant)\n",
    "    ne_quadrant = layers.ZeroPadding2D(padding=((0, target_height - ne_quadrant.shape[1]), \n",
    "                                                (0, target_width - ne_quadrant.shape[2])))(ne_quadrant)\n",
    "    sw_quadrant = layers.ZeroPadding2D(padding=((0, target_height - sw_quadrant.shape[1]), \n",
    "                                                (0, target_width - sw_quadrant.shape[2])))(sw_quadrant)\n",
    "    se_quadrant = layers.ZeroPadding2D(padding=((0, target_height - se_quadrant.shape[1]), \n",
    "                                                (0, target_width - se_quadrant.shape[2])))(se_quadrant)\n",
    "\n",
    "    print(nw_quadrant.shape)\n",
    "    print(ne_quadrant.shape)\n",
    "    print(sw_quadrant.shape)\n",
    "    print(se_quadrant.shape)\n",
    "    # Main branch (processing the entire structure)\n",
    "    main_branch = layers.Conv2D(filters=8, kernel_size=(3, 3), padding='same', activation='relu')(input_tensor)\n",
    "    y=layers.MaxPool2D()(main_branch)\n",
    "\n",
    "    y = layers.ZeroPadding2D(padding=((0, target_height - y.shape[1]), \n",
    "                                   (0, target_width - y.shape[2])))(y)\n",
    "    # Side branches (processing the individual quadrants)\n",
    "    nw_branch = layers.Conv2D(filters=8, kernel_size=(3, 3), padding='same', activation='relu')(nw_quadrant)\n",
    "    ne_branch = layers.Conv2D(filters=8, kernel_size=(3, 3), padding='same', activation='relu')(ne_quadrant)\n",
    "    sw_branch = layers.Conv2D(filters=8, kernel_size=(3, 3), padding='same', activation='relu')(sw_quadrant)\n",
    "    se_branch = layers.Conv2D(filters=8, kernel_size=(3, 3), padding='same', activation='relu')(se_quadrant)\n",
    "    \n",
    "    # Apply padding to the side branches to match the dimensions of the main branch\n",
    "    # nw_branch = layers.UpSampling2D(size=(2, 2), interpolation='nearest')(nw_branch)\n",
    "    # ne_branch = layers.UpSampling2D(size=(2, 2), interpolation='nearest')(ne_branch)\n",
    "    # sw_branch = layers.UpSampling2D(size=(2, 2), interpolation='nearest')(sw_branch)\n",
    "    # se_branch = layers.UpSampling2D(size=(2, 2), interpolation='nearest')(se_branch)\n",
    "    \n",
    "    # Fusion operations (concatenate the outputs from the main branch and side branches)\n",
    "    fusion = layers.concatenate([y, nw_branch, ne_branch, sw_branch, se_branch], axis=-1)\n",
    "    \n",
    "    # Additional convolution layer to combine the fused features\n",
    "    x = layers.Conv2D(filters=16, kernel_size=(3, 3), padding='same', activation='relu')(fusion)\n",
    "    x=layers.MaxPool2D(pool_size=(2, 2))(x)\n",
    "\n",
    "    # Final dense layer for further processing\n",
    "    nw_branch = layers.Conv2D(filters=16, kernel_size=(3, 3), padding='same', activation='relu')(nw_branch)\n",
    "    \n",
    "    ne_branch = layers.Conv2D(filters=16, kernel_size=(3, 3), padding='same', activation='relu')(ne_branch)\n",
    "    sw_branch = layers.Conv2D(filters=16, kernel_size=(3, 3), padding='same', activation='relu')(sw_branch)\n",
    "    se_branch = layers.Conv2D(filters=16, kernel_size=(3, 3), padding='same', activation='relu')(se_branch)\n",
    "    nw_branch = layers.MaxPool2D(pool_size=(2, 2))(nw_branch)\n",
    "    ne_branch = layers.MaxPool2D(pool_size=(2, 2))(ne_branch)\n",
    "    sw_branch = layers.MaxPool2D(pool_size=(2, 2))(sw_branch)\n",
    "    se_branch = layers.MaxPool2D(pool_size=(2, 2))(se_branch)\n",
    "\n",
    "    fusion = layers.concatenate([x, nw_branch, ne_branch, sw_branch, se_branch], axis=-1)\n",
    "    x = layers.Conv2D(filters=32, kernel_size=(3, 3), padding='same', activation='relu')(fusion)\n",
    "    x=layers.MaxPool2D(pool_size=(2, 2))(x)\n",
    "    \n",
    "    nw_branch = layers.Conv2D(filters=32, kernel_size=(3, 3), padding='same', activation='relu')(nw_branch)\n",
    "    \n",
    "    ne_branch = layers.Conv2D(filters=32, kernel_size=(3, 3), padding='same', activation='relu')(ne_branch)\n",
    "    sw_branch = layers.Conv2D(filters=32, kernel_size=(3, 3), padding='same', activation='relu')(sw_branch)\n",
    "    se_branch = layers.Conv2D(filters=32, kernel_size=(3, 3), padding='same', activation='relu')(se_branch)\n",
    "    nw_branch = layers.MaxPool2D(pool_size=(2, 2))(nw_branch)\n",
    "    ne_branch = layers.MaxPool2D(pool_size=(2, 2))(ne_branch)\n",
    "    sw_branch = layers.MaxPool2D(pool_size=(2, 2))(sw_branch)\n",
    "    se_branch = layers.MaxPool2D(pool_size=(2, 2))(se_branch)\n",
    "\n",
    "    fusion = layers.concatenate([x, nw_branch, ne_branch, sw_branch, se_branch], axis=-1)\n",
    "    x = layers.Conv2D(filters=32, kernel_size=(3, 3),  activation='relu')(fusion)\n",
    "    x=layers.Conv2D(filters=32, kernel_size=(3, 3), activation=None)(x)\n",
    "    # Create and return the model\n",
    "    x=layers.Flatten()(x)\n",
    "    model = models.Model(inputs=input_tensor, outputs=x)\n",
    "    return model\n",
    "\n",
    "# Define input shape (batch_size, height, width, channels)\n",
    "# input_shape = (95, 95, 8)  # Example input shape (95x95 spatial resolution, 3 channels)\n",
    "\n",
    "# # Build the model\n",
    "# model = radial_structure_subnet(input_shape)\n",
    "\n",
    "# # Model summary\n",
    "# model.summary()"
   ]
  },
  {
   "cell_type": "markdown",
   "id": "aaf2d6d2",
   "metadata": {
    "papermill": {
     "duration": 0.00458,
     "end_time": "2025-03-18T15:03:50.761261",
     "exception": false,
     "start_time": "2025-03-18T15:03:50.756681",
     "status": "completed"
    },
    "tags": []
   },
   "source": [
    "# Building the CNN Model"
   ]
  },
  {
   "cell_type": "code",
   "execution_count": 3,
   "id": "6a1d0bcb",
   "metadata": {
    "execution": {
     "iopub.execute_input": "2025-03-18T15:03:50.771255Z",
     "iopub.status.busy": "2025-03-18T15:03:50.771012Z",
     "iopub.status.idle": "2025-03-18T15:03:50.775306Z",
     "shell.execute_reply": "2025-03-18T15:03:50.774529Z"
    },
    "papermill": {
     "duration": 0.010855,
     "end_time": "2025-03-18T15:03:50.776627",
     "exception": false,
     "start_time": "2025-03-18T15:03:50.765772",
     "status": "completed"
    },
    "tags": []
   },
   "outputs": [],
   "source": [
    "from tensorflow.keras import layers, models\n",
    "\n",
    "def build_cnn_model(input_shape=(8, 8, 1)):\n",
    "    # Define the input layer\n",
    "    input_tensor = layers.Input(shape=input_shape)\n",
    "    \n",
    "    # Convolutional layer\n",
    "    x = layers.Conv2D(64, (3, 3), padding='same')(input_tensor)\n",
    "    x = layers.BatchNormalization()(x)\n",
    "    x = layers.ReLU()(x)\n",
    "    \n",
    "    # Flatten layer\n",
    "    x = layers.Flatten()(x)\n",
    "    \n",
    "    # Create the model\n",
    "    model = models.Model(inputs=input_tensor, outputs=x)\n",
    "    \n",
    "    return model\n",
    "\n",
    "# cnn_model = build_cnn_model(input_shape=(8, 8, 1))\n",
    "# cnn_model.summary()"
   ]
  },
  {
   "cell_type": "markdown",
   "id": "408011be",
   "metadata": {
    "papermill": {
     "duration": 0.004508,
     "end_time": "2025-03-18T15:03:50.785846",
     "exception": false,
     "start_time": "2025-03-18T15:03:50.781338",
     "status": "completed"
    },
    "tags": []
   },
   "source": [
    "# Building the 3DCNN Model"
   ]
  },
  {
   "cell_type": "code",
   "execution_count": 4,
   "id": "32f39a4d",
   "metadata": {
    "execution": {
     "iopub.execute_input": "2025-03-18T15:03:50.795960Z",
     "iopub.status.busy": "2025-03-18T15:03:50.795756Z",
     "iopub.status.idle": "2025-03-18T15:03:50.801636Z",
     "shell.execute_reply": "2025-03-18T15:03:50.800973Z"
    },
    "papermill": {
     "duration": 0.012189,
     "end_time": "2025-03-18T15:03:50.802837",
     "exception": false,
     "start_time": "2025-03-18T15:03:50.790648",
     "status": "completed"
    },
    "tags": []
   },
   "outputs": [],
   "source": [
    "from tensorflow.keras import layers, models, Input\n",
    "\n",
    "def build_combined_model():\n",
    "    # Define input shapes\n",
    "    input_shape_3d = (8, 95, 95, 2)\n",
    "    input_shape_radial = (95, 95, 8)\n",
    "    input_shape_cnn = (8, 8, 1)\n",
    "    \n",
    "    input_shape_latitude = (8,)\n",
    "    input_shape_longitude = (8,)\n",
    "    input_shape_other = (9,)\n",
    "\n",
    "    # Build individual models\n",
    "    model_3d = build_3d_conv_model(input_shape=input_shape_3d)\n",
    "    model_radial = radial_structure_subnet(input_shape=input_shape_radial)\n",
    "    model_cnn = build_cnn_model(input_shape=input_shape_cnn)\n",
    "\n",
    "    # Define new inputs\n",
    "    input_latitude = Input(shape=input_shape_latitude ,name=\"latitude_input\")\n",
    "    input_longitude = Input(shape=input_shape_longitude, name=\"longitude_input\")\n",
    "    input_other = Input(shape=input_shape_other, name=\"other_input\")\n",
    "\n",
    "    # Flatten the additional inputs\n",
    "    flat_latitude = layers.Dense(32,activation='relu')(input_latitude)\n",
    "    flat_longitude = layers.Dense(32,activation='relu')(input_longitude)\n",
    "    flat_other = layers.Dense(64,activation='relu')(input_other)\n",
    "\n",
    "    # Combine all outputs\n",
    "    combined = layers.concatenate([\n",
    "        model_3d.output, \n",
    "        model_radial.output, \n",
    "        model_cnn.output,\n",
    "        flat_latitude, \n",
    "        flat_longitude, \n",
    "        flat_other\n",
    "    ])\n",
    "\n",
    "    # Add dense layers for final processing\n",
    "    x = layers.Dense(128, activation='relu')(combined)  \n",
    "    x = layers.Dense(1, activation=None)(x)\n",
    "\n",
    "    # Create the final model\n",
    "    final_model = models.Model(\n",
    "        inputs=[model_3d.input, model_radial.input, model_cnn.input,\n",
    "                input_latitude, input_longitude, input_other ],\n",
    "        outputs=x\n",
    "    )\n",
    "\n",
    "    return final_model\n",
    "\n",
    "# Build and summarize the updated model\n",
    "# final_model = build_combined_model()\n",
    "# final_model.summary()"
   ]
  },
  {
   "cell_type": "markdown",
   "id": "40dd838e",
   "metadata": {
    "papermill": {
     "duration": 0.00443,
     "end_time": "2025-03-18T15:03:50.812044",
     "exception": false,
     "start_time": "2025-03-18T15:03:50.807614",
     "status": "completed"
    },
    "tags": []
   },
   "source": [
    "# Reinitializing the Model"
   ]
  },
  {
   "cell_type": "code",
   "execution_count": 5,
   "id": "0d6beb1c",
   "metadata": {
    "execution": {
     "iopub.execute_input": "2025-03-18T15:03:50.822004Z",
     "iopub.status.busy": "2025-03-18T15:03:50.821801Z",
     "iopub.status.idle": "2025-03-18T15:03:51.348172Z",
     "shell.execute_reply": "2025-03-18T15:03:51.347246Z"
    },
    "papermill": {
     "duration": 0.532959,
     "end_time": "2025-03-18T15:03:51.349525",
     "exception": false,
     "start_time": "2025-03-18T15:03:50.816566",
     "status": "completed"
    },
    "tags": []
   },
   "outputs": [
    {
     "name": "stdout",
     "output_type": "stream",
     "text": [
      "(None, 48, 48, 8)\n",
      "(None, 48, 48, 8)\n",
      "(None, 48, 48, 8)\n",
      "(None, 48, 48, 8)\n"
     ]
    }
   ],
   "source": [
    "import tensorflow as tf\n",
    "from keras import backend as K\n",
    "\n",
    "# Clear session to remove any previously created computation graphs\n",
    "K.clear_session()\n",
    "tf.keras.backend.clear_session()\n",
    "\n",
    "# Re-initialize your model\n",
    "final_model = build_combined_model()  # Make sure this function initializes your model properly"
   ]
  },
  {
   "cell_type": "code",
   "execution_count": 6,
   "id": "f8e90e0a",
   "metadata": {
    "execution": {
     "iopub.execute_input": "2025-03-18T15:03:51.360130Z",
     "iopub.status.busy": "2025-03-18T15:03:51.359906Z",
     "iopub.status.idle": "2025-03-18T15:03:51.362861Z",
     "shell.execute_reply": "2025-03-18T15:03:51.362259Z"
    },
    "papermill": {
     "duration": 0.009303,
     "end_time": "2025-03-18T15:03:51.363931",
     "exception": false,
     "start_time": "2025-03-18T15:03:51.354628",
     "status": "completed"
    },
    "tags": []
   },
   "outputs": [],
   "source": [
    "from tensorflow.keras import layers, models, optimizers\n"
   ]
  },
  {
   "cell_type": "markdown",
   "id": "236854df",
   "metadata": {
    "papermill": {
     "duration": 0.004646,
     "end_time": "2025-03-18T15:03:51.373410",
     "exception": false,
     "start_time": "2025-03-18T15:03:51.368764",
     "status": "completed"
    },
    "tags": []
   },
   "source": [
    "# Compiling the Model"
   ]
  },
  {
   "cell_type": "code",
   "execution_count": 7,
   "id": "1662fd48",
   "metadata": {
    "execution": {
     "iopub.execute_input": "2025-03-18T15:03:51.383442Z",
     "iopub.status.busy": "2025-03-18T15:03:51.383217Z",
     "iopub.status.idle": "2025-03-18T15:03:51.394753Z",
     "shell.execute_reply": "2025-03-18T15:03:51.393977Z"
    },
    "papermill": {
     "duration": 0.017782,
     "end_time": "2025-03-18T15:03:51.395942",
     "exception": false,
     "start_time": "2025-03-18T15:03:51.378160",
     "status": "completed"
    },
    "tags": []
   },
   "outputs": [],
   "source": [
    "final_model.compile(optimizer=optimizers.Adam(learning_rate=0.001),\n",
    "                    loss='mse',  # Use 'categorical_crossentropy' for multi-class\n",
    "                    metrics=['accuracy'])\n"
   ]
  },
  {
   "cell_type": "markdown",
   "id": "cfa7b355",
   "metadata": {
    "papermill": {
     "duration": 0.004453,
     "end_time": "2025-03-18T15:03:51.405070",
     "exception": false,
     "start_time": "2025-03-18T15:03:51.400617",
     "status": "completed"
    },
    "tags": []
   },
   "source": [
    "# Loading our Extracted data from TCIR dataset"
   ]
  },
  {
   "cell_type": "code",
   "execution_count": 8,
   "id": "430ac5ea",
   "metadata": {
    "execution": {
     "iopub.execute_input": "2025-03-18T15:03:51.415181Z",
     "iopub.status.busy": "2025-03-18T15:03:51.414976Z",
     "iopub.status.idle": "2025-03-18T15:04:35.892464Z",
     "shell.execute_reply": "2025-03-18T15:04:35.891458Z"
    },
    "papermill": {
     "duration": 44.484487,
     "end_time": "2025-03-18T15:04:35.894400",
     "exception": false,
     "start_time": "2025-03-18T15:03:51.409913",
     "status": "completed"
    },
    "tags": []
   },
   "outputs": [],
   "source": [
    "import numpy as np\n",
    "\n",
    "reduced_images=np.load('/kaggle/input/project-data-set/reduced_images.npy')\n",
    "hov_m_train=np.load('/kaggle/input/project-data-set/hov_m_train.npy')\n",
    "train_vmax_3d=np.load('/kaggle/input/project-data-set/train_vmax_3d.npy')\n",
    "lat_train=np.load('/kaggle/input/project-data-set/lat_train.npy')\n",
    "lon_train=np.load('/kaggle/input/project-data-set/lon_train.npy')\n",
    "int_diff_train=np.load('/kaggle/input/project-data-set/int_diff_train.npy')\n",
    "y_train_avg=np.load('/kaggle/input/project-data-set/y_train_avg.npy')\n",
    "reduced_images_test=np.load('/kaggle/input/project-data-set/reduced_images_test.npy')\n",
    "hov_m_test=np.load('/kaggle/input/project-data-set/hov_m_test.npy')\n",
    "test_vmax_3d=np.load('/kaggle/input/project-data-set/test_vmax_3d.npy')\n",
    "lat_test=np.load('/kaggle/input/project-data-set/lat_test.npy')\n",
    "lon_test=np.load('/kaggle/input/project-data-set/lon_test.npy')\n",
    "int_diff_test=np.load('/kaggle/input/project-data-set/int_diff_test.npy')\n",
    "y_test_avg=np.load('/kaggle/input/project-data-set/y_test_avg.npy')\n",
    "reduced_images_valid=np.load('/kaggle/input/project-data-set/reduced_images_valid.npy')\n",
    "hov_m_valid=np.load('/kaggle/input/project-data-set/hov_m_valid.npy')\n",
    "valid_vmax_3d=np.load('/kaggle/input/project-data-set/valid_vmax_3d.npy')\n",
    "lat_valid=np.load('/kaggle/input/project-data-set/lat_valid.npy')\n",
    "lon_valid=np.load('/kaggle/input/project-data-set/lon_valid.npy')\n",
    "int_diff_valid=np.load('/kaggle/input/project-data-set/int_diff_valid.npy')\n",
    "y_valid_avg=np.load('/kaggle/input/project-data-set/y_valid_avg.npy')"
   ]
  },
  {
   "cell_type": "markdown",
   "id": "c54c2487",
   "metadata": {
    "papermill": {
     "duration": 0.004662,
     "end_time": "2025-03-18T15:04:35.904418",
     "exception": false,
     "start_time": "2025-03-18T15:04:35.899756",
     "status": "completed"
    },
    "tags": []
   },
   "source": [
    "# Fitting the Model and Prediction"
   ]
  },
  {
   "cell_type": "code",
   "execution_count": 9,
   "id": "2bbdbbf5",
   "metadata": {
    "execution": {
     "iopub.execute_input": "2025-03-18T15:04:35.914675Z",
     "iopub.status.busy": "2025-03-18T15:04:35.914396Z",
     "iopub.status.idle": "2025-03-18T15:05:20.143462Z",
     "shell.execute_reply": "2025-03-18T15:05:20.142617Z"
    },
    "papermill": {
     "duration": 44.235885,
     "end_time": "2025-03-18T15:05:20.144966",
     "exception": false,
     "start_time": "2025-03-18T15:04:35.909081",
     "status": "completed"
    },
    "tags": []
   },
   "outputs": [
    {
     "name": "stdout",
     "output_type": "stream",
     "text": [
      "\u001b[1m311/311\u001b[0m \u001b[32m━━━━━━━━━━━━━━━━━━━━\u001b[0m\u001b[37m\u001b[0m \u001b[1m33s\u001b[0m 63ms/step - accuracy: 0.0000e+00 - loss: 13112.4092 - val_accuracy: 0.0000e+00 - val_loss: 111.7751\n"
     ]
    },
    {
     "data": {
      "text/plain": [
       "<keras.src.callbacks.history.History at 0x7e73ca8ac700>"
      ]
     },
     "execution_count": 9,
     "metadata": {},
     "output_type": "execute_result"
    }
   ],
   "source": [
    "final_model.fit(\n",
    "    [reduced_images, hov_m_train, train_vmax_3d, lat_train, lon_train, int_diff_train], \n",
    "    y_train_avg, \n",
    "    validation_data=(\n",
    "        [reduced_images_valid, hov_m_valid, valid_vmax_3d, lat_valid, lon_valid, int_diff_valid], \n",
    "        y_valid_avg\n",
    "    ),\n",
    "    epochs=1, \n",
    "    batch_size=16\n",
    ")"
   ]
  },
  {
   "cell_type": "code",
   "execution_count": 10,
   "id": "f145e76e",
   "metadata": {
    "execution": {
     "iopub.execute_input": "2025-03-18T15:05:20.170687Z",
     "iopub.status.busy": "2025-03-18T15:05:20.170413Z",
     "iopub.status.idle": "2025-03-18T15:05:20.359949Z",
     "shell.execute_reply": "2025-03-18T15:05:20.358992Z"
    },
    "papermill": {
     "duration": 0.203499,
     "end_time": "2025-03-18T15:05:20.361505",
     "exception": false,
     "start_time": "2025-03-18T15:05:20.158006",
     "status": "completed"
    },
    "tags": []
   },
   "outputs": [],
   "source": [
    "final_model.save(\"3dcnn-model.h5\")\n"
   ]
  },
  {
   "cell_type": "code",
   "execution_count": 11,
   "id": "8e948bd5",
   "metadata": {
    "execution": {
     "iopub.execute_input": "2025-03-18T15:05:20.387149Z",
     "iopub.status.busy": "2025-03-18T15:05:20.386892Z",
     "iopub.status.idle": "2025-03-18T15:05:25.659295Z",
     "shell.execute_reply": "2025-03-18T15:05:25.658585Z"
    },
    "papermill": {
     "duration": 5.286849,
     "end_time": "2025-03-18T15:05:25.660731",
     "exception": false,
     "start_time": "2025-03-18T15:05:20.373882",
     "status": "completed"
    },
    "tags": []
   },
   "outputs": [
    {
     "name": "stdout",
     "output_type": "stream",
     "text": [
      "\u001b[1m30/30\u001b[0m \u001b[32m━━━━━━━━━━━━━━━━━━━━\u001b[0m\u001b[37m\u001b[0m \u001b[1m3s\u001b[0m 45ms/step\n"
     ]
    }
   ],
   "source": [
    " y=final_model.predict([reduced_images_test,hov_m_test,test_vmax_3d,lat_test,lon_test,int_diff_test ])"
   ]
  },
  {
   "cell_type": "code",
   "execution_count": 12,
   "id": "489b7203",
   "metadata": {
    "execution": {
     "iopub.execute_input": "2025-03-18T15:05:25.687368Z",
     "iopub.status.busy": "2025-03-18T15:05:25.687094Z",
     "iopub.status.idle": "2025-03-18T15:05:25.692854Z",
     "shell.execute_reply": "2025-03-18T15:05:25.692191Z"
    },
    "papermill": {
     "duration": 0.020215,
     "end_time": "2025-03-18T15:05:25.693978",
     "exception": false,
     "start_time": "2025-03-18T15:05:25.673763",
     "status": "completed"
    },
    "tags": []
   },
   "outputs": [
    {
     "data": {
      "text/plain": [
       "array([35.89672], dtype=float32)"
      ]
     },
     "execution_count": 12,
     "metadata": {},
     "output_type": "execute_result"
    }
   ],
   "source": [
    "y[0]"
   ]
  },
  {
   "cell_type": "code",
   "execution_count": 13,
   "id": "c41d69f3",
   "metadata": {
    "execution": {
     "iopub.execute_input": "2025-03-18T15:05:25.719002Z",
     "iopub.status.busy": "2025-03-18T15:05:25.718794Z",
     "iopub.status.idle": "2025-03-18T15:05:25.727799Z",
     "shell.execute_reply": "2025-03-18T15:05:25.727057Z"
    },
    "papermill": {
     "duration": 0.022617,
     "end_time": "2025-03-18T15:05:25.728929",
     "exception": false,
     "start_time": "2025-03-18T15:05:25.706312",
     "status": "completed"
    },
    "tags": []
   },
   "outputs": [
    {
     "data": {
      "text/plain": [
       "array([ 39.125,  44.375,  46.875,  33.125,  29.75 ,  32.5  ,  43.5  ,\n",
       "        26.625,  16.875,  17.625,  17.5  ,  25.375,  40.875,  40.25 ,\n",
       "        26.875,  28.125,  43.125,  56.25 ,  88.375,  92.25 ,  55.625,\n",
       "        37.125,  39.75 ,  36.625,  42.75 ,  43.125,  47.75 ,  70.   ,\n",
       "        51.25 ,  38.125,  37.625,  32.375,  31.5  ,  28.5  ,  43.25 ,\n",
       "        43.375,  34.375,  25.   ,  34.125,  43.625,  35.   ,  21.5  ,\n",
       "        25.375,  27.25 ,  25.   ,  25.   ,  25.   ,  25.   ,  28.125,\n",
       "        36.   ,  40.   ,  43.625,  39.125,  35.   ,  30.25 ,  30.   ,\n",
       "        30.   ,  24.375,  21.875,  30.   ,  37.75 ,  64.125, 103.375,\n",
       "       117.25 , 121.25 , 108.375,  76.875,  73.375,  65.625,  51.625,\n",
       "        44.625,  35.625,  31.5  ,  34.625,  23.125,  19.75 ,  25.25 ,\n",
       "        46.25 ,  62.875,  67.75 ,  52.5  ,  45.875,  51.875,  49.75 ,\n",
       "        63.625,  55.625,  50.   ,  47.25 ,  61.875,  65.   ,  55.   ,\n",
       "        42.125,  33.125,  34.375,  25.375,  25.   ,  20.25 ,  24.375,\n",
       "        32.125,  32.75 ,  25.375,  25.   ,  27.25 ,  26.625,  25.   ,\n",
       "        35.875,  45.   ,  49.125,  33.5  ,  30.625,  32.25 ,  45.875,\n",
       "        63.75 ,  50.125,  44.5  ,  31.   ,  35.625,  42.125,  40.25 ,\n",
       "        43.625,  34.375,  29.125,  20.25 ,  23.125,  39.   ,  56.875,\n",
       "        64.625,  56.   ,  55.375,  71.875,  99.   ,  88.125,  98.375,\n",
       "        91.25 ,  71.25 ,  40.25 ,  24.   ,  27.25 ,  30.   ,  30.   ,\n",
       "        30.   ,  30.   ,  30.   ,  31.875,  48.75 ,  64.5  ,  51.875,\n",
       "        60.   ,  59.75 ,  53.125,  37.75 ,  27.25 ,  30.25 ,  38.125,\n",
       "        45.   ,  45.   ,  48.125,  44.625,  42.125,  40.   ,  40.   ,\n",
       "        31.875,  27.25 ,  29.125,  28.5  ,  22.125,  23.375,  28.5  ,\n",
       "        35.625,  40.   ,  39.125,  35.   ,  35.   ,  35.   ,  30.25 ,\n",
       "        33.125,  51.5  ,  55.   ,  58.875,  29.125,  37.125,  42.125,\n",
       "        42.125,  35.375,  35.625,  34.375,  47.125,  61.625, 107.75 ,\n",
       "       134.625, 130.   , 126.375, 123.5  , 106.875, 115.75 , 103.75 ,\n",
       "        77.75 ,  63.5  ,  41.875,  48.125,  71.25 ,  57.875,  43.375,\n",
       "        53.375,  50.   ,  65.875, 102.25 ,  99.625,  68.75 ,  74.625,\n",
       "        67.25 ,  63.125,  52.125,  31.25 ,  22.125,  25.   ,  29.375,\n",
       "        46.25 ,  59.75 ,  71.75 ,  81.875,  48.75 ,  40.   ,  62.25 ,\n",
       "        85.5  , 103.75 , 120.125,  84.5  ,  57.375,  39.125,  28.5  ,\n",
       "        25.   ,  27.25 ,  40.5  ,  68.5  , 116.375,  89.125,  86.625,\n",
       "       105.375,  64.5  ,  34.   ,  29.5  ,  46.   ,  53.5  ,  71.375,\n",
       "        62.25 ,  66.125,  67.625,  27.875,  33.25 ,  37.875,  30.375,\n",
       "        26.625,  22.   ,  34.875,  49.875,  67.375,  83.875, 104.875,\n",
       "        84.875,  51.   ,  34.5  ,  29.75 ,  22.25 ,  21.25 ,  32.25 ,\n",
       "        37.25 ,  43.875,  35.375,  34.125,  30.   ,  25.375,  20.375,\n",
       "        20.   ,  27.5  ,  32.625,  27.   ,  20.   ,  20.   ,  23.75 ,\n",
       "        30.   ,  30.   ,  26.625,  22.5  ,  21.625,  27.   ,  40.125,\n",
       "        78.625,  90.   ,  86.625,  63.875,  59.125,  53.   ,  38.   ,\n",
       "        28.5  ,  24.75 ,  38.875,  69.625, 112.625, 102.125,  83.25 ,\n",
       "        70.375,  44.875,  33.625,  25.375,  30.   ,  28.5  ,  22.25 ,\n",
       "        19.75 ,  26.   ,  31.   ,  46.5  ,  73.5  ,  80.   ,  92.5  ,\n",
       "       117.625,  95.625,  75.5  ,  60.375,  63.875,  62.625,  32.875,\n",
       "        27.   ,  48.5  ,  94.125, 126.75 , 124.5  , 125.5  , 105.375,\n",
       "        93.25 ,  88.25 ,  72.125,  61.5  ,  47.25 ,  45.   ,  47.375,\n",
       "        31.875,  31.   ,  35.   ,  44.25 ,  44.5  ,  29.   ,  20.375,\n",
       "        25.375,  40.75 ,  77.875, 100.125,  79.625,  39.75 ,  28.5  ,\n",
       "        24.75 ,  18.5  ,  20.625,  29.75 ,  47.375,  63.375,  54.875,\n",
       "        32.625,  32.   ,  44.25 ,  58.25 ,  49.   ,  37.   ,  26.625,\n",
       "        27.5  ,  30.   ,  36.375,  56.375,  83.5  , 117.875, 123.5  ,\n",
       "       104.75 , 100.5  , 105.   ,  89.75 ,  73.5  ,  48.   ,  34.25 ,\n",
       "        29.5  ,  44.75 , 102.125, 166.375,  38.25 ,  31.625,  35.   ,\n",
       "        35.   ,  32.25 ,  28.5  ,  23.5  ,  20.   ,  22.875,  41.5  ,\n",
       "        74.75 , 117.625,  93.875,  44.25 ,  25.75 ,  29.125,  27.25 ,\n",
       "        26.   ,  36.75 ,  41.625,  32.   ,  25.375,  25.   ,  25.   ,\n",
       "        38.25 ,  59.875,  83.5  , 113.   , 108.25 ,  91.125,  63.25 ,\n",
       "        34.125,  28.5  ,  25.   ,  29.75 ,  33.25 ,  42.25 ,  55.125,\n",
       "        76.5  ,  81.   ,  59.   ,  45.375,  39.5  ,  35.   ,  38.5  ,\n",
       "        40.   ,  36.625,  35.   ,  32.   ,  32.25 ,  56.375,  69.5  ,\n",
       "        83.625,  94.875,  96.5  ,  76.5  ,  62.   ,  53.25 ,  52.   ,\n",
       "        53.5  ,  48.25 ,  36.   ,  33.5  ,  23.875,  28.25 ,  43.25 ,\n",
       "        55.5  ,  56.625,  58.5  ,  57.875,  48.625,  33.25 ,  27.875,\n",
       "        33.625,  47.   ,  55.   ,  56.625,  52.125,  61.75 ,  64.5  ,\n",
       "        32.625,  22.25 ,  20.625,  27.25 ,  42.25 ,  58.25 ,  82.75 ,\n",
       "       103.875,  62.5  ,  32.25 ,  24.5  ,  20.   ,  32.   ,  44.5  ,\n",
       "        45.5  ,  35.   ,  32.25 ,  26.   ,  25.   ,  35.125,  41.   ,\n",
       "        46.   ,  46.625,  38.25 ,  30.75 ,  25.   ,  25.   ,  28.25 ,\n",
       "        42.375,  46.5  ,  24.5  ,  24.375,  27.25 ,  33.5  ,  41.125,\n",
       "        39.875,  44.125,  32.   ,  25.375,  20.375,  22.875,  36.375,\n",
       "        52.   ,  73.5  ,  85.125,  91.375, 110.75 , 118.375, 100.125,\n",
       "        99.875,  86.625,  59.5  ,  47.875,  50.   ,  46.   ,  39.75 ,\n",
       "        47.625,  55.625, 100.125,  97.375,  61.   ,  38.625,  26.625,\n",
       "        27.875,  45.75 ,  74.25 ,  56.375,  22.875,  36.5  ,  70.75 ,\n",
       "        88.625,  71.125,  63.875,  45.75 ,  32.375,  57.25 ,  68.25 ,\n",
       "        32.375,  32.   ,  43.875,  37.875,  32.   ,  19.5  ,  20.   ,\n",
       "        29.125,  41.75 ,  61.375,  46.5  ,  31.   ,  26.   ,  25.   ,\n",
       "        25.   ,  37.375,  71.625, 108.5  , 117.375,  63.625,  29.   ,\n",
       "        16.625,  30.   ,  30.75 ,  24.75 ,  20.   ,  18.5  ,  16.875,\n",
       "        21.   ,  25.   ,  27.25 ,  41.5  ,  58.25 ,  65.125,  88.5  ,\n",
       "        54.   ,  28.5  ,  23.25 ,  30.375,  35.375,  52.125,  58.25 ,\n",
       "        33.25 ,  21.75 ,  27.   ,  49.875,  72.375, 106.375,  45.125,\n",
       "        32.   ,  37.875,  47.   ,  49.75 ,  41.   ,  39.75 ,  28.   ,\n",
       "        20.   ,  18.25 ,  25.125,  42.625,  67.625,  86.5  , 121.375,\n",
       "       142.75 , 121.375, 100.5  ,  76.125,  36.   ,  21.625,  30.125,\n",
       "        40.75 ,  32.25 ,  26.125,  37.875,  50.75 ,  65.125,  86.5  ,\n",
       "        99.75 , 104.75 , 131.75 , 113.25 ,  66.375,  27.875,  32.875,\n",
       "        35.   ,  40.5  ,  40.   ,  47.875,  81.75 ,  86.375, 100.75 ,\n",
       "       133.375, 121.5  ,  92.5  ,  58.875,  38.5  ,  31.75 ,  45.125,\n",
       "        34.25 ,  37.   ,  32.375,  44.5  ,  46.625,  37.   ,  45.   ,\n",
       "        49.875,  69.   ,  83.25 ,  90.375, 110.375,  95.75 ,  57.   ,\n",
       "        29.125,  36.75 ,  45.   ,  48.625,  42.375,  47.625,  59.125,\n",
       "        64.25 ,  33.75 ,  42.   ,  54.25 ,  87.5  , 120.5  , 119.875,\n",
       "       130.75 , 108.   ,  78.625,  88.625,  91.   ,  91.   ,  78.   ,\n",
       "        56.625,  28.   ,  18.875,  32.   ,  29.75 ,  30.375,  35.375,\n",
       "        45.125,  84.5  , 135.25 , 135.375, 102.375,  90.875, 102.375,\n",
       "        70.5  ,  26.75 ,  28.5  ,  25.375,  22.875,  25.375,  34.125,\n",
       "        35.   ,  35.   ,  40.5  ,  40.   ,  37.25 ,  29.75 ,  41.5  ,\n",
       "        61.5  , 107.25 , 108.125, 106.625, 112.375,  94.   ,  79.5  ,\n",
       "        84.5  , 113.5  ,  81.375,  38.625,  44.   ,  64.25 ,  99.875,\n",
       "       121.125, 135.25 , 122.625,  94.5  ,  80.   ,  75.5  ,  59.875,\n",
       "        32.875,  29.25 ,  48.625,  48.   ,  28.625,  33.25 ,  23.   ,\n",
       "        38.   ,  64.125,  95.375,  84.   ,  60.5  ,  42.   ,  21.625,\n",
       "        29.5  ,  41.   ,  54.875,  78.   , 106.   , 126.375, 105.75 ,\n",
       "        47.25 ,  25.75 ,  31.   ,  51.125,  84.875,  63.25 ,  41.625,\n",
       "        47.   ,  59.5  ,  67.625,  47.875,  32.875,  40.   ,  54.5  ,\n",
       "        82.375, 116.   ,  87.375,  48.25 ,  27.625,  37.375,  47.   ,\n",
       "        60.125,  86.625, 115.75 , 101.5  ,  81.75 ,  84.25 , 102.375,\n",
       "        83.625,  60.125,  31.25 ,  20.   ,  24.5  ,  33.   ,  52.875,\n",
       "        59.125,  84.5  , 112.   , 101.5  ,  90.   ,  83.5  ,  53.125,\n",
       "        35.   ,  31.625,  49.25 ,  92.625, 114.25 ,  95.375,  33.25 ,\n",
       "        22.25 ,  19.75 ,  15.375,  19.125,  25.75 ,  29.5  ,  51.375,\n",
       "        94.375, 148.5  , 140.875,  79.125,  33.25 ,  23.625,  19.5  ,\n",
       "        33.125,  35.375,  36.75 ,  48.625,  39.125,  39.   ,  57.   ,\n",
       "        69.5  ,  50.375,  46.5  ,  62.375,  53.25 ,  46.625,  39.5  ,\n",
       "        36.375,  46.   ,  36.125,  40.   ,  43.5  ,  52.25 ,  31.625,\n",
       "        33.   ,  46.   ,  42.875,  48.875,  35.375,  32.875,  42.375,\n",
       "        54.5  ,  57.75 ,  57.625,  33.5  ,  33.875,  30.5  ,  34.125,\n",
       "        35.   ,  35.   ,  37.875,  41.625,  49.5  ,  61.625,  98.   ,\n",
       "        98.25 ,  92.875, 109.   , 111.75 ,  70.125,  44.25 ,  32.   ,\n",
       "        32.   ,  28.875,  50.125,  88.25 ,  85.75 ,  53.25 ,  26.375,\n",
       "        29.875,  51.125,  98.875, 153.25 , 161.375,  92.375,  23.75 ,\n",
       "        28.   ,  31.625,  35.75 ,  46.125,  63.625,  74.   ,  96.625,\n",
       "       107.875,  79.5  , 104.5  ,  71.   ,  29.75 ,  27.   ,  22.875,\n",
       "        23.5  ,  25.   ,  33.   ,  45.75 ,  58.625, 105.125, 136.   ,\n",
       "       120.375,  61.375,  31.125,  44.875,  49.25 ,  41.125,  28.25 ,\n",
       "        22.25 ,  18.875,  24.75 ,  30.75 ,  20.625,  16.625,  20.75 ,\n",
       "        25.   ,  35.125,  57.375, 104.25 , 116.5  ,  96.375,  42.   ,\n",
       "        67.5  ,  95.75 ,  77.25 ,  74.375,  44.75 ,  39.75 ,  69.25 ,\n",
       "       106.75 , 136.5  , 127.75 ,  86.625,  56.625,  24.75 ,  34.   ,\n",
       "        58.25 ,  79.875,  80.625,  42.875,  29.125,  31.625,  24.125,\n",
       "        22.625,  20.125,  36.5  ,  57.   ,  66.375,  49.5  ,  27.375,\n",
       "        41.125,  57.875, 102.   , 133.625,  92.   ,  58.   ])"
      ]
     },
     "execution_count": 13,
     "metadata": {},
     "output_type": "execute_result"
    }
   ],
   "source": [
    "y_test_avg"
   ]
  },
  {
   "cell_type": "markdown",
   "id": "52b9d4b5",
   "metadata": {
    "papermill": {
     "duration": 0.012585,
     "end_time": "2025-03-18T15:05:25.753969",
     "exception": false,
     "start_time": "2025-03-18T15:05:25.741384",
     "status": "completed"
    },
    "tags": []
   },
   "source": [
    "# Model Evaluation"
   ]
  },
  {
   "cell_type": "code",
   "execution_count": 14,
   "id": "96b3c450",
   "metadata": {
    "execution": {
     "iopub.execute_input": "2025-03-18T15:05:25.779822Z",
     "iopub.status.busy": "2025-03-18T15:05:25.779623Z",
     "iopub.status.idle": "2025-03-18T15:05:26.753678Z",
     "shell.execute_reply": "2025-03-18T15:05:26.752958Z"
    },
    "papermill": {
     "duration": 0.988561,
     "end_time": "2025-03-18T15:05:26.755266",
     "exception": false,
     "start_time": "2025-03-18T15:05:25.766705",
     "status": "completed"
    },
    "tags": []
   },
   "outputs": [],
   "source": [
    "from sklearn.metrics import mean_squared_error, mean_absolute_error"
   ]
  },
  {
   "cell_type": "code",
   "execution_count": 15,
   "id": "28756db6",
   "metadata": {
    "execution": {
     "iopub.execute_input": "2025-03-18T15:05:26.782392Z",
     "iopub.status.busy": "2025-03-18T15:05:26.781780Z",
     "iopub.status.idle": "2025-03-18T15:05:26.787855Z",
     "shell.execute_reply": "2025-03-18T15:05:26.787200Z"
    },
    "papermill": {
     "duration": 0.020322,
     "end_time": "2025-03-18T15:05:26.789039",
     "exception": false,
     "start_time": "2025-03-18T15:05:26.768717",
     "status": "completed"
    },
    "tags": []
   },
   "outputs": [],
   "source": [
    "mae = mean_absolute_error(y_test_avg, y)"
   ]
  },
  {
   "cell_type": "code",
   "execution_count": 16,
   "id": "53311922",
   "metadata": {
    "execution": {
     "iopub.execute_input": "2025-03-18T15:05:26.815912Z",
     "iopub.status.busy": "2025-03-18T15:05:26.815676Z",
     "iopub.status.idle": "2025-03-18T15:05:26.819531Z",
     "shell.execute_reply": "2025-03-18T15:05:26.818807Z"
    },
    "papermill": {
     "duration": 0.01938,
     "end_time": "2025-03-18T15:05:26.820795",
     "exception": false,
     "start_time": "2025-03-18T15:05:26.801415",
     "status": "completed"
    },
    "tags": []
   },
   "outputs": [
    {
     "name": "stdout",
     "output_type": "stream",
     "text": [
      "8.01014520960339\n"
     ]
    }
   ],
   "source": [
    "# Output the Mean Absolute Error\n",
    "print(mae)"
   ]
  },
  {
   "cell_type": "code",
   "execution_count": 17,
   "id": "d12ba2cd",
   "metadata": {
    "execution": {
     "iopub.execute_input": "2025-03-18T15:05:26.846935Z",
     "iopub.status.busy": "2025-03-18T15:05:26.846732Z",
     "iopub.status.idle": "2025-03-18T15:05:26.851197Z",
     "shell.execute_reply": "2025-03-18T15:05:26.850540Z"
    },
    "papermill": {
     "duration": 0.019206,
     "end_time": "2025-03-18T15:05:26.852458",
     "exception": false,
     "start_time": "2025-03-18T15:05:26.833252",
     "status": "completed"
    },
    "tags": []
   },
   "outputs": [
    {
     "name": "stdout",
     "output_type": "stream",
     "text": [
      "10.950814692292514\n"
     ]
    }
   ],
   "source": [
    "rmse = mean_squared_error(y_test_avg, y, squared=False)\n",
    "\n",
    "# Output the Root Mean Square Error\n",
    "print(rmse)"
   ]
  }
 ],
 "metadata": {
  "kaggle": {
   "accelerator": "gpu",
   "dataSources": [
    {
     "datasetId": 6769161,
     "sourceId": 10892566,
     "sourceType": "datasetVersion"
    }
   ],
   "dockerImageVersionId": 30919,
   "isGpuEnabled": true,
   "isInternetEnabled": true,
   "language": "python",
   "sourceType": "notebook"
  },
  "kernelspec": {
   "display_name": "Python 3",
   "language": "python",
   "name": "python3"
  },
  "language_info": {
   "codemirror_mode": {
    "name": "ipython",
    "version": 3
   },
   "file_extension": ".py",
   "mimetype": "text/x-python",
   "name": "python",
   "nbconvert_exporter": "python",
   "pygments_lexer": "ipython3",
   "version": "3.10.12"
  },
  "papermill": {
   "default_parameters": {},
   "duration": 115.801534,
   "end_time": "2025-03-18T15:05:29.277032",
   "environment_variables": {},
   "exception": null,
   "input_path": "__notebook__.ipynb",
   "output_path": "__notebook__.ipynb",
   "parameters": {},
   "start_time": "2025-03-18T15:03:33.475498",
   "version": "2.6.0"
  }
 },
 "nbformat": 4,
 "nbformat_minor": 5
}
