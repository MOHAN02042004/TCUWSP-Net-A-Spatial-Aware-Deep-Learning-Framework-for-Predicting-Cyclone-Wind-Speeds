{
 "cells": [
  {
   "cell_type": "markdown",
   "id": "4325bb82",
   "metadata": {
    "papermill": {
     "duration": 0.00491,
     "end_time": "2025-04-15T08:56:33.500815",
     "exception": false,
     "start_time": "2025-04-15T08:56:33.495905",
     "status": "completed"
    },
    "tags": []
   },
   "source": [
    "# Trajectory GRU (TrajGRU) Model for Calculating the Intensity of Tropical Cyclones"
   ]
  },
  {
   "cell_type": "code",
   "execution_count": 1,
   "id": "c761708f",
   "metadata": {
    "_cell_guid": "b1076dfc-b9ad-4769-8c92-a6c4dae69d19",
    "_uuid": "8f2839f25d086af736a60e9eeb907d3b93b6e0e5",
    "execution": {
     "iopub.execute_input": "2025-04-15T08:56:33.510661Z",
     "iopub.status.busy": "2025-04-15T08:56:33.510336Z",
     "iopub.status.idle": "2025-04-15T08:56:46.811572Z",
     "shell.execute_reply": "2025-04-15T08:56:46.810480Z"
    },
    "papermill": {
     "duration": 13.307992,
     "end_time": "2025-04-15T08:56:46.813176",
     "exception": false,
     "start_time": "2025-04-15T08:56:33.505184",
     "status": "completed"
    },
    "tags": []
   },
   "outputs": [
    {
     "name": "stdout",
     "output_type": "stream",
     "text": [
      "GPU Available: [PhysicalDevice(name='/physical_device:GPU:0', device_type='GPU')]\n"
     ]
    }
   ],
   "source": [
    "import tensorflow as tf\n",
    "print(\"GPU Available:\", tf.config.list_physical_devices('GPU'))"
   ]
  },
  {
   "cell_type": "markdown",
   "id": "39bafac3",
   "metadata": {
    "papermill": {
     "duration": 0.004077,
     "end_time": "2025-04-15T08:56:46.821786",
     "exception": false,
     "start_time": "2025-04-15T08:56:46.817709",
     "status": "completed"
    },
    "tags": []
   },
   "source": [
    "# Building the TrajGRU Model"
   ]
  },
  {
   "cell_type": "code",
   "execution_count": 2,
   "id": "ba823e96",
   "metadata": {
    "execution": {
     "iopub.execute_input": "2025-04-15T08:56:46.831501Z",
     "iopub.status.busy": "2025-04-15T08:56:46.830971Z",
     "iopub.status.idle": "2025-04-15T08:56:48.670051Z",
     "shell.execute_reply": "2025-04-15T08:56:48.669240Z"
    },
    "papermill": {
     "duration": 1.845506,
     "end_time": "2025-04-15T08:56:48.671477",
     "exception": false,
     "start_time": "2025-04-15T08:56:46.825971",
     "status": "completed"
    },
    "tags": []
   },
   "outputs": [
    {
     "data": {
      "text/html": [
       "<pre style=\"white-space:pre;overflow-x:auto;line-height:normal;font-family:Menlo,'DejaVu Sans Mono',consolas,'Courier New',monospace\"><span style=\"font-weight: bold\">Model: \"functional\"</span>\n",
       "</pre>\n"
      ],
      "text/plain": [
       "\u001b[1mModel: \"functional\"\u001b[0m\n"
      ]
     },
     "metadata": {},
     "output_type": "display_data"
    },
    {
     "data": {
      "text/html": [
       "<pre style=\"white-space:pre;overflow-x:auto;line-height:normal;font-family:Menlo,'DejaVu Sans Mono',consolas,'Courier New',monospace\">┏━━━━━━━━━━━━━━━━━━━━━━━━━━━━━━━━━━━━━━┳━━━━━━━━━━━━━━━━━━━━━━━━━━━━━┳━━━━━━━━━━━━━━━━━┓\n",
       "┃<span style=\"font-weight: bold\"> Layer (type)                         </span>┃<span style=\"font-weight: bold\"> Output Shape                </span>┃<span style=\"font-weight: bold\">         Param # </span>┃\n",
       "┡━━━━━━━━━━━━━━━━━━━━━━━━━━━━━━━━━━━━━━╇━━━━━━━━━━━━━━━━━━━━━━━━━━━━━╇━━━━━━━━━━━━━━━━━┩\n",
       "│ input_layer (<span style=\"color: #0087ff; text-decoration-color: #0087ff\">InputLayer</span>)             │ (<span style=\"color: #00d7ff; text-decoration-color: #00d7ff\">None</span>, <span style=\"color: #00af00; text-decoration-color: #00af00\">8</span>, <span style=\"color: #00af00; text-decoration-color: #00af00\">95</span>, <span style=\"color: #00af00; text-decoration-color: #00af00\">95</span>, <span style=\"color: #00af00; text-decoration-color: #00af00\">2</span>)        │               <span style=\"color: #00af00; text-decoration-color: #00af00\">0</span> │\n",
       "├──────────────────────────────────────┼─────────────────────────────┼─────────────────┤\n",
       "│ trajectory_gru2d (<span style=\"color: #0087ff; text-decoration-color: #0087ff\">TrajectoryGRU2D</span>)   │ (<span style=\"color: #00d7ff; text-decoration-color: #00d7ff\">None</span>, <span style=\"color: #00af00; text-decoration-color: #00af00\">8</span>, <span style=\"color: #00af00; text-decoration-color: #00af00\">95</span>, <span style=\"color: #00af00; text-decoration-color: #00af00\">95</span>, <span style=\"color: #00af00; text-decoration-color: #00af00\">32</span>)       │              <span style=\"color: #00af00; text-decoration-color: #00af00\">96</span> │\n",
       "├──────────────────────────────────────┼─────────────────────────────┼─────────────────┤\n",
       "│ conv3d (<span style=\"color: #0087ff; text-decoration-color: #0087ff\">Conv3D</span>)                      │ (<span style=\"color: #00d7ff; text-decoration-color: #00d7ff\">None</span>, <span style=\"color: #00af00; text-decoration-color: #00af00\">8</span>, <span style=\"color: #00af00; text-decoration-color: #00af00\">95</span>, <span style=\"color: #00af00; text-decoration-color: #00af00\">95</span>, <span style=\"color: #00af00; text-decoration-color: #00af00\">32</span>)       │          <span style=\"color: #00af00; text-decoration-color: #00af00\">27,680</span> │\n",
       "├──────────────────────────────────────┼─────────────────────────────┼─────────────────┤\n",
       "│ max_pooling3d (<span style=\"color: #0087ff; text-decoration-color: #0087ff\">MaxPooling3D</span>)         │ (<span style=\"color: #00d7ff; text-decoration-color: #00d7ff\">None</span>, <span style=\"color: #00af00; text-decoration-color: #00af00\">4</span>, <span style=\"color: #00af00; text-decoration-color: #00af00\">48</span>, <span style=\"color: #00af00; text-decoration-color: #00af00\">48</span>, <span style=\"color: #00af00; text-decoration-color: #00af00\">32</span>)       │               <span style=\"color: #00af00; text-decoration-color: #00af00\">0</span> │\n",
       "├──────────────────────────────────────┼─────────────────────────────┼─────────────────┤\n",
       "│ trajectory_gru2d_1 (<span style=\"color: #0087ff; text-decoration-color: #0087ff\">TrajectoryGRU2D</span>) │ (<span style=\"color: #00d7ff; text-decoration-color: #00d7ff\">None</span>, <span style=\"color: #00af00; text-decoration-color: #00af00\">4</span>, <span style=\"color: #00af00; text-decoration-color: #00af00\">48</span>, <span style=\"color: #00af00; text-decoration-color: #00af00\">48</span>, <span style=\"color: #00af00; text-decoration-color: #00af00\">64</span>)       │           <span style=\"color: #00af00; text-decoration-color: #00af00\">2,112</span> │\n",
       "├──────────────────────────────────────┼─────────────────────────────┼─────────────────┤\n",
       "│ conv3d_1 (<span style=\"color: #0087ff; text-decoration-color: #0087ff\">Conv3D</span>)                    │ (<span style=\"color: #00d7ff; text-decoration-color: #00d7ff\">None</span>, <span style=\"color: #00af00; text-decoration-color: #00af00\">4</span>, <span style=\"color: #00af00; text-decoration-color: #00af00\">48</span>, <span style=\"color: #00af00; text-decoration-color: #00af00\">48</span>, <span style=\"color: #00af00; text-decoration-color: #00af00\">64</span>)       │         <span style=\"color: #00af00; text-decoration-color: #00af00\">110,656</span> │\n",
       "├──────────────────────────────────────┼─────────────────────────────┼─────────────────┤\n",
       "│ max_pooling3d_1 (<span style=\"color: #0087ff; text-decoration-color: #0087ff\">MaxPooling3D</span>)       │ (<span style=\"color: #00d7ff; text-decoration-color: #00d7ff\">None</span>, <span style=\"color: #00af00; text-decoration-color: #00af00\">2</span>, <span style=\"color: #00af00; text-decoration-color: #00af00\">24</span>, <span style=\"color: #00af00; text-decoration-color: #00af00\">24</span>, <span style=\"color: #00af00; text-decoration-color: #00af00\">64</span>)       │               <span style=\"color: #00af00; text-decoration-color: #00af00\">0</span> │\n",
       "├──────────────────────────────────────┼─────────────────────────────┼─────────────────┤\n",
       "│ trajectory_gru2d_2 (<span style=\"color: #0087ff; text-decoration-color: #0087ff\">TrajectoryGRU2D</span>) │ (<span style=\"color: #00d7ff; text-decoration-color: #00d7ff\">None</span>, <span style=\"color: #00af00; text-decoration-color: #00af00\">2</span>, <span style=\"color: #00af00; text-decoration-color: #00af00\">24</span>, <span style=\"color: #00af00; text-decoration-color: #00af00\">24</span>, <span style=\"color: #00af00; text-decoration-color: #00af00\">128</span>)      │           <span style=\"color: #00af00; text-decoration-color: #00af00\">8,320</span> │\n",
       "├──────────────────────────────────────┼─────────────────────────────┼─────────────────┤\n",
       "│ conv3d_2 (<span style=\"color: #0087ff; text-decoration-color: #0087ff\">Conv3D</span>)                    │ (<span style=\"color: #00d7ff; text-decoration-color: #00d7ff\">None</span>, <span style=\"color: #00af00; text-decoration-color: #00af00\">2</span>, <span style=\"color: #00af00; text-decoration-color: #00af00\">24</span>, <span style=\"color: #00af00; text-decoration-color: #00af00\">24</span>, <span style=\"color: #00af00; text-decoration-color: #00af00\">128</span>)      │         <span style=\"color: #00af00; text-decoration-color: #00af00\">442,496</span> │\n",
       "├──────────────────────────────────────┼─────────────────────────────┼─────────────────┤\n",
       "│ max_pooling3d_2 (<span style=\"color: #0087ff; text-decoration-color: #0087ff\">MaxPooling3D</span>)       │ (<span style=\"color: #00d7ff; text-decoration-color: #00d7ff\">None</span>, <span style=\"color: #00af00; text-decoration-color: #00af00\">1</span>, <span style=\"color: #00af00; text-decoration-color: #00af00\">12</span>, <span style=\"color: #00af00; text-decoration-color: #00af00\">12</span>, <span style=\"color: #00af00; text-decoration-color: #00af00\">128</span>)      │               <span style=\"color: #00af00; text-decoration-color: #00af00\">0</span> │\n",
       "├──────────────────────────────────────┼─────────────────────────────┼─────────────────┤\n",
       "│ flatten (<span style=\"color: #0087ff; text-decoration-color: #0087ff\">Flatten</span>)                    │ (<span style=\"color: #00d7ff; text-decoration-color: #00d7ff\">None</span>, <span style=\"color: #00af00; text-decoration-color: #00af00\">18432</span>)               │               <span style=\"color: #00af00; text-decoration-color: #00af00\">0</span> │\n",
       "└──────────────────────────────────────┴─────────────────────────────┴─────────────────┘\n",
       "</pre>\n"
      ],
      "text/plain": [
       "┏━━━━━━━━━━━━━━━━━━━━━━━━━━━━━━━━━━━━━━┳━━━━━━━━━━━━━━━━━━━━━━━━━━━━━┳━━━━━━━━━━━━━━━━━┓\n",
       "┃\u001b[1m \u001b[0m\u001b[1mLayer (type)                        \u001b[0m\u001b[1m \u001b[0m┃\u001b[1m \u001b[0m\u001b[1mOutput Shape               \u001b[0m\u001b[1m \u001b[0m┃\u001b[1m \u001b[0m\u001b[1m        Param #\u001b[0m\u001b[1m \u001b[0m┃\n",
       "┡━━━━━━━━━━━━━━━━━━━━━━━━━━━━━━━━━━━━━━╇━━━━━━━━━━━━━━━━━━━━━━━━━━━━━╇━━━━━━━━━━━━━━━━━┩\n",
       "│ input_layer (\u001b[38;5;33mInputLayer\u001b[0m)             │ (\u001b[38;5;45mNone\u001b[0m, \u001b[38;5;34m8\u001b[0m, \u001b[38;5;34m95\u001b[0m, \u001b[38;5;34m95\u001b[0m, \u001b[38;5;34m2\u001b[0m)        │               \u001b[38;5;34m0\u001b[0m │\n",
       "├──────────────────────────────────────┼─────────────────────────────┼─────────────────┤\n",
       "│ trajectory_gru2d (\u001b[38;5;33mTrajectoryGRU2D\u001b[0m)   │ (\u001b[38;5;45mNone\u001b[0m, \u001b[38;5;34m8\u001b[0m, \u001b[38;5;34m95\u001b[0m, \u001b[38;5;34m95\u001b[0m, \u001b[38;5;34m32\u001b[0m)       │              \u001b[38;5;34m96\u001b[0m │\n",
       "├──────────────────────────────────────┼─────────────────────────────┼─────────────────┤\n",
       "│ conv3d (\u001b[38;5;33mConv3D\u001b[0m)                      │ (\u001b[38;5;45mNone\u001b[0m, \u001b[38;5;34m8\u001b[0m, \u001b[38;5;34m95\u001b[0m, \u001b[38;5;34m95\u001b[0m, \u001b[38;5;34m32\u001b[0m)       │          \u001b[38;5;34m27,680\u001b[0m │\n",
       "├──────────────────────────────────────┼─────────────────────────────┼─────────────────┤\n",
       "│ max_pooling3d (\u001b[38;5;33mMaxPooling3D\u001b[0m)         │ (\u001b[38;5;45mNone\u001b[0m, \u001b[38;5;34m4\u001b[0m, \u001b[38;5;34m48\u001b[0m, \u001b[38;5;34m48\u001b[0m, \u001b[38;5;34m32\u001b[0m)       │               \u001b[38;5;34m0\u001b[0m │\n",
       "├──────────────────────────────────────┼─────────────────────────────┼─────────────────┤\n",
       "│ trajectory_gru2d_1 (\u001b[38;5;33mTrajectoryGRU2D\u001b[0m) │ (\u001b[38;5;45mNone\u001b[0m, \u001b[38;5;34m4\u001b[0m, \u001b[38;5;34m48\u001b[0m, \u001b[38;5;34m48\u001b[0m, \u001b[38;5;34m64\u001b[0m)       │           \u001b[38;5;34m2,112\u001b[0m │\n",
       "├──────────────────────────────────────┼─────────────────────────────┼─────────────────┤\n",
       "│ conv3d_1 (\u001b[38;5;33mConv3D\u001b[0m)                    │ (\u001b[38;5;45mNone\u001b[0m, \u001b[38;5;34m4\u001b[0m, \u001b[38;5;34m48\u001b[0m, \u001b[38;5;34m48\u001b[0m, \u001b[38;5;34m64\u001b[0m)       │         \u001b[38;5;34m110,656\u001b[0m │\n",
       "├──────────────────────────────────────┼─────────────────────────────┼─────────────────┤\n",
       "│ max_pooling3d_1 (\u001b[38;5;33mMaxPooling3D\u001b[0m)       │ (\u001b[38;5;45mNone\u001b[0m, \u001b[38;5;34m2\u001b[0m, \u001b[38;5;34m24\u001b[0m, \u001b[38;5;34m24\u001b[0m, \u001b[38;5;34m64\u001b[0m)       │               \u001b[38;5;34m0\u001b[0m │\n",
       "├──────────────────────────────────────┼─────────────────────────────┼─────────────────┤\n",
       "│ trajectory_gru2d_2 (\u001b[38;5;33mTrajectoryGRU2D\u001b[0m) │ (\u001b[38;5;45mNone\u001b[0m, \u001b[38;5;34m2\u001b[0m, \u001b[38;5;34m24\u001b[0m, \u001b[38;5;34m24\u001b[0m, \u001b[38;5;34m128\u001b[0m)      │           \u001b[38;5;34m8,320\u001b[0m │\n",
       "├──────────────────────────────────────┼─────────────────────────────┼─────────────────┤\n",
       "│ conv3d_2 (\u001b[38;5;33mConv3D\u001b[0m)                    │ (\u001b[38;5;45mNone\u001b[0m, \u001b[38;5;34m2\u001b[0m, \u001b[38;5;34m24\u001b[0m, \u001b[38;5;34m24\u001b[0m, \u001b[38;5;34m128\u001b[0m)      │         \u001b[38;5;34m442,496\u001b[0m │\n",
       "├──────────────────────────────────────┼─────────────────────────────┼─────────────────┤\n",
       "│ max_pooling3d_2 (\u001b[38;5;33mMaxPooling3D\u001b[0m)       │ (\u001b[38;5;45mNone\u001b[0m, \u001b[38;5;34m1\u001b[0m, \u001b[38;5;34m12\u001b[0m, \u001b[38;5;34m12\u001b[0m, \u001b[38;5;34m128\u001b[0m)      │               \u001b[38;5;34m0\u001b[0m │\n",
       "├──────────────────────────────────────┼─────────────────────────────┼─────────────────┤\n",
       "│ flatten (\u001b[38;5;33mFlatten\u001b[0m)                    │ (\u001b[38;5;45mNone\u001b[0m, \u001b[38;5;34m18432\u001b[0m)               │               \u001b[38;5;34m0\u001b[0m │\n",
       "└──────────────────────────────────────┴─────────────────────────────┴─────────────────┘\n"
      ]
     },
     "metadata": {},
     "output_type": "display_data"
    },
    {
     "data": {
      "text/html": [
       "<pre style=\"white-space:pre;overflow-x:auto;line-height:normal;font-family:Menlo,'DejaVu Sans Mono',consolas,'Courier New',monospace\"><span style=\"font-weight: bold\"> Total params: </span><span style=\"color: #00af00; text-decoration-color: #00af00\">591,360</span> (2.26 MB)\n",
       "</pre>\n"
      ],
      "text/plain": [
       "\u001b[1m Total params: \u001b[0m\u001b[38;5;34m591,360\u001b[0m (2.26 MB)\n"
      ]
     },
     "metadata": {},
     "output_type": "display_data"
    },
    {
     "data": {
      "text/html": [
       "<pre style=\"white-space:pre;overflow-x:auto;line-height:normal;font-family:Menlo,'DejaVu Sans Mono',consolas,'Courier New',monospace\"><span style=\"font-weight: bold\"> Trainable params: </span><span style=\"color: #00af00; text-decoration-color: #00af00\">591,360</span> (2.26 MB)\n",
       "</pre>\n"
      ],
      "text/plain": [
       "\u001b[1m Trainable params: \u001b[0m\u001b[38;5;34m591,360\u001b[0m (2.26 MB)\n"
      ]
     },
     "metadata": {},
     "output_type": "display_data"
    },
    {
     "data": {
      "text/html": [
       "<pre style=\"white-space:pre;overflow-x:auto;line-height:normal;font-family:Menlo,'DejaVu Sans Mono',consolas,'Courier New',monospace\"><span style=\"font-weight: bold\"> Non-trainable params: </span><span style=\"color: #00af00; text-decoration-color: #00af00\">0</span> (0.00 B)\n",
       "</pre>\n"
      ],
      "text/plain": [
       "\u001b[1m Non-trainable params: \u001b[0m\u001b[38;5;34m0\u001b[0m (0.00 B)\n"
      ]
     },
     "metadata": {},
     "output_type": "display_data"
    }
   ],
   "source": [
    "import tensorflow as tf\n",
    "from tensorflow.keras import layers, models\n",
    "import numpy as np\n",
    "\n",
    "class TrajectoryGRU2D(layers.Layer):\n",
    "    def __init__(self, filters, kernel_size, return_sequences=True, **kwargs):\n",
    "        super().__init__(**kwargs)\n",
    "        self.filters = filters\n",
    "        self.kernel_size = kernel_size\n",
    "        self.return_sequences = return_sequences\n",
    "\n",
    "        # Projection layer to match GRU feature space\n",
    "        self.input_projection = layers.Conv2D(filters, (1, 1), padding=\"same\")\n",
    "\n",
    "        # GRU Gates\n",
    "        self.conv_z = layers.Conv2D(filters, kernel_size, padding=\"same\", activation=\"sigmoid\")\n",
    "        self.conv_r = layers.Conv2D(filters, kernel_size, padding=\"same\", activation=\"sigmoid\")\n",
    "        self.conv_h = layers.Conv2D(filters, kernel_size, padding=\"same\", activation=\"tanh\")\n",
    "\n",
    "        # Motion-based trajectory update\n",
    "        self.motion_conv = layers.Conv2D(filters, kernel_size, padding=\"same\", activation=\"tanh\")\n",
    "\n",
    "    def build(self, input_shape):\n",
    "        # Ensures input_projection is built with the correct input shape\n",
    "        self.input_projection.build(input_shape[1:])  # Ignore batch dimension\n",
    "        super().build(input_shape)\n",
    "\n",
    "    def call(self, inputs):\n",
    "        # inputs shape: (batch_size, time_steps, height, width, channels)\n",
    "        batch_size, time_steps, height, width, channels = tf.unstack(tf.shape(inputs))\n",
    "        time_steps = inputs.shape[1]\n",
    "\n",
    "        # Initialize hidden state\n",
    "        h_t = tf.zeros((batch_size, height, width, self.filters))\n",
    "\n",
    "        # List to store outputs at each time step\n",
    "        outputs = []\n",
    "\n",
    "        # Iterate over time steps\n",
    "        for t in range(time_steps):\n",
    "            # Get the input at time step t\n",
    "            x_t = inputs[:, t, :, :, :]\n",
    "\n",
    "            # Project input to match GRU feature dimension\n",
    "            x_projected = self.input_projection(x_t)\n",
    "\n",
    "            # Compute motion-based trajectory update\n",
    "            motion_update = self.motion_conv(x_projected)\n",
    "\n",
    "            # Concatenate projected input, previous hidden state, and motion update\n",
    "            combined = tf.concat([x_projected, h_t, motion_update], axis=-1)\n",
    "\n",
    "            # Compute GRU gates\n",
    "            z = self.conv_z(combined)  # Update gate\n",
    "            r = self.conv_r(combined)  # Reset gate\n",
    "\n",
    "            # Compute candidate hidden state\n",
    "            h_tilde = self.conv_h(tf.concat([x_projected, r * h_t], axis=-1))\n",
    "\n",
    "            # Update hidden state with motion-based trajectory\n",
    "            h_t = (1 - z) * h_t + z * h_tilde + motion_update  # Add motion update\n",
    "\n",
    "            # Store the output if return_sequences is True\n",
    "            if self.return_sequences:\n",
    "                outputs.append(h_t)\n",
    "\n",
    "        # Stack outputs along the time dimension if return_sequences is True\n",
    "        if self.return_sequences:\n",
    "            outputs = tf.stack(outputs, axis=1)\n",
    "        else:\n",
    "            outputs = h_t\n",
    "\n",
    "        return outputs\n",
    "\n",
    "    def compute_output_shape(self, input_shape):\n",
    "        if self.return_sequences:\n",
    "            return (input_shape[0], input_shape[1], input_shape[2], input_shape[3], self.filters)\n",
    "        else:\n",
    "            return (input_shape[0], input_shape[2], input_shape[3], self.filters)\n",
    "\n",
    "\n",
    "def build_tgru_model(input_shape=(8, 95, 95, 2)):  # (time_steps, height, width, channels)\n",
    "    input_tensor = layers.Input(shape=input_shape)\n",
    "\n",
    "    # Apply TGRU Layers\n",
    "    x = TrajectoryGRU2D(filters=32, kernel_size=(3, 3), return_sequences=True)(input_tensor)\n",
    "    x = layers.Conv3D(filters=32, kernel_size=(3, 3, 3), padding='same', activation='relu')(x)\n",
    "    x = layers.MaxPooling3D(pool_size=(2, 2, 2), strides=(2, 2, 2), padding='same')(x)\n",
    "\n",
    "    x = TrajectoryGRU2D(filters=64, kernel_size=(3, 3), return_sequences=True)(x)\n",
    "    x = layers.Conv3D(filters=64, kernel_size=(3, 3, 3), padding='same', activation='relu')(x)\n",
    "    x = layers.MaxPooling3D(pool_size=(2, 2, 2), strides=(2, 2, 2), padding='same')(x)\n",
    "\n",
    "    x = TrajectoryGRU2D(filters=128, kernel_size=(3, 3), return_sequences=True)(x)\n",
    "    x = layers.Conv3D(filters=128, kernel_size=(3, 3, 3), padding='same', activation='relu')(x)\n",
    "    x = layers.MaxPooling3D(pool_size=(2, 2, 2), strides=(2, 2, 2), padding='same')(x)\n",
    "\n",
    "    # Flatten before Fully Connected Layer\n",
    "    x = layers.Flatten()(x)\n",
    "    # x = layers.Dense(1, activation='sigmoid')(x)  \n",
    "\n",
    "    model = models.Model(inputs=input_tensor, outputs=x)\n",
    "    return model\n",
    "tgru_model = build_tgru_model(input_shape=(8, 95, 95, 2))\n",
    "tgru_model.summary()"
   ]
  },
  {
   "cell_type": "markdown",
   "id": "0464a2fb",
   "metadata": {
    "papermill": {
     "duration": 0.00472,
     "end_time": "2025-04-15T08:56:48.681545",
     "exception": false,
     "start_time": "2025-04-15T08:56:48.676825",
     "status": "completed"
    },
    "tags": []
   },
   "source": [
    "# Building the Radial Structure"
   ]
  },
  {
   "cell_type": "code",
   "execution_count": 3,
   "id": "cae8b59e",
   "metadata": {
    "execution": {
     "iopub.execute_input": "2025-04-15T08:56:48.692454Z",
     "iopub.status.busy": "2025-04-15T08:56:48.692158Z",
     "iopub.status.idle": "2025-04-15T08:56:48.709075Z",
     "shell.execute_reply": "2025-04-15T08:56:48.708250Z"
    },
    "papermill": {
     "duration": 0.024025,
     "end_time": "2025-04-15T08:56:48.710417",
     "exception": false,
     "start_time": "2025-04-15T08:56:48.686392",
     "status": "completed"
    },
    "tags": []
   },
   "outputs": [],
   "source": [
    "import tensorflow as tf\n",
    "from tensorflow.keras import layers, models\n",
    "\n",
    "def radial_structure_subnet(input_shape):\n",
    "    \"\"\"\n",
    "    Creates the subnet for extracting TC radial structure features using a five-branch CNN design with 2D convolutions.\n",
    "\n",
    "    Parameters:\n",
    "    - input_shape: tuple, shape of the input data (e.g., (95, 95, 3))\n",
    "\n",
    "    Returns:\n",
    "    - model: tf.keras.Model, the radial structure subnet model\n",
    "    \"\"\"\n",
    "    \n",
    "    input_tensor = layers.Input(shape=input_shape)\n",
    "\n",
    "    # Divide input data into four quadrants (NW, NE, SW, SE)\n",
    "    # Assuming the input shape is (batch_size, height, width, channels)\n",
    "    \n",
    "    # Quadrant extraction - using slicing to separate quadrants\n",
    "    nw_quadrant = input_tensor[:, :input_shape[0]//2, :input_shape[1]//2, :]\n",
    "    ne_quadrant = input_tensor[:, :input_shape[0]//2, input_shape[1]//2:, :]\n",
    "    sw_quadrant = input_tensor[:, input_shape[0]//2:, :input_shape[1]//2, :]\n",
    "    se_quadrant = input_tensor[:, input_shape[0]//2:, input_shape[1]//2:, :]\n",
    "\n",
    "\n",
    "    target_height = max(input_shape[0]//2, input_shape[0] - input_shape[0]//2)  # 48\n",
    "    target_width = max(input_shape[1]//2, input_shape[1] - input_shape[1]//2)  # 48\n",
    "    \n",
    "    # Padding the quadrants to match the target size (48, 48)\n",
    "    nw_quadrant = layers.ZeroPadding2D(padding=((0, target_height - nw_quadrant.shape[1]), \n",
    "                                                (0, target_width - nw_quadrant.shape[2])))(nw_quadrant)\n",
    "    ne_quadrant = layers.ZeroPadding2D(padding=((0, target_height - ne_quadrant.shape[1]), \n",
    "                                                (0, target_width - ne_quadrant.shape[2])))(ne_quadrant)\n",
    "    sw_quadrant = layers.ZeroPadding2D(padding=((0, target_height - sw_quadrant.shape[1]), \n",
    "                                                (0, target_width - sw_quadrant.shape[2])))(sw_quadrant)\n",
    "    se_quadrant = layers.ZeroPadding2D(padding=((0, target_height - se_quadrant.shape[1]), \n",
    "                                                (0, target_width - se_quadrant.shape[2])))(se_quadrant)\n",
    "\n",
    "    print(nw_quadrant.shape)\n",
    "    print(ne_quadrant.shape)\n",
    "    print(sw_quadrant.shape)\n",
    "    print(se_quadrant.shape)\n",
    "\n",
    "    # Main branch (processing the entire structure)\n",
    "    main_branch = layers.Conv2D(filters=8, kernel_size=(3, 3), padding='same', activation='relu')(input_tensor)\n",
    "    y=layers.MaxPool2D()(main_branch)\n",
    "\n",
    "    y = layers.ZeroPadding2D(padding=((0, target_height - y.shape[1]), \n",
    "                                   (0, target_width - y.shape[2])))(y)\n",
    "    # Side branches (processing the individual quadrants)\n",
    "    nw_branch = layers.Conv2D(filters=8, kernel_size=(3, 3), padding='same', activation='relu')(nw_quadrant)\n",
    "    ne_branch = layers.Conv2D(filters=8, kernel_size=(3, 3), padding='same', activation='relu')(ne_quadrant)\n",
    "    sw_branch = layers.Conv2D(filters=8, kernel_size=(3, 3), padding='same', activation='relu')(sw_quadrant)\n",
    "    se_branch = layers.Conv2D(filters=8, kernel_size=(3, 3), padding='same', activation='relu')(se_quadrant)\n",
    "    \n",
    "    # Apply padding to the side branches to match the dimensions of the main branch\n",
    "    # nw_branch = layers.UpSampling2D(size=(2, 2), interpolation='nearest')(nw_branch)\n",
    "    # ne_branch = layers.UpSampling2D(size=(2, 2), interpolation='nearest')(ne_branch)\n",
    "    # sw_branch = layers.UpSampling2D(size=(2, 2), interpolation='nearest')(sw_branch)\n",
    "    # se_branch = layers.UpSampling2D(size=(2, 2), interpolation='nearest')(se_branch)\n",
    "    \n",
    "    # Fusion operations (concatenate the outputs from the main branch and side branches)\n",
    "    fusion = layers.concatenate([y, nw_branch, ne_branch, sw_branch, se_branch], axis=-1)\n",
    "    \n",
    "    # Additional convolution layer to combine the fused features\n",
    "    x = layers.Conv2D(filters=16, kernel_size=(3, 3), padding='same', activation='relu')(fusion)\n",
    "    x=layers.MaxPool2D(pool_size=(2, 2))(x)\n",
    "\n",
    "    # Final dense layer for further processing\n",
    "    nw_branch = layers.Conv2D(filters=16, kernel_size=(3, 3), padding='same', activation='relu')(nw_branch)\n",
    "    \n",
    "    ne_branch = layers.Conv2D(filters=16, kernel_size=(3, 3), padding='same', activation='relu')(ne_branch)\n",
    "    sw_branch = layers.Conv2D(filters=16, kernel_size=(3, 3), padding='same', activation='relu')(sw_branch)\n",
    "    se_branch = layers.Conv2D(filters=16, kernel_size=(3, 3), padding='same', activation='relu')(se_branch)\n",
    "    nw_branch = layers.MaxPool2D(pool_size=(2, 2))(nw_branch)\n",
    "    ne_branch = layers.MaxPool2D(pool_size=(2, 2))(ne_branch)\n",
    "    sw_branch = layers.MaxPool2D(pool_size=(2, 2))(sw_branch)\n",
    "    se_branch = layers.MaxPool2D(pool_size=(2, 2))(se_branch)\n",
    "\n",
    "    fusion = layers.concatenate([x, nw_branch, ne_branch, sw_branch, se_branch], axis=-1)\n",
    "    x = layers.Conv2D(filters=32, kernel_size=(3, 3), padding='same', activation='relu')(fusion)\n",
    "    x=layers.MaxPool2D(pool_size=(2, 2))(x)\n",
    "    \n",
    "    nw_branch = layers.Conv2D(filters=32, kernel_size=(3, 3), padding='same', activation='relu')(nw_branch)\n",
    "    \n",
    "    ne_branch = layers.Conv2D(filters=32, kernel_size=(3, 3), padding='same', activation='relu')(ne_branch)\n",
    "    sw_branch = layers.Conv2D(filters=32, kernel_size=(3, 3), padding='same', activation='relu')(sw_branch)\n",
    "    se_branch = layers.Conv2D(filters=32, kernel_size=(3, 3), padding='same', activation='relu')(se_branch)\n",
    "    nw_branch = layers.MaxPool2D(pool_size=(2, 2))(nw_branch)\n",
    "    ne_branch = layers.MaxPool2D(pool_size=(2, 2))(ne_branch)\n",
    "    sw_branch = layers.MaxPool2D(pool_size=(2, 2))(sw_branch)\n",
    "    se_branch = layers.MaxPool2D(pool_size=(2, 2))(se_branch)\n",
    "\n",
    "    fusion = layers.concatenate([x, nw_branch, ne_branch, sw_branch, se_branch], axis=-1)\n",
    "    x = layers.Conv2D(filters=32, kernel_size=(3, 3),  activation='relu')(fusion)\n",
    "    x=layers.Conv2D(filters=32, kernel_size=(3, 3), activation=None)(x)\n",
    "    # Create and return the model\n",
    "    x=layers.Flatten()(x)\n",
    "    model = models.Model(inputs=input_tensor, outputs=x)\n",
    "    return model\n",
    "\n",
    "# Define input shape (batch_size, height, width, channels)\n",
    "# input_shape = (95, 95, 8)  # Example input shape (95x95 spatial resolution, 3 channels)\n",
    "\n",
    "# # Build the model\n",
    "# model = radial_structure_subnet(input_shape)\n",
    "\n",
    "# # Model summary\n",
    "# model.summary()\n"
   ]
  },
  {
   "cell_type": "markdown",
   "id": "0509194f",
   "metadata": {
    "papermill": {
     "duration": 0.004686,
     "end_time": "2025-04-15T08:56:48.720276",
     "exception": false,
     "start_time": "2025-04-15T08:56:48.715590",
     "status": "completed"
    },
    "tags": []
   },
   "source": [
    "# Building the CNN Model"
   ]
  },
  {
   "cell_type": "code",
   "execution_count": 4,
   "id": "b1e826bf",
   "metadata": {
    "execution": {
     "iopub.execute_input": "2025-04-15T08:56:48.731485Z",
     "iopub.status.busy": "2025-04-15T08:56:48.731208Z",
     "iopub.status.idle": "2025-04-15T08:56:48.736069Z",
     "shell.execute_reply": "2025-04-15T08:56:48.735166Z"
    },
    "papermill": {
     "duration": 0.011875,
     "end_time": "2025-04-15T08:56:48.737569",
     "exception": false,
     "start_time": "2025-04-15T08:56:48.725694",
     "status": "completed"
    },
    "tags": []
   },
   "outputs": [],
   "source": [
    "from tensorflow.keras import layers, models\n",
    "\n",
    "def build_cnn_model(input_shape=(8, 8, 1)):\n",
    "    # Define the input layer\n",
    "    input_tensor = layers.Input(shape=input_shape)\n",
    "    \n",
    "    # Convolutional layer\n",
    "    x = layers.Conv2D(64, (3, 3), padding='same')(input_tensor)\n",
    "    x = layers.BatchNormalization()(x)\n",
    "    x = layers.ReLU()(x)\n",
    "    \n",
    "    # Flatten layer\n",
    "    x = layers.Flatten()(x)\n",
    "    \n",
    "    # Create the model\n",
    "    model = models.Model(inputs=input_tensor, outputs=x)\n",
    "    \n",
    "    return model\n",
    "\n",
    "# # Example usage:\n",
    "# cnn_model = build_cnn_model(input_shape=(8, 8, 1))\n",
    "# cnn_model.summary()\n"
   ]
  },
  {
   "cell_type": "markdown",
   "id": "9dde29e1",
   "metadata": {
    "papermill": {
     "duration": 0.007048,
     "end_time": "2025-04-15T08:56:48.749630",
     "exception": false,
     "start_time": "2025-04-15T08:56:48.742582",
     "status": "completed"
    },
    "tags": []
   },
   "source": [
    "# Building the Combined Model"
   ]
  },
  {
   "cell_type": "code",
   "execution_count": 5,
   "id": "a32ba5c2",
   "metadata": {
    "execution": {
     "iopub.execute_input": "2025-04-15T08:56:48.763606Z",
     "iopub.status.busy": "2025-04-15T08:56:48.763329Z",
     "iopub.status.idle": "2025-04-15T08:56:49.056975Z",
     "shell.execute_reply": "2025-04-15T08:56:49.056081Z"
    },
    "papermill": {
     "duration": 0.301324,
     "end_time": "2025-04-15T08:56:49.058946",
     "exception": false,
     "start_time": "2025-04-15T08:56:48.757622",
     "status": "completed"
    },
    "tags": []
   },
   "outputs": [
    {
     "name": "stdout",
     "output_type": "stream",
     "text": [
      "(None, 48, 48, 8)\n",
      "(None, 48, 48, 8)\n",
      "(None, 48, 48, 8)\n",
      "(None, 48, 48, 8)\n"
     ]
    }
   ],
   "source": [
    "from tensorflow.keras import layers, models, Input\n",
    "\n",
    "def build_combined_model():\n",
    "    # Define input shapes\n",
    "    input_shape_3d = (8, 95, 95, 2)\n",
    "    input_shape_radial = (95, 95, 8)\n",
    "    input_shape_cnn = (8, 8, 1)\n",
    "    \n",
    "    input_shape_latitude = (8,)\n",
    "    input_shape_longitude = (8,)\n",
    "    input_shape_other = (9,)\n",
    "\n",
    "    # Build individual models\n",
    "    model_3d = build_tgru_model(input_shape=input_shape_3d)\n",
    "    model_radial = radial_structure_subnet(input_shape=input_shape_radial)\n",
    "    model_cnn = build_cnn_model(input_shape=input_shape_cnn)\n",
    "\n",
    "    # Define new inputs\n",
    "    input_latitude = Input(shape=input_shape_latitude ,name=\"latitude_input\")\n",
    "    input_longitude = Input(shape=input_shape_longitude, name=\"longitude_input\")\n",
    "    input_other = Input(shape=input_shape_other, name=\"other_input\")\n",
    "\n",
    "    # Flatten the additional inputs\n",
    "    flat_latitude = layers.Dense(32,activation='relu')(input_latitude)\n",
    "    flat_longitude = layers.Dense(32,activation='relu')(input_longitude)\n",
    "    flat_other = layers.Dense(64,activation='relu')(input_other)\n",
    "\n",
    "    # Combine all outputs\n",
    "    combined = layers.concatenate([\n",
    "        model_3d.output, \n",
    "        model_radial.output, \n",
    "        model_cnn.output,\n",
    "        flat_latitude, \n",
    "        flat_longitude, \n",
    "        flat_other\n",
    "    ])\n",
    "\n",
    "    # Add dense layers for final processing\n",
    "    x = layers.Dense(128, activation='relu')(combined)  \n",
    "    x = layers.Dense(1, activation=None)(x)\n",
    "\n",
    "    # Create the final model\n",
    "    final_model = models.Model(\n",
    "        inputs=[model_3d.input, model_radial.input, model_cnn.input,\n",
    "                input_latitude, input_longitude, input_other ],\n",
    "        outputs=x\n",
    "    )\n",
    "\n",
    "    return final_model\n",
    "# l\n",
    "# Build and summarize the updated mode\n",
    "final_model = build_combined_model()\n",
    "# final_model.summary()\n"
   ]
  },
  {
   "cell_type": "markdown",
   "id": "2463d083",
   "metadata": {
    "papermill": {
     "duration": 0.00925,
     "end_time": "2025-04-15T08:56:49.077846",
     "exception": false,
     "start_time": "2025-04-15T08:56:49.068596",
     "status": "completed"
    },
    "tags": []
   },
   "source": [
    "# Reinitializing the Model"
   ]
  },
  {
   "cell_type": "code",
   "execution_count": 6,
   "id": "9f9be25a",
   "metadata": {
    "execution": {
     "iopub.execute_input": "2025-04-15T08:56:49.094801Z",
     "iopub.status.busy": "2025-04-15T08:56:49.094390Z",
     "iopub.status.idle": "2025-04-15T08:56:49.734727Z",
     "shell.execute_reply": "2025-04-15T08:56:49.733607Z"
    },
    "papermill": {
     "duration": 0.648885,
     "end_time": "2025-04-15T08:56:49.736589",
     "exception": false,
     "start_time": "2025-04-15T08:56:49.087704",
     "status": "completed"
    },
    "tags": []
   },
   "outputs": [
    {
     "name": "stdout",
     "output_type": "stream",
     "text": [
      "(None, 48, 48, 8)\n",
      "(None, 48, 48, 8)\n",
      "(None, 48, 48, 8)\n",
      "(None, 48, 48, 8)\n"
     ]
    }
   ],
   "source": [
    "import tensorflow as tf\n",
    "from keras import backend as K\n",
    "\n",
    "# Clear session to remove any previously created computation graphs\n",
    "K.clear_session()\n",
    "tf.keras.backend.clear_session()\n",
    "\n",
    "# Re-initialize the model\n",
    "final_model = build_combined_model()\n"
   ]
  },
  {
   "cell_type": "markdown",
   "id": "8b0ff7ae",
   "metadata": {
    "papermill": {
     "duration": 0.005888,
     "end_time": "2025-04-15T08:56:49.752679",
     "exception": false,
     "start_time": "2025-04-15T08:56:49.746791",
     "status": "completed"
    },
    "tags": []
   },
   "source": [
    "# Compiling the Model"
   ]
  },
  {
   "cell_type": "code",
   "execution_count": 7,
   "id": "03251fd8",
   "metadata": {
    "execution": {
     "iopub.execute_input": "2025-04-15T08:56:49.764486Z",
     "iopub.status.busy": "2025-04-15T08:56:49.764073Z",
     "iopub.status.idle": "2025-04-15T08:56:49.768251Z",
     "shell.execute_reply": "2025-04-15T08:56:49.767401Z"
    },
    "papermill": {
     "duration": 0.011639,
     "end_time": "2025-04-15T08:56:49.769619",
     "exception": false,
     "start_time": "2025-04-15T08:56:49.757980",
     "status": "completed"
    },
    "tags": []
   },
   "outputs": [],
   "source": [
    "from tensorflow.keras import layers, models, optimizers"
   ]
  },
  {
   "cell_type": "code",
   "execution_count": 8,
   "id": "8ee9b10f",
   "metadata": {
    "execution": {
     "iopub.execute_input": "2025-04-15T08:56:49.781385Z",
     "iopub.status.busy": "2025-04-15T08:56:49.781067Z",
     "iopub.status.idle": "2025-04-15T08:56:49.798239Z",
     "shell.execute_reply": "2025-04-15T08:56:49.797375Z"
    },
    "papermill": {
     "duration": 0.024898,
     "end_time": "2025-04-15T08:56:49.799860",
     "exception": false,
     "start_time": "2025-04-15T08:56:49.774962",
     "status": "completed"
    },
    "tags": []
   },
   "outputs": [],
   "source": [
    "final_model.compile(optimizer=optimizers.Adam(learning_rate=0.001),\n",
    "                    loss='mse',  # Use 'categorical_crossentropy' for multi-class\n",
    "                    metrics=['accuracy'])\n",
    "\n"
   ]
  },
  {
   "cell_type": "markdown",
   "id": "f26d14ee",
   "metadata": {
    "papermill": {
     "duration": 0.005105,
     "end_time": "2025-04-15T08:56:49.810649",
     "exception": false,
     "start_time": "2025-04-15T08:56:49.805544",
     "status": "completed"
    },
    "tags": []
   },
   "source": [
    "# Loading our Extracted data from TCIR dataset"
   ]
  },
  {
   "cell_type": "code",
   "execution_count": 9,
   "id": "733ccbca",
   "metadata": {
    "execution": {
     "iopub.execute_input": "2025-04-15T08:56:49.822787Z",
     "iopub.status.busy": "2025-04-15T08:56:49.822375Z",
     "iopub.status.idle": "2025-04-15T08:57:33.001199Z",
     "shell.execute_reply": "2025-04-15T08:57:33.000449Z"
    },
    "papermill": {
     "duration": 43.186785,
     "end_time": "2025-04-15T08:57:33.002814",
     "exception": false,
     "start_time": "2025-04-15T08:56:49.816029",
     "status": "completed"
    },
    "tags": []
   },
   "outputs": [],
   "source": [
    "import numpy as np\n",
    "reduced_images=np.load('/kaggle/input/project-data-set/reduced_images.npy')\n",
    "hov_m_train=np.load('/kaggle/input/project-data-set/hov_m_train.npy')\n",
    "train_vmax_3d=np.load('/kaggle/input/project-data-set/train_vmax_3d.npy')\n",
    "lat_train=np.load('/kaggle/input/project-data-set/lat_train.npy')\n",
    "lon_train=np.load('/kaggle/input/project-data-set/lon_train.npy')\n",
    "int_diff_train=np.load('/kaggle/input/project-data-set/int_diff_train.npy')\n",
    "y_train_avg=np.load('/kaggle/input/project-data-set/y_train_avg.npy')\n",
    "reduced_images_test=np.load('/kaggle/input/project-data-set/reduced_images_test.npy')\n",
    "hov_m_test=np.load('/kaggle/input/project-data-set/hov_m_test.npy')\n",
    "test_vmax_3d=np.load('/kaggle/input/project-data-set/test_vmax_3d.npy')\n",
    "lat_test=np.load('/kaggle/input/project-data-set/lat_test.npy')\n",
    "lon_test=np.load('/kaggle/input/project-data-set/lon_test.npy')\n",
    "int_diff_test=np.load('/kaggle/input/project-data-set/int_diff_test.npy')\n",
    "y_test_avg=np.load('/kaggle/input/project-data-set/y_test_avg.npy')\n",
    "reduced_images_valid=np.load('/kaggle/input/project-data-set/reduced_images_valid.npy')\n",
    "hov_m_valid=np.load('/kaggle/input/project-data-set/hov_m_valid.npy')\n",
    "valid_vmax_3d=np.load('/kaggle/input/project-data-set/valid_vmax_3d.npy')\n",
    "lat_valid=np.load('/kaggle/input/project-data-set/lat_valid.npy')\n",
    "lon_valid=np.load('/kaggle/input/project-data-set/lon_valid.npy')\n",
    "int_diff_valid=np.load('/kaggle/input/project-data-set/int_diff_valid.npy')\n",
    "y_valid_avg=np.load('/kaggle/input/project-data-set/y_valid_avg.npy')\n",
    "\n"
   ]
  },
  {
   "cell_type": "markdown",
   "id": "d0ca5015",
   "metadata": {
    "papermill": {
     "duration": 0.004968,
     "end_time": "2025-04-15T08:57:33.013595",
     "exception": false,
     "start_time": "2025-04-15T08:57:33.008627",
     "status": "completed"
    },
    "tags": []
   },
   "source": [
    "# Fitting the Model and Prediction"
   ]
  },
  {
   "cell_type": "code",
   "execution_count": 10,
   "id": "46f03d02",
   "metadata": {
    "execution": {
     "iopub.execute_input": "2025-04-15T08:57:33.024552Z",
     "iopub.status.busy": "2025-04-15T08:57:33.024278Z",
     "iopub.status.idle": "2025-04-15T09:00:02.931667Z",
     "shell.execute_reply": "2025-04-15T09:00:02.930787Z"
    },
    "papermill": {
     "duration": 149.914632,
     "end_time": "2025-04-15T09:00:02.933238",
     "exception": false,
     "start_time": "2025-04-15T08:57:33.018606",
     "status": "completed"
    },
    "tags": []
   },
   "outputs": [
    {
     "name": "stdout",
     "output_type": "stream",
     "text": [
      "\u001b[1m311/311\u001b[0m \u001b[32m━━━━━━━━━━━━━━━━━━━━\u001b[0m\u001b[37m\u001b[0m \u001b[1m138s\u001b[0m 333ms/step - accuracy: 0.0000e+00 - loss: 2755.1465 - val_accuracy: 0.0000e+00 - val_loss: 134.8318\n"
     ]
    },
    {
     "data": {
      "text/plain": [
       "<keras.src.callbacks.history.History at 0x78e67b5ab730>"
      ]
     },
     "execution_count": 10,
     "metadata": {},
     "output_type": "execute_result"
    }
   ],
   "source": [
    "final_model.fit(\n",
    "    [reduced_images, hov_m_train, train_vmax_3d, lat_train, lon_train, int_diff_train], \n",
    "    y_train_avg, \n",
    "    validation_data=(\n",
    "        [reduced_images_valid, hov_m_valid, valid_vmax_3d, lat_valid, lon_valid, int_diff_valid], \n",
    "        y_valid_avg\n",
    "    ),\n",
    "    epochs=1,\n",
    "    batch_size=16\n",
    ")\n"
   ]
  },
  {
   "cell_type": "code",
   "execution_count": 11,
   "id": "578f4285",
   "metadata": {
    "execution": {
     "iopub.execute_input": "2025-04-15T09:00:02.975110Z",
     "iopub.status.busy": "2025-04-15T09:00:02.974739Z",
     "iopub.status.idle": "2025-04-15T09:00:03.345972Z",
     "shell.execute_reply": "2025-04-15T09:00:03.344966Z"
    },
    "papermill": {
     "duration": 0.393983,
     "end_time": "2025-04-15T09:00:03.347725",
     "exception": false,
     "start_time": "2025-04-15T09:00:02.953742",
     "status": "completed"
    },
    "tags": []
   },
   "outputs": [],
   "source": [
    "final_model.save_weights(\"Trj_GRU.weights.h5\")\n"
   ]
  },
  {
   "cell_type": "code",
   "execution_count": 12,
   "id": "d498dcaa",
   "metadata": {
    "execution": {
     "iopub.execute_input": "2025-04-15T09:00:03.390192Z",
     "iopub.status.busy": "2025-04-15T09:00:03.389837Z",
     "iopub.status.idle": "2025-04-15T09:00:17.231755Z",
     "shell.execute_reply": "2025-04-15T09:00:17.230975Z"
    },
    "papermill": {
     "duration": 13.864543,
     "end_time": "2025-04-15T09:00:17.233449",
     "exception": false,
     "start_time": "2025-04-15T09:00:03.368906",
     "status": "completed"
    },
    "tags": []
   },
   "outputs": [
    {
     "name": "stdout",
     "output_type": "stream",
     "text": [
      "\u001b[1m30/30\u001b[0m \u001b[32m━━━━━━━━━━━━━━━━━━━━\u001b[0m\u001b[37m\u001b[0m \u001b[1m12s\u001b[0m 212ms/step\n"
     ]
    }
   ],
   "source": [
    " y=final_model.predict([reduced_images_test,hov_m_test,test_vmax_3d,lat_test,lon_test,int_diff_test ])"
   ]
  },
  {
   "cell_type": "code",
   "execution_count": 13,
   "id": "16e5cb4c",
   "metadata": {
    "execution": {
     "iopub.execute_input": "2025-04-15T09:00:17.277387Z",
     "iopub.status.busy": "2025-04-15T09:00:17.277096Z",
     "iopub.status.idle": "2025-04-15T09:00:18.078611Z",
     "shell.execute_reply": "2025-04-15T09:00:18.077892Z"
    },
    "papermill": {
     "duration": 0.825098,
     "end_time": "2025-04-15T09:00:18.080206",
     "exception": false,
     "start_time": "2025-04-15T09:00:17.255108",
     "status": "completed"
    },
    "tags": []
   },
   "outputs": [],
   "source": [
    "from sklearn.metrics import mean_squared_error, mean_absolute_error\n",
    "import numpy as np"
   ]
  },
  {
   "cell_type": "markdown",
   "id": "45b8100d",
   "metadata": {
    "papermill": {
     "duration": 0.020716,
     "end_time": "2025-04-15T09:00:18.122133",
     "exception": false,
     "start_time": "2025-04-15T09:00:18.101417",
     "status": "completed"
    },
    "tags": []
   },
   "source": [
    "# Model Evaluation"
   ]
  },
  {
   "cell_type": "code",
   "execution_count": 14,
   "id": "754493af",
   "metadata": {
    "execution": {
     "iopub.execute_input": "2025-04-15T09:00:18.165218Z",
     "iopub.status.busy": "2025-04-15T09:00:18.164393Z",
     "iopub.status.idle": "2025-04-15T09:00:18.170431Z",
     "shell.execute_reply": "2025-04-15T09:00:18.169744Z"
    },
    "papermill": {
     "duration": 0.028889,
     "end_time": "2025-04-15T09:00:18.171726",
     "exception": false,
     "start_time": "2025-04-15T09:00:18.142837",
     "status": "completed"
    },
    "tags": []
   },
   "outputs": [],
   "source": [
    "mae = mean_absolute_error(y_test_avg, y)"
   ]
  },
  {
   "cell_type": "code",
   "execution_count": 15,
   "id": "417742e1",
   "metadata": {
    "execution": {
     "iopub.execute_input": "2025-04-15T09:00:18.214065Z",
     "iopub.status.busy": "2025-04-15T09:00:18.213741Z",
     "iopub.status.idle": "2025-04-15T09:00:18.218454Z",
     "shell.execute_reply": "2025-04-15T09:00:18.217790Z"
    },
    "papermill": {
     "duration": 0.02736,
     "end_time": "2025-04-15T09:00:18.219703",
     "exception": false,
     "start_time": "2025-04-15T09:00:18.192343",
     "status": "completed"
    },
    "tags": []
   },
   "outputs": [
    {
     "data": {
      "text/plain": [
       "9.453050366902756"
      ]
     },
     "execution_count": 15,
     "metadata": {},
     "output_type": "execute_result"
    }
   ],
   "source": [
    "mae"
   ]
  },
  {
   "cell_type": "code",
   "execution_count": 16,
   "id": "779e3a0d",
   "metadata": {
    "execution": {
     "iopub.execute_input": "2025-04-15T09:00:18.262139Z",
     "iopub.status.busy": "2025-04-15T09:00:18.261764Z",
     "iopub.status.idle": "2025-04-15T09:00:18.267129Z",
     "shell.execute_reply": "2025-04-15T09:00:18.266025Z"
    },
    "papermill": {
     "duration": 0.028061,
     "end_time": "2025-04-15T09:00:18.268555",
     "exception": false,
     "start_time": "2025-04-15T09:00:18.240494",
     "status": "completed"
    },
    "tags": []
   },
   "outputs": [
    {
     "name": "stdout",
     "output_type": "stream",
     "text": [
      "13.22284762889898\n"
     ]
    }
   ],
   "source": [
    "rmse = mean_squared_error(y_test_avg, y, squared=False)\n",
    "print(rmse)"
   ]
  }
 ],
 "metadata": {
  "kaggle": {
   "accelerator": "gpu",
   "dataSources": [
    {
     "datasetId": 6769161,
     "sourceId": 10892566,
     "sourceType": "datasetVersion"
    }
   ],
   "dockerImageVersionId": 30919,
   "isGpuEnabled": true,
   "isInternetEnabled": true,
   "language": "python",
   "sourceType": "notebook"
  },
  "kernelspec": {
   "display_name": "Python 3",
   "language": "python",
   "name": "python3"
  },
  "language_info": {
   "codemirror_mode": {
    "name": "ipython",
    "version": 3
   },
   "file_extension": ".py",
   "mimetype": "text/x-python",
   "name": "python",
   "nbconvert_exporter": "python",
   "pygments_lexer": "ipython3",
   "version": "3.10.12"
  },
  "papermill": {
   "default_parameters": {},
   "duration": 230.934867,
   "end_time": "2025-04-15T09:00:21.695227",
   "environment_variables": {},
   "exception": null,
   "input_path": "__notebook__.ipynb",
   "output_path": "__notebook__.ipynb",
   "parameters": {},
   "start_time": "2025-04-15T08:56:30.760360",
   "version": "2.6.0"
  }
 },
 "nbformat": 4,
 "nbformat_minor": 5
}
